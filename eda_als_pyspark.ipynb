{
  "cells": [
    {
      "metadata": {
        "_cell_guid": "b1076dfc-b9ad-4769-8c92-a6c4dae69d19",
        "_uuid": "8f2839f25d086af736a60e9eeb907d3b93b6e0e5",
        "trusted": true,
        "colab": {
          "base_uri": "https://localhost:8080/",
          "height": 17
        },
        "id": "xd1Oj9kV6pzs",
        "outputId": "3be432ce-bd11-4ea8-a095-72a0f7ce5052"
      },
      "cell_type": "code",
      "source": [
        "#import libraries\n",
        "import numpy as np # linear algebra\n",
        "import pandas as pd\n",
        "import seaborn as sns\n",
        "# plotly\n",
        "# import plotly.plotly as py\n",
        "from plotly.offline import init_notebook_mode, iplot, plot\n",
        "import plotly as py\n",
        "init_notebook_mode(connected=True) #offline modela ilgili\n",
        "import plotly.graph_objs as go\n",
        "\n",
        "\n",
        "from wordcloud import WordCloud\n",
        "# matplotlib\n",
        "import matplotlib.pyplot as plt\n",
        "#import libraries\n",
        "import numpy as np # linear algebra\n",
        "import pandas as pd\n",
        "import seaborn as sns\n",
        "# plotly\n",
        "# import plotly.plotly as py\n",
        "from plotly.offline import init_notebook_mode, iplot, plot\n",
        "import plotly as py\n",
        "init_notebook_mode(connected=True) #offline modela ilgili\n",
        "import plotly.graph_objs as go\n",
        "\n",
        "\n",
        "from wordcloud import WordCloud\n",
        "# matplotlib\n",
        "import matplotlib.pyplot as plt"
      ],
      "execution_count": 6,
      "outputs": [
        {
          "output_type": "display_data",
          "data": {
            "text/html": [
              "        <script type=\"text/javascript\">\n",
              "        window.PlotlyConfig = {MathJaxConfig: 'local'};\n",
              "        if (window.MathJax && window.MathJax.Hub && window.MathJax.Hub.Config) {window.MathJax.Hub.Config({SVG: {font: \"STIX-Web\"}});}\n",
              "        if (typeof require !== 'undefined') {\n",
              "        require.undef(\"plotly\");\n",
              "        requirejs.config({\n",
              "            paths: {\n",
              "                'plotly': ['https://cdn.plot.ly/plotly-2.35.2.min']\n",
              "            }\n",
              "        });\n",
              "        require(['plotly'], function(Plotly) {\n",
              "            window._Plotly = Plotly;\n",
              "        });\n",
              "        }\n",
              "        </script>\n",
              "        "
            ]
          },
          "metadata": {}
        },
        {
          "output_type": "display_data",
          "data": {
            "text/html": [
              "        <script type=\"text/javascript\">\n",
              "        window.PlotlyConfig = {MathJaxConfig: 'local'};\n",
              "        if (window.MathJax && window.MathJax.Hub && window.MathJax.Hub.Config) {window.MathJax.Hub.Config({SVG: {font: \"STIX-Web\"}});}\n",
              "        if (typeof require !== 'undefined') {\n",
              "        require.undef(\"plotly\");\n",
              "        requirejs.config({\n",
              "            paths: {\n",
              "                'plotly': ['https://cdn.plot.ly/plotly-2.35.2.min']\n",
              "            }\n",
              "        });\n",
              "        require(['plotly'], function(Plotly) {\n",
              "            window._Plotly = Plotly;\n",
              "        });\n",
              "        }\n",
              "        </script>\n",
              "        "
            ]
          },
          "metadata": {}
        }
      ]
    },
    {
      "metadata": {
        "_cell_guid": "79c7e3d0-c299-4dcb-8224-4455121ee9b0",
        "_uuid": "d629ff2d2480ee46fbb7e2d37f6b5fab8052498a",
        "trusted": true,
        "id": "ywiB46i66pzv"
      },
      "cell_type": "code",
      "source": [
        "#read the data\n",
        "book_tags = pd.read_csv('book_tags.csv',encoding=\"Latin1\")\n",
        "books = pd.read_csv('books.csv', encoding=\"Latin1\")\n",
        "ratings = pd.read_csv('ratings.csv',encoding=\"Latin1\")\n",
        "tags = pd.read_csv('tags.csv', encoding=\"Latin1\")\n",
        "to_read = pd.read_csv('to_read.csv',encoding=\"Latin1\")"
      ],
      "execution_count": 7,
      "outputs": []
    },
    {
      "metadata": {
        "id": "eZaaT4z-6pzv"
      },
      "cell_type": "markdown",
      "source": [
        "# EDA"
      ]
    },
    {
      "metadata": {
        "trusted": true,
        "colab": {
          "base_uri": "https://localhost:8080/",
          "height": 231
        },
        "id": "hE8hbUCm6pzw",
        "outputId": "78629739-fc45-4a6d-b516-f86e6f0e01f2"
      },
      "cell_type": "code",
      "source": [
        "books.head(2)"
      ],
      "execution_count": 8,
      "outputs": [
        {
          "output_type": "execute_result",
          "data": {
            "text/plain": [
              "   id  book_id  best_book_id  work_id  books_count       isbn        isbn13  \\\n",
              "0   1  2767052       2767052  2792775          272  439023483  9.780439e+12   \n",
              "1   2        3             3  4640799          491  439554934  9.780440e+12   \n",
              "\n",
              "                        authors  original_publication_year  \\\n",
              "0               Suzanne Collins                     2008.0   \n",
              "1  J.K. Rowling, Mary GrandPrÃ©                     1997.0   \n",
              "\n",
              "                             original_title  ... ratings_count  \\\n",
              "0                          The Hunger Games  ...       4780653   \n",
              "1  Harry Potter and the Philosopher's Stone  ...       4602479   \n",
              "\n",
              "  work_ratings_count  work_text_reviews_count  ratings_1  ratings_2  \\\n",
              "0            4942365                   155254      66715     127936   \n",
              "1            4800065                    75867      75504     101676   \n",
              "\n",
              "   ratings_3  ratings_4  ratings_5  \\\n",
              "0     560092    1481305    2706317   \n",
              "1     455024    1156318    3011543   \n",
              "\n",
              "                                           image_url  \\\n",
              "0  https://images.gr-assets.com/books/1447303603m...   \n",
              "1  https://images.gr-assets.com/books/1474154022m...   \n",
              "\n",
              "                                     small_image_url  \n",
              "0  https://images.gr-assets.com/books/1447303603s...  \n",
              "1  https://images.gr-assets.com/books/1474154022s...  \n",
              "\n",
              "[2 rows x 23 columns]"
            ],
            "text/html": [
              "\n",
              "  <div id=\"df-f956f731-8ea4-42a1-a915-90ca5e3186d3\" class=\"colab-df-container\">\n",
              "    <div>\n",
              "<style scoped>\n",
              "    .dataframe tbody tr th:only-of-type {\n",
              "        vertical-align: middle;\n",
              "    }\n",
              "\n",
              "    .dataframe tbody tr th {\n",
              "        vertical-align: top;\n",
              "    }\n",
              "\n",
              "    .dataframe thead th {\n",
              "        text-align: right;\n",
              "    }\n",
              "</style>\n",
              "<table border=\"1\" class=\"dataframe\">\n",
              "  <thead>\n",
              "    <tr style=\"text-align: right;\">\n",
              "      <th></th>\n",
              "      <th>id</th>\n",
              "      <th>book_id</th>\n",
              "      <th>best_book_id</th>\n",
              "      <th>work_id</th>\n",
              "      <th>books_count</th>\n",
              "      <th>isbn</th>\n",
              "      <th>isbn13</th>\n",
              "      <th>authors</th>\n",
              "      <th>original_publication_year</th>\n",
              "      <th>original_title</th>\n",
              "      <th>...</th>\n",
              "      <th>ratings_count</th>\n",
              "      <th>work_ratings_count</th>\n",
              "      <th>work_text_reviews_count</th>\n",
              "      <th>ratings_1</th>\n",
              "      <th>ratings_2</th>\n",
              "      <th>ratings_3</th>\n",
              "      <th>ratings_4</th>\n",
              "      <th>ratings_5</th>\n",
              "      <th>image_url</th>\n",
              "      <th>small_image_url</th>\n",
              "    </tr>\n",
              "  </thead>\n",
              "  <tbody>\n",
              "    <tr>\n",
              "      <th>0</th>\n",
              "      <td>1</td>\n",
              "      <td>2767052</td>\n",
              "      <td>2767052</td>\n",
              "      <td>2792775</td>\n",
              "      <td>272</td>\n",
              "      <td>439023483</td>\n",
              "      <td>9.780439e+12</td>\n",
              "      <td>Suzanne Collins</td>\n",
              "      <td>2008.0</td>\n",
              "      <td>The Hunger Games</td>\n",
              "      <td>...</td>\n",
              "      <td>4780653</td>\n",
              "      <td>4942365</td>\n",
              "      <td>155254</td>\n",
              "      <td>66715</td>\n",
              "      <td>127936</td>\n",
              "      <td>560092</td>\n",
              "      <td>1481305</td>\n",
              "      <td>2706317</td>\n",
              "      <td>https://images.gr-assets.com/books/1447303603m...</td>\n",
              "      <td>https://images.gr-assets.com/books/1447303603s...</td>\n",
              "    </tr>\n",
              "    <tr>\n",
              "      <th>1</th>\n",
              "      <td>2</td>\n",
              "      <td>3</td>\n",
              "      <td>3</td>\n",
              "      <td>4640799</td>\n",
              "      <td>491</td>\n",
              "      <td>439554934</td>\n",
              "      <td>9.780440e+12</td>\n",
              "      <td>J.K. Rowling, Mary GrandPrÃ©</td>\n",
              "      <td>1997.0</td>\n",
              "      <td>Harry Potter and the Philosopher's Stone</td>\n",
              "      <td>...</td>\n",
              "      <td>4602479</td>\n",
              "      <td>4800065</td>\n",
              "      <td>75867</td>\n",
              "      <td>75504</td>\n",
              "      <td>101676</td>\n",
              "      <td>455024</td>\n",
              "      <td>1156318</td>\n",
              "      <td>3011543</td>\n",
              "      <td>https://images.gr-assets.com/books/1474154022m...</td>\n",
              "      <td>https://images.gr-assets.com/books/1474154022s...</td>\n",
              "    </tr>\n",
              "  </tbody>\n",
              "</table>\n",
              "<p>2 rows × 23 columns</p>\n",
              "</div>\n",
              "    <div class=\"colab-df-buttons\">\n",
              "\n",
              "  <div class=\"colab-df-container\">\n",
              "    <button class=\"colab-df-convert\" onclick=\"convertToInteractive('df-f956f731-8ea4-42a1-a915-90ca5e3186d3')\"\n",
              "            title=\"Convert this dataframe to an interactive table.\"\n",
              "            style=\"display:none;\">\n",
              "\n",
              "  <svg xmlns=\"http://www.w3.org/2000/svg\" height=\"24px\" viewBox=\"0 -960 960 960\">\n",
              "    <path d=\"M120-120v-720h720v720H120Zm60-500h600v-160H180v160Zm220 220h160v-160H400v160Zm0 220h160v-160H400v160ZM180-400h160v-160H180v160Zm440 0h160v-160H620v160ZM180-180h160v-160H180v160Zm440 0h160v-160H620v160Z\"/>\n",
              "  </svg>\n",
              "    </button>\n",
              "\n",
              "  <style>\n",
              "    .colab-df-container {\n",
              "      display:flex;\n",
              "      gap: 12px;\n",
              "    }\n",
              "\n",
              "    .colab-df-convert {\n",
              "      background-color: #E8F0FE;\n",
              "      border: none;\n",
              "      border-radius: 50%;\n",
              "      cursor: pointer;\n",
              "      display: none;\n",
              "      fill: #1967D2;\n",
              "      height: 32px;\n",
              "      padding: 0 0 0 0;\n",
              "      width: 32px;\n",
              "    }\n",
              "\n",
              "    .colab-df-convert:hover {\n",
              "      background-color: #E2EBFA;\n",
              "      box-shadow: 0px 1px 2px rgba(60, 64, 67, 0.3), 0px 1px 3px 1px rgba(60, 64, 67, 0.15);\n",
              "      fill: #174EA6;\n",
              "    }\n",
              "\n",
              "    .colab-df-buttons div {\n",
              "      margin-bottom: 4px;\n",
              "    }\n",
              "\n",
              "    [theme=dark] .colab-df-convert {\n",
              "      background-color: #3B4455;\n",
              "      fill: #D2E3FC;\n",
              "    }\n",
              "\n",
              "    [theme=dark] .colab-df-convert:hover {\n",
              "      background-color: #434B5C;\n",
              "      box-shadow: 0px 1px 3px 1px rgba(0, 0, 0, 0.15);\n",
              "      filter: drop-shadow(0px 1px 2px rgba(0, 0, 0, 0.3));\n",
              "      fill: #FFFFFF;\n",
              "    }\n",
              "  </style>\n",
              "\n",
              "    <script>\n",
              "      const buttonEl =\n",
              "        document.querySelector('#df-f956f731-8ea4-42a1-a915-90ca5e3186d3 button.colab-df-convert');\n",
              "      buttonEl.style.display =\n",
              "        google.colab.kernel.accessAllowed ? 'block' : 'none';\n",
              "\n",
              "      async function convertToInteractive(key) {\n",
              "        const element = document.querySelector('#df-f956f731-8ea4-42a1-a915-90ca5e3186d3');\n",
              "        const dataTable =\n",
              "          await google.colab.kernel.invokeFunction('convertToInteractive',\n",
              "                                                    [key], {});\n",
              "        if (!dataTable) return;\n",
              "\n",
              "        const docLinkHtml = 'Like what you see? Visit the ' +\n",
              "          '<a target=\"_blank\" href=https://colab.research.google.com/notebooks/data_table.ipynb>data table notebook</a>'\n",
              "          + ' to learn more about interactive tables.';\n",
              "        element.innerHTML = '';\n",
              "        dataTable['output_type'] = 'display_data';\n",
              "        await google.colab.output.renderOutput(dataTable, element);\n",
              "        const docLink = document.createElement('div');\n",
              "        docLink.innerHTML = docLinkHtml;\n",
              "        element.appendChild(docLink);\n",
              "      }\n",
              "    </script>\n",
              "  </div>\n",
              "\n",
              "\n",
              "<div id=\"df-aabb34b7-38ac-4ab4-8f1c-de44f98f2870\">\n",
              "  <button class=\"colab-df-quickchart\" onclick=\"quickchart('df-aabb34b7-38ac-4ab4-8f1c-de44f98f2870')\"\n",
              "            title=\"Suggest charts\"\n",
              "            style=\"display:none;\">\n",
              "\n",
              "<svg xmlns=\"http://www.w3.org/2000/svg\" height=\"24px\"viewBox=\"0 0 24 24\"\n",
              "     width=\"24px\">\n",
              "    <g>\n",
              "        <path d=\"M19 3H5c-1.1 0-2 .9-2 2v14c0 1.1.9 2 2 2h14c1.1 0 2-.9 2-2V5c0-1.1-.9-2-2-2zM9 17H7v-7h2v7zm4 0h-2V7h2v10zm4 0h-2v-4h2v4z\"/>\n",
              "    </g>\n",
              "</svg>\n",
              "  </button>\n",
              "\n",
              "<style>\n",
              "  .colab-df-quickchart {\n",
              "      --bg-color: #E8F0FE;\n",
              "      --fill-color: #1967D2;\n",
              "      --hover-bg-color: #E2EBFA;\n",
              "      --hover-fill-color: #174EA6;\n",
              "      --disabled-fill-color: #AAA;\n",
              "      --disabled-bg-color: #DDD;\n",
              "  }\n",
              "\n",
              "  [theme=dark] .colab-df-quickchart {\n",
              "      --bg-color: #3B4455;\n",
              "      --fill-color: #D2E3FC;\n",
              "      --hover-bg-color: #434B5C;\n",
              "      --hover-fill-color: #FFFFFF;\n",
              "      --disabled-bg-color: #3B4455;\n",
              "      --disabled-fill-color: #666;\n",
              "  }\n",
              "\n",
              "  .colab-df-quickchart {\n",
              "    background-color: var(--bg-color);\n",
              "    border: none;\n",
              "    border-radius: 50%;\n",
              "    cursor: pointer;\n",
              "    display: none;\n",
              "    fill: var(--fill-color);\n",
              "    height: 32px;\n",
              "    padding: 0;\n",
              "    width: 32px;\n",
              "  }\n",
              "\n",
              "  .colab-df-quickchart:hover {\n",
              "    background-color: var(--hover-bg-color);\n",
              "    box-shadow: 0 1px 2px rgba(60, 64, 67, 0.3), 0 1px 3px 1px rgba(60, 64, 67, 0.15);\n",
              "    fill: var(--button-hover-fill-color);\n",
              "  }\n",
              "\n",
              "  .colab-df-quickchart-complete:disabled,\n",
              "  .colab-df-quickchart-complete:disabled:hover {\n",
              "    background-color: var(--disabled-bg-color);\n",
              "    fill: var(--disabled-fill-color);\n",
              "    box-shadow: none;\n",
              "  }\n",
              "\n",
              "  .colab-df-spinner {\n",
              "    border: 2px solid var(--fill-color);\n",
              "    border-color: transparent;\n",
              "    border-bottom-color: var(--fill-color);\n",
              "    animation:\n",
              "      spin 1s steps(1) infinite;\n",
              "  }\n",
              "\n",
              "  @keyframes spin {\n",
              "    0% {\n",
              "      border-color: transparent;\n",
              "      border-bottom-color: var(--fill-color);\n",
              "      border-left-color: var(--fill-color);\n",
              "    }\n",
              "    20% {\n",
              "      border-color: transparent;\n",
              "      border-left-color: var(--fill-color);\n",
              "      border-top-color: var(--fill-color);\n",
              "    }\n",
              "    30% {\n",
              "      border-color: transparent;\n",
              "      border-left-color: var(--fill-color);\n",
              "      border-top-color: var(--fill-color);\n",
              "      border-right-color: var(--fill-color);\n",
              "    }\n",
              "    40% {\n",
              "      border-color: transparent;\n",
              "      border-right-color: var(--fill-color);\n",
              "      border-top-color: var(--fill-color);\n",
              "    }\n",
              "    60% {\n",
              "      border-color: transparent;\n",
              "      border-right-color: var(--fill-color);\n",
              "    }\n",
              "    80% {\n",
              "      border-color: transparent;\n",
              "      border-right-color: var(--fill-color);\n",
              "      border-bottom-color: var(--fill-color);\n",
              "    }\n",
              "    90% {\n",
              "      border-color: transparent;\n",
              "      border-bottom-color: var(--fill-color);\n",
              "    }\n",
              "  }\n",
              "</style>\n",
              "\n",
              "  <script>\n",
              "    async function quickchart(key) {\n",
              "      const quickchartButtonEl =\n",
              "        document.querySelector('#' + key + ' button');\n",
              "      quickchartButtonEl.disabled = true;  // To prevent multiple clicks.\n",
              "      quickchartButtonEl.classList.add('colab-df-spinner');\n",
              "      try {\n",
              "        const charts = await google.colab.kernel.invokeFunction(\n",
              "            'suggestCharts', [key], {});\n",
              "      } catch (error) {\n",
              "        console.error('Error during call to suggestCharts:', error);\n",
              "      }\n",
              "      quickchartButtonEl.classList.remove('colab-df-spinner');\n",
              "      quickchartButtonEl.classList.add('colab-df-quickchart-complete');\n",
              "    }\n",
              "    (() => {\n",
              "      let quickchartButtonEl =\n",
              "        document.querySelector('#df-aabb34b7-38ac-4ab4-8f1c-de44f98f2870 button');\n",
              "      quickchartButtonEl.style.display =\n",
              "        google.colab.kernel.accessAllowed ? 'block' : 'none';\n",
              "    })();\n",
              "  </script>\n",
              "</div>\n",
              "\n",
              "    </div>\n",
              "  </div>\n"
            ],
            "application/vnd.google.colaboratory.intrinsic+json": {
              "type": "dataframe",
              "variable_name": "books"
            }
          },
          "metadata": {},
          "execution_count": 8
        }
      ]
    },
    {
      "metadata": {
        "trusted": true,
        "colab": {
          "base_uri": "https://localhost:8080/"
        },
        "id": "_uXpLlRs6pzw",
        "outputId": "df053c23-4d7e-423d-deb7-7d2a55bd5b59"
      },
      "cell_type": "code",
      "source": [
        "books.shape"
      ],
      "execution_count": 9,
      "outputs": [
        {
          "output_type": "execute_result",
          "data": {
            "text/plain": [
              "(10000, 23)"
            ]
          },
          "metadata": {},
          "execution_count": 9
        }
      ]
    },
    {
      "metadata": {
        "id": "138HUvv-6pzx"
      },
      "cell_type": "markdown",
      "source": [
        "> - Data has tweenty three columns and 10000 rows."
      ]
    },
    {
      "metadata": {
        "trusted": true,
        "colab": {
          "base_uri": "https://localhost:8080/"
        },
        "id": "EeSan7OG6pzx",
        "outputId": "30378d59-7b23-4692-e7ae-0752a20a8b49"
      },
      "cell_type": "code",
      "source": [
        "books.info()"
      ],
      "execution_count": 10,
      "outputs": [
        {
          "output_type": "stream",
          "name": "stdout",
          "text": [
            "<class 'pandas.core.frame.DataFrame'>\n",
            "RangeIndex: 10000 entries, 0 to 9999\n",
            "Data columns (total 23 columns):\n",
            " #   Column                     Non-Null Count  Dtype  \n",
            "---  ------                     --------------  -----  \n",
            " 0   id                         10000 non-null  int64  \n",
            " 1   book_id                    10000 non-null  int64  \n",
            " 2   best_book_id               10000 non-null  int64  \n",
            " 3   work_id                    10000 non-null  int64  \n",
            " 4   books_count                10000 non-null  int64  \n",
            " 5   isbn                       9300 non-null   object \n",
            " 6   isbn13                     9415 non-null   float64\n",
            " 7   authors                    10000 non-null  object \n",
            " 8   original_publication_year  9979 non-null   float64\n",
            " 9   original_title             9415 non-null   object \n",
            " 10  title                      10000 non-null  object \n",
            " 11  language_code              8916 non-null   object \n",
            " 12  average_rating             10000 non-null  float64\n",
            " 13  ratings_count              10000 non-null  int64  \n",
            " 14  work_ratings_count         10000 non-null  int64  \n",
            " 15  work_text_reviews_count    10000 non-null  int64  \n",
            " 16  ratings_1                  10000 non-null  int64  \n",
            " 17  ratings_2                  10000 non-null  int64  \n",
            " 18  ratings_3                  10000 non-null  int64  \n",
            " 19  ratings_4                  10000 non-null  int64  \n",
            " 20  ratings_5                  10000 non-null  int64  \n",
            " 21  image_url                  10000 non-null  object \n",
            " 22  small_image_url            10000 non-null  object \n",
            "dtypes: float64(3), int64(13), object(7)\n",
            "memory usage: 1.8+ MB\n"
          ]
        }
      ]
    },
    {
      "metadata": {
        "trusted": true,
        "colab": {
          "base_uri": "https://localhost:8080/",
          "height": 320
        },
        "id": "r-NZkS5L6pzx",
        "outputId": "35d19ad4-461f-4a15-b300-63c7f84a91f0"
      },
      "cell_type": "code",
      "source": [
        "books.describe()"
      ],
      "execution_count": 11,
      "outputs": [
        {
          "output_type": "execute_result",
          "data": {
            "text/plain": [
              "                id       book_id  best_book_id       work_id   books_count  \\\n",
              "count  10000.00000  1.000000e+04  1.000000e+04  1.000000e+04  10000.000000   \n",
              "mean    5000.50000  5.264697e+06  5.471214e+06  8.646183e+06     75.712700   \n",
              "std     2886.89568  7.575462e+06  7.827330e+06  1.175106e+07    170.470728   \n",
              "min        1.00000  1.000000e+00  1.000000e+00  8.700000e+01      1.000000   \n",
              "25%     2500.75000  4.627575e+04  4.791175e+04  1.008841e+06     23.000000   \n",
              "50%     5000.50000  3.949655e+05  4.251235e+05  2.719524e+06     40.000000   \n",
              "75%     7500.25000  9.382225e+06  9.636112e+06  1.451775e+07     67.000000   \n",
              "max    10000.00000  3.328864e+07  3.553423e+07  5.639960e+07   3455.000000   \n",
              "\n",
              "             isbn13  original_publication_year  average_rating  ratings_count  \\\n",
              "count  9.415000e+03                9979.000000    10000.000000   1.000000e+04   \n",
              "mean   9.755044e+12                1981.987674        4.002191   5.400124e+04   \n",
              "std    4.428619e+11                 152.576665        0.254427   1.573700e+05   \n",
              "min    1.951703e+08               -1750.000000        2.470000   2.716000e+03   \n",
              "25%    9.780316e+12                1990.000000        3.850000   1.356875e+04   \n",
              "50%    9.780452e+12                2004.000000        4.020000   2.115550e+04   \n",
              "75%    9.780831e+12                2011.000000        4.180000   4.105350e+04   \n",
              "max    9.790008e+12                2017.000000        4.820000   4.780653e+06   \n",
              "\n",
              "       work_ratings_count  work_text_reviews_count      ratings_1  \\\n",
              "count        1.000000e+04             10000.000000   10000.000000   \n",
              "mean         5.968732e+04              2919.955300    1345.040600   \n",
              "std          1.678038e+05              6124.378132    6635.626263   \n",
              "min          5.510000e+03                 3.000000      11.000000   \n",
              "25%          1.543875e+04               694.000000     196.000000   \n",
              "50%          2.383250e+04              1402.000000     391.000000   \n",
              "75%          4.591500e+04              2744.250000     885.000000   \n",
              "max          4.942365e+06            155254.000000  456191.000000   \n",
              "\n",
              "           ratings_2      ratings_3     ratings_4     ratings_5  \n",
              "count   10000.000000   10000.000000  1.000000e+04  1.000000e+04  \n",
              "mean     3110.885000   11475.893800  1.996570e+04  2.378981e+04  \n",
              "std      9717.123578   28546.449183  5.144736e+04  7.976889e+04  \n",
              "min        30.000000     323.000000  7.500000e+02  7.540000e+02  \n",
              "25%       656.000000    3112.000000  5.405750e+03  5.334000e+03  \n",
              "50%      1163.000000    4894.000000  8.269500e+03  8.836000e+03  \n",
              "75%      2353.250000    9287.000000  1.602350e+04  1.730450e+04  \n",
              "max    436802.000000  793319.000000  1.481305e+06  3.011543e+06  "
            ],
            "text/html": [
              "\n",
              "  <div id=\"df-d8a547e2-f0cf-4f03-80aa-6374e2071b31\" class=\"colab-df-container\">\n",
              "    <div>\n",
              "<style scoped>\n",
              "    .dataframe tbody tr th:only-of-type {\n",
              "        vertical-align: middle;\n",
              "    }\n",
              "\n",
              "    .dataframe tbody tr th {\n",
              "        vertical-align: top;\n",
              "    }\n",
              "\n",
              "    .dataframe thead th {\n",
              "        text-align: right;\n",
              "    }\n",
              "</style>\n",
              "<table border=\"1\" class=\"dataframe\">\n",
              "  <thead>\n",
              "    <tr style=\"text-align: right;\">\n",
              "      <th></th>\n",
              "      <th>id</th>\n",
              "      <th>book_id</th>\n",
              "      <th>best_book_id</th>\n",
              "      <th>work_id</th>\n",
              "      <th>books_count</th>\n",
              "      <th>isbn13</th>\n",
              "      <th>original_publication_year</th>\n",
              "      <th>average_rating</th>\n",
              "      <th>ratings_count</th>\n",
              "      <th>work_ratings_count</th>\n",
              "      <th>work_text_reviews_count</th>\n",
              "      <th>ratings_1</th>\n",
              "      <th>ratings_2</th>\n",
              "      <th>ratings_3</th>\n",
              "      <th>ratings_4</th>\n",
              "      <th>ratings_5</th>\n",
              "    </tr>\n",
              "  </thead>\n",
              "  <tbody>\n",
              "    <tr>\n",
              "      <th>count</th>\n",
              "      <td>10000.00000</td>\n",
              "      <td>1.000000e+04</td>\n",
              "      <td>1.000000e+04</td>\n",
              "      <td>1.000000e+04</td>\n",
              "      <td>10000.000000</td>\n",
              "      <td>9.415000e+03</td>\n",
              "      <td>9979.000000</td>\n",
              "      <td>10000.000000</td>\n",
              "      <td>1.000000e+04</td>\n",
              "      <td>1.000000e+04</td>\n",
              "      <td>10000.000000</td>\n",
              "      <td>10000.000000</td>\n",
              "      <td>10000.000000</td>\n",
              "      <td>10000.000000</td>\n",
              "      <td>1.000000e+04</td>\n",
              "      <td>1.000000e+04</td>\n",
              "    </tr>\n",
              "    <tr>\n",
              "      <th>mean</th>\n",
              "      <td>5000.50000</td>\n",
              "      <td>5.264697e+06</td>\n",
              "      <td>5.471214e+06</td>\n",
              "      <td>8.646183e+06</td>\n",
              "      <td>75.712700</td>\n",
              "      <td>9.755044e+12</td>\n",
              "      <td>1981.987674</td>\n",
              "      <td>4.002191</td>\n",
              "      <td>5.400124e+04</td>\n",
              "      <td>5.968732e+04</td>\n",
              "      <td>2919.955300</td>\n",
              "      <td>1345.040600</td>\n",
              "      <td>3110.885000</td>\n",
              "      <td>11475.893800</td>\n",
              "      <td>1.996570e+04</td>\n",
              "      <td>2.378981e+04</td>\n",
              "    </tr>\n",
              "    <tr>\n",
              "      <th>std</th>\n",
              "      <td>2886.89568</td>\n",
              "      <td>7.575462e+06</td>\n",
              "      <td>7.827330e+06</td>\n",
              "      <td>1.175106e+07</td>\n",
              "      <td>170.470728</td>\n",
              "      <td>4.428619e+11</td>\n",
              "      <td>152.576665</td>\n",
              "      <td>0.254427</td>\n",
              "      <td>1.573700e+05</td>\n",
              "      <td>1.678038e+05</td>\n",
              "      <td>6124.378132</td>\n",
              "      <td>6635.626263</td>\n",
              "      <td>9717.123578</td>\n",
              "      <td>28546.449183</td>\n",
              "      <td>5.144736e+04</td>\n",
              "      <td>7.976889e+04</td>\n",
              "    </tr>\n",
              "    <tr>\n",
              "      <th>min</th>\n",
              "      <td>1.00000</td>\n",
              "      <td>1.000000e+00</td>\n",
              "      <td>1.000000e+00</td>\n",
              "      <td>8.700000e+01</td>\n",
              "      <td>1.000000</td>\n",
              "      <td>1.951703e+08</td>\n",
              "      <td>-1750.000000</td>\n",
              "      <td>2.470000</td>\n",
              "      <td>2.716000e+03</td>\n",
              "      <td>5.510000e+03</td>\n",
              "      <td>3.000000</td>\n",
              "      <td>11.000000</td>\n",
              "      <td>30.000000</td>\n",
              "      <td>323.000000</td>\n",
              "      <td>7.500000e+02</td>\n",
              "      <td>7.540000e+02</td>\n",
              "    </tr>\n",
              "    <tr>\n",
              "      <th>25%</th>\n",
              "      <td>2500.75000</td>\n",
              "      <td>4.627575e+04</td>\n",
              "      <td>4.791175e+04</td>\n",
              "      <td>1.008841e+06</td>\n",
              "      <td>23.000000</td>\n",
              "      <td>9.780316e+12</td>\n",
              "      <td>1990.000000</td>\n",
              "      <td>3.850000</td>\n",
              "      <td>1.356875e+04</td>\n",
              "      <td>1.543875e+04</td>\n",
              "      <td>694.000000</td>\n",
              "      <td>196.000000</td>\n",
              "      <td>656.000000</td>\n",
              "      <td>3112.000000</td>\n",
              "      <td>5.405750e+03</td>\n",
              "      <td>5.334000e+03</td>\n",
              "    </tr>\n",
              "    <tr>\n",
              "      <th>50%</th>\n",
              "      <td>5000.50000</td>\n",
              "      <td>3.949655e+05</td>\n",
              "      <td>4.251235e+05</td>\n",
              "      <td>2.719524e+06</td>\n",
              "      <td>40.000000</td>\n",
              "      <td>9.780452e+12</td>\n",
              "      <td>2004.000000</td>\n",
              "      <td>4.020000</td>\n",
              "      <td>2.115550e+04</td>\n",
              "      <td>2.383250e+04</td>\n",
              "      <td>1402.000000</td>\n",
              "      <td>391.000000</td>\n",
              "      <td>1163.000000</td>\n",
              "      <td>4894.000000</td>\n",
              "      <td>8.269500e+03</td>\n",
              "      <td>8.836000e+03</td>\n",
              "    </tr>\n",
              "    <tr>\n",
              "      <th>75%</th>\n",
              "      <td>7500.25000</td>\n",
              "      <td>9.382225e+06</td>\n",
              "      <td>9.636112e+06</td>\n",
              "      <td>1.451775e+07</td>\n",
              "      <td>67.000000</td>\n",
              "      <td>9.780831e+12</td>\n",
              "      <td>2011.000000</td>\n",
              "      <td>4.180000</td>\n",
              "      <td>4.105350e+04</td>\n",
              "      <td>4.591500e+04</td>\n",
              "      <td>2744.250000</td>\n",
              "      <td>885.000000</td>\n",
              "      <td>2353.250000</td>\n",
              "      <td>9287.000000</td>\n",
              "      <td>1.602350e+04</td>\n",
              "      <td>1.730450e+04</td>\n",
              "    </tr>\n",
              "    <tr>\n",
              "      <th>max</th>\n",
              "      <td>10000.00000</td>\n",
              "      <td>3.328864e+07</td>\n",
              "      <td>3.553423e+07</td>\n",
              "      <td>5.639960e+07</td>\n",
              "      <td>3455.000000</td>\n",
              "      <td>9.790008e+12</td>\n",
              "      <td>2017.000000</td>\n",
              "      <td>4.820000</td>\n",
              "      <td>4.780653e+06</td>\n",
              "      <td>4.942365e+06</td>\n",
              "      <td>155254.000000</td>\n",
              "      <td>456191.000000</td>\n",
              "      <td>436802.000000</td>\n",
              "      <td>793319.000000</td>\n",
              "      <td>1.481305e+06</td>\n",
              "      <td>3.011543e+06</td>\n",
              "    </tr>\n",
              "  </tbody>\n",
              "</table>\n",
              "</div>\n",
              "    <div class=\"colab-df-buttons\">\n",
              "\n",
              "  <div class=\"colab-df-container\">\n",
              "    <button class=\"colab-df-convert\" onclick=\"convertToInteractive('df-d8a547e2-f0cf-4f03-80aa-6374e2071b31')\"\n",
              "            title=\"Convert this dataframe to an interactive table.\"\n",
              "            style=\"display:none;\">\n",
              "\n",
              "  <svg xmlns=\"http://www.w3.org/2000/svg\" height=\"24px\" viewBox=\"0 -960 960 960\">\n",
              "    <path d=\"M120-120v-720h720v720H120Zm60-500h600v-160H180v160Zm220 220h160v-160H400v160Zm0 220h160v-160H400v160ZM180-400h160v-160H180v160Zm440 0h160v-160H620v160ZM180-180h160v-160H180v160Zm440 0h160v-160H620v160Z\"/>\n",
              "  </svg>\n",
              "    </button>\n",
              "\n",
              "  <style>\n",
              "    .colab-df-container {\n",
              "      display:flex;\n",
              "      gap: 12px;\n",
              "    }\n",
              "\n",
              "    .colab-df-convert {\n",
              "      background-color: #E8F0FE;\n",
              "      border: none;\n",
              "      border-radius: 50%;\n",
              "      cursor: pointer;\n",
              "      display: none;\n",
              "      fill: #1967D2;\n",
              "      height: 32px;\n",
              "      padding: 0 0 0 0;\n",
              "      width: 32px;\n",
              "    }\n",
              "\n",
              "    .colab-df-convert:hover {\n",
              "      background-color: #E2EBFA;\n",
              "      box-shadow: 0px 1px 2px rgba(60, 64, 67, 0.3), 0px 1px 3px 1px rgba(60, 64, 67, 0.15);\n",
              "      fill: #174EA6;\n",
              "    }\n",
              "\n",
              "    .colab-df-buttons div {\n",
              "      margin-bottom: 4px;\n",
              "    }\n",
              "\n",
              "    [theme=dark] .colab-df-convert {\n",
              "      background-color: #3B4455;\n",
              "      fill: #D2E3FC;\n",
              "    }\n",
              "\n",
              "    [theme=dark] .colab-df-convert:hover {\n",
              "      background-color: #434B5C;\n",
              "      box-shadow: 0px 1px 3px 1px rgba(0, 0, 0, 0.15);\n",
              "      filter: drop-shadow(0px 1px 2px rgba(0, 0, 0, 0.3));\n",
              "      fill: #FFFFFF;\n",
              "    }\n",
              "  </style>\n",
              "\n",
              "    <script>\n",
              "      const buttonEl =\n",
              "        document.querySelector('#df-d8a547e2-f0cf-4f03-80aa-6374e2071b31 button.colab-df-convert');\n",
              "      buttonEl.style.display =\n",
              "        google.colab.kernel.accessAllowed ? 'block' : 'none';\n",
              "\n",
              "      async function convertToInteractive(key) {\n",
              "        const element = document.querySelector('#df-d8a547e2-f0cf-4f03-80aa-6374e2071b31');\n",
              "        const dataTable =\n",
              "          await google.colab.kernel.invokeFunction('convertToInteractive',\n",
              "                                                    [key], {});\n",
              "        if (!dataTable) return;\n",
              "\n",
              "        const docLinkHtml = 'Like what you see? Visit the ' +\n",
              "          '<a target=\"_blank\" href=https://colab.research.google.com/notebooks/data_table.ipynb>data table notebook</a>'\n",
              "          + ' to learn more about interactive tables.';\n",
              "        element.innerHTML = '';\n",
              "        dataTable['output_type'] = 'display_data';\n",
              "        await google.colab.output.renderOutput(dataTable, element);\n",
              "        const docLink = document.createElement('div');\n",
              "        docLink.innerHTML = docLinkHtml;\n",
              "        element.appendChild(docLink);\n",
              "      }\n",
              "    </script>\n",
              "  </div>\n",
              "\n",
              "\n",
              "<div id=\"df-74bfcf8e-8c1b-4c89-a69c-0e61dcdd7b55\">\n",
              "  <button class=\"colab-df-quickchart\" onclick=\"quickchart('df-74bfcf8e-8c1b-4c89-a69c-0e61dcdd7b55')\"\n",
              "            title=\"Suggest charts\"\n",
              "            style=\"display:none;\">\n",
              "\n",
              "<svg xmlns=\"http://www.w3.org/2000/svg\" height=\"24px\"viewBox=\"0 0 24 24\"\n",
              "     width=\"24px\">\n",
              "    <g>\n",
              "        <path d=\"M19 3H5c-1.1 0-2 .9-2 2v14c0 1.1.9 2 2 2h14c1.1 0 2-.9 2-2V5c0-1.1-.9-2-2-2zM9 17H7v-7h2v7zm4 0h-2V7h2v10zm4 0h-2v-4h2v4z\"/>\n",
              "    </g>\n",
              "</svg>\n",
              "  </button>\n",
              "\n",
              "<style>\n",
              "  .colab-df-quickchart {\n",
              "      --bg-color: #E8F0FE;\n",
              "      --fill-color: #1967D2;\n",
              "      --hover-bg-color: #E2EBFA;\n",
              "      --hover-fill-color: #174EA6;\n",
              "      --disabled-fill-color: #AAA;\n",
              "      --disabled-bg-color: #DDD;\n",
              "  }\n",
              "\n",
              "  [theme=dark] .colab-df-quickchart {\n",
              "      --bg-color: #3B4455;\n",
              "      --fill-color: #D2E3FC;\n",
              "      --hover-bg-color: #434B5C;\n",
              "      --hover-fill-color: #FFFFFF;\n",
              "      --disabled-bg-color: #3B4455;\n",
              "      --disabled-fill-color: #666;\n",
              "  }\n",
              "\n",
              "  .colab-df-quickchart {\n",
              "    background-color: var(--bg-color);\n",
              "    border: none;\n",
              "    border-radius: 50%;\n",
              "    cursor: pointer;\n",
              "    display: none;\n",
              "    fill: var(--fill-color);\n",
              "    height: 32px;\n",
              "    padding: 0;\n",
              "    width: 32px;\n",
              "  }\n",
              "\n",
              "  .colab-df-quickchart:hover {\n",
              "    background-color: var(--hover-bg-color);\n",
              "    box-shadow: 0 1px 2px rgba(60, 64, 67, 0.3), 0 1px 3px 1px rgba(60, 64, 67, 0.15);\n",
              "    fill: var(--button-hover-fill-color);\n",
              "  }\n",
              "\n",
              "  .colab-df-quickchart-complete:disabled,\n",
              "  .colab-df-quickchart-complete:disabled:hover {\n",
              "    background-color: var(--disabled-bg-color);\n",
              "    fill: var(--disabled-fill-color);\n",
              "    box-shadow: none;\n",
              "  }\n",
              "\n",
              "  .colab-df-spinner {\n",
              "    border: 2px solid var(--fill-color);\n",
              "    border-color: transparent;\n",
              "    border-bottom-color: var(--fill-color);\n",
              "    animation:\n",
              "      spin 1s steps(1) infinite;\n",
              "  }\n",
              "\n",
              "  @keyframes spin {\n",
              "    0% {\n",
              "      border-color: transparent;\n",
              "      border-bottom-color: var(--fill-color);\n",
              "      border-left-color: var(--fill-color);\n",
              "    }\n",
              "    20% {\n",
              "      border-color: transparent;\n",
              "      border-left-color: var(--fill-color);\n",
              "      border-top-color: var(--fill-color);\n",
              "    }\n",
              "    30% {\n",
              "      border-color: transparent;\n",
              "      border-left-color: var(--fill-color);\n",
              "      border-top-color: var(--fill-color);\n",
              "      border-right-color: var(--fill-color);\n",
              "    }\n",
              "    40% {\n",
              "      border-color: transparent;\n",
              "      border-right-color: var(--fill-color);\n",
              "      border-top-color: var(--fill-color);\n",
              "    }\n",
              "    60% {\n",
              "      border-color: transparent;\n",
              "      border-right-color: var(--fill-color);\n",
              "    }\n",
              "    80% {\n",
              "      border-color: transparent;\n",
              "      border-right-color: var(--fill-color);\n",
              "      border-bottom-color: var(--fill-color);\n",
              "    }\n",
              "    90% {\n",
              "      border-color: transparent;\n",
              "      border-bottom-color: var(--fill-color);\n",
              "    }\n",
              "  }\n",
              "</style>\n",
              "\n",
              "  <script>\n",
              "    async function quickchart(key) {\n",
              "      const quickchartButtonEl =\n",
              "        document.querySelector('#' + key + ' button');\n",
              "      quickchartButtonEl.disabled = true;  // To prevent multiple clicks.\n",
              "      quickchartButtonEl.classList.add('colab-df-spinner');\n",
              "      try {\n",
              "        const charts = await google.colab.kernel.invokeFunction(\n",
              "            'suggestCharts', [key], {});\n",
              "      } catch (error) {\n",
              "        console.error('Error during call to suggestCharts:', error);\n",
              "      }\n",
              "      quickchartButtonEl.classList.remove('colab-df-spinner');\n",
              "      quickchartButtonEl.classList.add('colab-df-quickchart-complete');\n",
              "    }\n",
              "    (() => {\n",
              "      let quickchartButtonEl =\n",
              "        document.querySelector('#df-74bfcf8e-8c1b-4c89-a69c-0e61dcdd7b55 button');\n",
              "      quickchartButtonEl.style.display =\n",
              "        google.colab.kernel.accessAllowed ? 'block' : 'none';\n",
              "    })();\n",
              "  </script>\n",
              "</div>\n",
              "\n",
              "    </div>\n",
              "  </div>\n"
            ],
            "application/vnd.google.colaboratory.intrinsic+json": {
              "type": "dataframe",
              "summary": "{\n  \"name\": \"books\",\n  \"rows\": 8,\n  \"fields\": [\n    {\n      \"column\": \"id\",\n      \"properties\": {\n        \"dtype\": \"number\",\n        \"std\": 3603.743586536124,\n        \"min\": 1.0,\n        \"max\": 10000.0,\n        \"num_unique_values\": 6,\n        \"samples\": [\n          10000.0,\n          5000.5,\n          7500.25\n        ],\n        \"semantic_type\": \"\",\n        \"description\": \"\"\n      }\n    },\n    {\n      \"column\": \"book_id\",\n      \"properties\": {\n        \"dtype\": \"number\",\n        \"std\": 11275451.142535165,\n        \"min\": 1.0,\n        \"max\": 33288638.0,\n        \"num_unique_values\": 8,\n        \"samples\": [\n          5264696.5132,\n          394965.5,\n          10000.0\n        ],\n        \"semantic_type\": \"\",\n        \"description\": \"\"\n      }\n    },\n    {\n      \"column\": \"best_book_id\",\n      \"properties\": {\n        \"dtype\": \"number\",\n        \"std\": 12026782.142354654,\n        \"min\": 1.0,\n        \"max\": 35534230.0,\n        \"num_unique_values\": 8,\n        \"samples\": [\n          5471213.5801,\n          425123.5,\n          10000.0\n        ],\n        \"semantic_type\": \"\",\n        \"description\": \"\"\n      }\n    },\n    {\n      \"column\": \"work_id\",\n      \"properties\": {\n        \"dtype\": \"number\",\n        \"std\": 18835953.648133516,\n        \"min\": 87.0,\n        \"max\": 56399597.0,\n        \"num_unique_values\": 8,\n        \"samples\": [\n          8646183.4246,\n          2719524.5,\n          10000.0\n        ],\n        \"semantic_type\": \"\",\n        \"description\": \"\"\n      }\n    },\n    {\n      \"column\": \"books_count\",\n      \"properties\": {\n        \"dtype\": \"number\",\n        \"std\": 3546.875373075507,\n        \"min\": 1.0,\n        \"max\": 10000.0,\n        \"num_unique_values\": 8,\n        \"samples\": [\n          75.7127,\n          40.0,\n          10000.0\n        ],\n        \"semantic_type\": \"\",\n        \"description\": \"\"\n      }\n    },\n    {\n      \"column\": \"isbn13\",\n      \"properties\": {\n        \"dtype\": \"number\",\n        \"std\": 4985697081571.246,\n        \"min\": 9415.0,\n        \"max\": 9790007672390.0,\n        \"num_unique_values\": 8,\n        \"samples\": [\n          9755044298883.463,\n          9780451528640.0,\n          9415.0\n        ],\n        \"semantic_type\": \"\",\n        \"description\": \"\"\n      }\n    },\n    {\n      \"column\": \"original_publication_year\",\n      \"properties\": {\n        \"dtype\": \"number\",\n        \"std\": 3389.677603082203,\n        \"min\": -1750.0,\n        \"max\": 9979.0,\n        \"num_unique_values\": 8,\n        \"samples\": [\n          1981.987674115643,\n          2004.0,\n          9979.0\n        ],\n        \"semantic_type\": \"\",\n        \"description\": \"\"\n      }\n    },\n    {\n      \"column\": \"average_rating\",\n      \"properties\": {\n        \"dtype\": \"number\",\n        \"std\": 3534.342386288619,\n        \"min\": 0.25442748053872877,\n        \"max\": 10000.0,\n        \"num_unique_values\": 8,\n        \"samples\": [\n          4.002191000000001,\n          4.02,\n          10000.0\n        ],\n        \"semantic_type\": \"\",\n        \"description\": \"\"\n      }\n    },\n    {\n      \"column\": \"ratings_count\",\n      \"properties\": {\n        \"dtype\": \"number\",\n        \"std\": 1675806.4649757585,\n        \"min\": 2716.0,\n        \"max\": 4780653.0,\n        \"num_unique_values\": 8,\n        \"samples\": [\n          54001.2351,\n          21155.5,\n          10000.0\n        ],\n        \"semantic_type\": \"\",\n        \"description\": \"\"\n      }\n    },\n    {\n      \"column\": \"work_ratings_count\",\n      \"properties\": {\n        \"dtype\": \"number\",\n        \"std\": 1731613.4962199288,\n        \"min\": 5510.0,\n        \"max\": 4942365.0,\n        \"num_unique_values\": 8,\n        \"samples\": [\n          59687.3216,\n          23832.5,\n          10000.0\n        ],\n        \"semantic_type\": \"\",\n        \"description\": \"\"\n      }\n    },\n    {\n      \"column\": \"work_text_reviews_count\",\n      \"properties\": {\n        \"dtype\": \"number\",\n        \"std\": 53783.10071178584,\n        \"min\": 3.0,\n        \"max\": 155254.0,\n        \"num_unique_values\": 8,\n        \"samples\": [\n          2919.9553,\n          1402.0,\n          10000.0\n        ],\n        \"semantic_type\": \"\",\n        \"description\": \"\"\n      }\n    },\n    {\n      \"column\": \"ratings_1\",\n      \"properties\": {\n        \"dtype\": \"number\",\n        \"std\": 160346.10936995537,\n        \"min\": 11.0,\n        \"max\": 456191.0,\n        \"num_unique_values\": 8,\n        \"samples\": [\n          1345.0406,\n          391.0,\n          10000.0\n        ],\n        \"semantic_type\": \"\",\n        \"description\": \"\"\n      }\n    },\n    {\n      \"column\": \"ratings_2\",\n      \"properties\": {\n        \"dtype\": \"number\",\n        \"std\": 153117.53812883256,\n        \"min\": 30.0,\n        \"max\": 436802.0,\n        \"num_unique_values\": 8,\n        \"samples\": [\n          3110.885,\n          1163.0,\n          10000.0\n        ],\n        \"semantic_type\": \"\",\n        \"description\": \"\"\n      }\n    },\n    {\n      \"column\": \"ratings_3\",\n      \"properties\": {\n        \"dtype\": \"number\",\n        \"std\": 277196.597802739,\n        \"min\": 323.0,\n        \"max\": 793319.0,\n        \"num_unique_values\": 8,\n        \"samples\": [\n          11475.8938,\n          4894.0,\n          10000.0\n        ],\n        \"semantic_type\": \"\",\n        \"description\": \"\"\n      }\n    },\n    {\n      \"column\": \"ratings_4\",\n      \"properties\": {\n        \"dtype\": \"number\",\n        \"std\": 518306.6282207819,\n        \"min\": 750.0,\n        \"max\": 1481305.0,\n        \"num_unique_values\": 8,\n        \"samples\": [\n          19965.6966,\n          8269.5,\n          10000.0\n        ],\n        \"semantic_type\": \"\",\n        \"description\": \"\"\n      }\n    },\n    {\n      \"column\": \"ratings_5\",\n      \"properties\": {\n        \"dtype\": \"number\",\n        \"std\": 1057675.0155383227,\n        \"min\": 754.0,\n        \"max\": 3011543.0,\n        \"num_unique_values\": 8,\n        \"samples\": [\n          23789.8056,\n          8836.0,\n          10000.0\n        ],\n        \"semantic_type\": \"\",\n        \"description\": \"\"\n      }\n    }\n  ]\n}"
            }
          },
          "metadata": {},
          "execution_count": 11
        }
      ]
    },
    {
      "metadata": {
        "trusted": true,
        "colab": {
          "base_uri": "https://localhost:8080/"
        },
        "id": "pz0LVNIF6pzx",
        "outputId": "ab21e92f-4f50-4f4f-8318-86f1ed5df9e2"
      },
      "cell_type": "code",
      "source": [
        "books['authors'].unique()"
      ],
      "execution_count": 12,
      "outputs": [
        {
          "output_type": "execute_result",
          "data": {
            "text/plain": [
              "array(['Suzanne Collins', 'J.K. Rowling, Mary GrandPrÃ©',\n",
              "       'Stephenie Meyer', ..., 'Ian Mortimer', 'Peggy Orenstein',\n",
              "       'John Keegan'], dtype=object)"
            ]
          },
          "metadata": {},
          "execution_count": 12
        }
      ]
    },
    {
      "metadata": {
        "trusted": true,
        "colab": {
          "base_uri": "https://localhost:8080/"
        },
        "id": "lacfIcv86pzy",
        "outputId": "8fe60e6b-3f40-4767-e31d-997b3039bb08"
      },
      "cell_type": "code",
      "source": [
        "len(books['authors'].unique())"
      ],
      "execution_count": 13,
      "outputs": [
        {
          "output_type": "execute_result",
          "data": {
            "text/plain": [
              "4664"
            ]
          },
          "metadata": {},
          "execution_count": 13
        }
      ]
    },
    {
      "metadata": {
        "_kg_hide-output": true,
        "trusted": true,
        "colab": {
          "base_uri": "https://localhost:8080/",
          "height": 458
        },
        "id": "RsGEbHqG6pzy",
        "outputId": "e11be858-0ba5-4232-a0b7-6393b3a86c6c"
      },
      "cell_type": "code",
      "source": [
        "books['average_rating'].sort_values(ascending=False)"
      ],
      "execution_count": 14,
      "outputs": [
        {
          "output_type": "execute_result",
          "data": {
            "text/plain": [
              "3627    4.82\n",
              "3274    4.77\n",
              "861     4.77\n",
              "8853    4.76\n",
              "7946    4.76\n",
              "        ... \n",
              "9020    2.80\n",
              "4008    2.80\n",
              "8006    2.76\n",
              "3549    2.67\n",
              "1792    2.47\n",
              "Name: average_rating, Length: 10000, dtype: float64"
            ],
            "text/html": [
              "<div>\n",
              "<style scoped>\n",
              "    .dataframe tbody tr th:only-of-type {\n",
              "        vertical-align: middle;\n",
              "    }\n",
              "\n",
              "    .dataframe tbody tr th {\n",
              "        vertical-align: top;\n",
              "    }\n",
              "\n",
              "    .dataframe thead th {\n",
              "        text-align: right;\n",
              "    }\n",
              "</style>\n",
              "<table border=\"1\" class=\"dataframe\">\n",
              "  <thead>\n",
              "    <tr style=\"text-align: right;\">\n",
              "      <th></th>\n",
              "      <th>average_rating</th>\n",
              "    </tr>\n",
              "  </thead>\n",
              "  <tbody>\n",
              "    <tr>\n",
              "      <th>3627</th>\n",
              "      <td>4.82</td>\n",
              "    </tr>\n",
              "    <tr>\n",
              "      <th>3274</th>\n",
              "      <td>4.77</td>\n",
              "    </tr>\n",
              "    <tr>\n",
              "      <th>861</th>\n",
              "      <td>4.77</td>\n",
              "    </tr>\n",
              "    <tr>\n",
              "      <th>8853</th>\n",
              "      <td>4.76</td>\n",
              "    </tr>\n",
              "    <tr>\n",
              "      <th>7946</th>\n",
              "      <td>4.76</td>\n",
              "    </tr>\n",
              "    <tr>\n",
              "      <th>...</th>\n",
              "      <td>...</td>\n",
              "    </tr>\n",
              "    <tr>\n",
              "      <th>9020</th>\n",
              "      <td>2.80</td>\n",
              "    </tr>\n",
              "    <tr>\n",
              "      <th>4008</th>\n",
              "      <td>2.80</td>\n",
              "    </tr>\n",
              "    <tr>\n",
              "      <th>8006</th>\n",
              "      <td>2.76</td>\n",
              "    </tr>\n",
              "    <tr>\n",
              "      <th>3549</th>\n",
              "      <td>2.67</td>\n",
              "    </tr>\n",
              "    <tr>\n",
              "      <th>1792</th>\n",
              "      <td>2.47</td>\n",
              "    </tr>\n",
              "  </tbody>\n",
              "</table>\n",
              "<p>10000 rows × 1 columns</p>\n",
              "</div><br><label><b>dtype:</b> float64</label>"
            ]
          },
          "metadata": {},
          "execution_count": 14
        }
      ]
    },
    {
      "metadata": {
        "_kg_hide-output": true,
        "trusted": true,
        "colab": {
          "base_uri": "https://localhost:8080/",
          "height": 524
        },
        "id": "OZlNGyBU6pzy",
        "outputId": "d1c5f089-3658-4671-b40b-2f82052fc35c"
      },
      "cell_type": "code",
      "source": [
        "# clean the data\n",
        "books['authors'].value_counts(dropna=False)"
      ],
      "execution_count": 15,
      "outputs": [
        {
          "output_type": "execute_result",
          "data": {
            "text/plain": [
              "authors\n",
              "Stephen King                                                                                                                                                                                                                              60\n",
              "Nora Roberts                                                                                                                                                                                                                              59\n",
              "Dean Koontz                                                                                                                                                                                                                               47\n",
              "Terry Pratchett                                                                                                                                                                                                                           42\n",
              "Agatha Christie                                                                                                                                                                                                                           39\n",
              "                                                                                                                                                                                                                                          ..\n",
              "Ildefonso Falcones                                                                                                                                                                                                                         1\n",
              "Jon Stewart, Rory Albanese, Kevin Bleyer, Rich Bloomquist, Steve Bodow, Tim Carvell, Wyatt Cenac, Hallie Haglund, J.R. Havlan, David Javerbaum, Elliott Kalan, Josh Lieb, Sam Means, Jo Miller, John Oliver, Daniel Radosh, Jason Ross     1\n",
              "G. Norman Lippert                                                                                                                                                                                                                          1\n",
              "Brother Andrew, Elizabeth Sherrill, John Sherrill                                                                                                                                                                                          1\n",
              "John Keegan                                                                                                                                                                                                                                1\n",
              "Name: count, Length: 4664, dtype: int64"
            ],
            "text/html": [
              "<div>\n",
              "<style scoped>\n",
              "    .dataframe tbody tr th:only-of-type {\n",
              "        vertical-align: middle;\n",
              "    }\n",
              "\n",
              "    .dataframe tbody tr th {\n",
              "        vertical-align: top;\n",
              "    }\n",
              "\n",
              "    .dataframe thead th {\n",
              "        text-align: right;\n",
              "    }\n",
              "</style>\n",
              "<table border=\"1\" class=\"dataframe\">\n",
              "  <thead>\n",
              "    <tr style=\"text-align: right;\">\n",
              "      <th></th>\n",
              "      <th>count</th>\n",
              "    </tr>\n",
              "    <tr>\n",
              "      <th>authors</th>\n",
              "      <th></th>\n",
              "    </tr>\n",
              "  </thead>\n",
              "  <tbody>\n",
              "    <tr>\n",
              "      <th>Stephen King</th>\n",
              "      <td>60</td>\n",
              "    </tr>\n",
              "    <tr>\n",
              "      <th>Nora Roberts</th>\n",
              "      <td>59</td>\n",
              "    </tr>\n",
              "    <tr>\n",
              "      <th>Dean Koontz</th>\n",
              "      <td>47</td>\n",
              "    </tr>\n",
              "    <tr>\n",
              "      <th>Terry Pratchett</th>\n",
              "      <td>42</td>\n",
              "    </tr>\n",
              "    <tr>\n",
              "      <th>Agatha Christie</th>\n",
              "      <td>39</td>\n",
              "    </tr>\n",
              "    <tr>\n",
              "      <th>...</th>\n",
              "      <td>...</td>\n",
              "    </tr>\n",
              "    <tr>\n",
              "      <th>Ildefonso Falcones</th>\n",
              "      <td>1</td>\n",
              "    </tr>\n",
              "    <tr>\n",
              "      <th>Jon Stewart, Rory Albanese, Kevin Bleyer, Rich Bloomquist, Steve Bodow, Tim Carvell, Wyatt Cenac, Hallie Haglund, J.R. Havlan, David Javerbaum, Elliott Kalan, Josh Lieb, Sam Means, Jo Miller, John Oliver, Daniel Radosh, Jason Ross</th>\n",
              "      <td>1</td>\n",
              "    </tr>\n",
              "    <tr>\n",
              "      <th>G. Norman Lippert</th>\n",
              "      <td>1</td>\n",
              "    </tr>\n",
              "    <tr>\n",
              "      <th>Brother Andrew, Elizabeth Sherrill, John Sherrill</th>\n",
              "      <td>1</td>\n",
              "    </tr>\n",
              "    <tr>\n",
              "      <th>John Keegan</th>\n",
              "      <td>1</td>\n",
              "    </tr>\n",
              "  </tbody>\n",
              "</table>\n",
              "<p>4664 rows × 1 columns</p>\n",
              "</div><br><label><b>dtype:</b> int64</label>"
            ]
          },
          "metadata": {},
          "execution_count": 15
        }
      ]
    },
    {
      "metadata": {
        "_kg_hide-input": true,
        "_kg_hide-output": false,
        "trusted": true,
        "id": "1NWGlnCI6pzy"
      },
      "cell_type": "code",
      "source": [
        "import warnings\n",
        "warnings.filterwarnings(\"ignore\")"
      ],
      "execution_count": 16,
      "outputs": []
    },
    {
      "metadata": {
        "trusted": true,
        "colab": {
          "base_uri": "https://localhost:8080/",
          "height": 453
        },
        "id": "T-Clv0F46pzz",
        "outputId": "7727b5a3-cf0b-47e0-fac3-a056439de02d"
      },
      "cell_type": "code",
      "source": [
        "plt.figure(figsize=(8,5))\n",
        "# An \"interface\" to matplotlib.axes.Axes.hist() method\n",
        "n, bins, patches = plt.hist(x=ratings['rating'],bins=5,alpha=0.8,rwidth=0.85)\n",
        "plt.xlabel('Rating')\n",
        "plt.ylabel('Rating_count')\n",
        "plt.title('Ratings Histogram')\n",
        "plt.show()"
      ],
      "execution_count": 17,
      "outputs": [
        {
          "output_type": "display_data",
          "data": {
            "text/plain": [
              "<Figure size 800x500 with 1 Axes>"
            ],
            "image/png": "[encoded data removed]"
          },
          "metadata": {}
        }
      ]
    },
    {
      "metadata": {
        "id": "JR08OkcI6pzz"
      },
      "cell_type": "raw",
      "source": [
        "# the avarage reviews that given authors on goodreads.\n",
        "df = books.work_text_reviews_count>29700\n",
        "books_newdata2=books[df]\n",
        "melted_books2= pd.melt(frame=books_newdata2,id_vars='authors',value_vars='work_text_reviews_count')\n",
        "reviews_list= list(melted_books2['authors'].unique())\n",
        "author_reviews_ratio=[]\n",
        "\n",
        "for i in reviews_list:\n",
        "    x= melted_books2[melted_books2['authors']==i]\n",
        "    author_reviews_ratio_rate=sum(x.value)/len(x)\n",
        "    author_reviews_ratio.append(  author_reviews_ratio_rate)\n",
        "\n",
        "data = pd.DataFrame({'reviews_list':reviews_list,'author_reviews_ratio':author_reviews_ratio})\n",
        "new_index = (data['author_reviews_ratio'].sort_values(ascending=False)).index.values\n",
        "sorted_data2 = data.reindex(new_index)\n",
        "\n",
        "#visualization\n",
        "plt.figure(figsize=(30,20))\n",
        "sns.barplot(x=sorted_data2['reviews_list'],y=sorted_data2['author_reviews_ratio'])\n",
        "plt.xticks(rotation= 90)\n",
        "plt.xlabel('Authors',size='30')\n",
        "plt.ylabel('Avarage Reviews')\n",
        "plt.title('Avarage Reviews Given Authors',color='purple',size='30')\n",
        "plt.show()"
      ]
    },
    {
      "metadata": {
        "trusted": true,
        "id": "i4UgPAic6pzz"
      },
      "cell_type": "code",
      "source": [
        "#change some features' name.\n",
        "data1= books.head(20)\n",
        "data1.rename(columns={'ratings_1':'R1', 'ratings_2':'R2','ratings_3':'R3','ratings_4':'R4','ratings_5':'R5'}, inplace=True)"
      ],
      "execution_count": 18,
      "outputs": []
    },
    {
      "metadata": {
        "trusted": true,
        "colab": {
          "base_uri": "https://localhost:8080/",
          "height": 578
        },
        "id": "_mG_bxEh6pzz",
        "outputId": "a64d821a-4cb3-4fe9-ce6e-810fe69c6bbf"
      },
      "cell_type": "code",
      "source": [
        "# Percentage of Ratings According to Authors\n",
        "author_list= list(data1['authors'].unique())\n",
        "\n",
        "ratings1= []\n",
        "ratings2= []\n",
        "for i in author_list:\n",
        "\n",
        "    x = data1[data1['authors']==i]\n",
        "    ratings1.append(sum(x.R1)/len(x))\n",
        "    ratings2.append(sum(x.R2)/len(x))\n",
        "\n",
        "f,ax = plt.subplots(figsize = (5,8))\n",
        "sns.barplot(x=ratings1,y=author_list,color='green',alpha = 0.5,label='Rating1' )\n",
        "sns.barplot(x=ratings2,y=author_list,color='blue',alpha = 0.5,label='Rating2' )\n",
        "ax.legend(loc='lower right',frameon = True)\n",
        "ax.set(xlabel='Percentage of Ratings', ylabel='Authors',title = \"Percentage of Ratings According to Authors \")\n",
        "plt.show()\n"
      ],
      "execution_count": 19,
      "outputs": [
        {
          "output_type": "display_data",
          "data": {
            "text/plain": [
              "<Figure size 500x800 with 1 Axes>"
            ],
            "image/png": "[encoded data removed]"
          },
          "metadata": {}
        }
      ]
    },
    {
      "metadata": {
        "trusted": true,
        "colab": {
          "base_uri": "https://localhost:8080/",
          "height": 542
        },
        "id": "-ZMo8xcZ6pzz",
        "outputId": "6b365623-3bcf-4d42-b9d6-803dd9edc715"
      },
      "cell_type": "code",
      "source": [
        "# prepare data frames\n",
        "df2004 = books[books.original_publication_year == 2004].iloc[:200,:]\n",
        "df2005 = books[books.original_publication_year == 2005].iloc[:200,:]\n",
        "df2003 = books[books.original_publication_year == 2003].iloc[:200,:]\n",
        "\n",
        "import plotly.graph_objs as go\n",
        "trace1 =go.Scatter(\n",
        "                    x = data1.average_rating,\n",
        "                    y = data1.R1,\n",
        "                    mode = \"markers\",\n",
        "                    name = \"2004\",\n",
        "                    marker = dict(color = 'rgba(255, 128, 255, 0.8)'),\n",
        "                    text= df2004.authors)\n",
        "trace2 =go.Scatter(\n",
        "                    x = data1.average_rating,\n",
        "                    y = data1.R2,\n",
        "                    mode = \"markers\",\n",
        "                    name = \"2005\",\n",
        "                    marker = dict(color = 'rgba(255, 128, 2, 0.8)'),\n",
        "                    text= df2005.authors)\n",
        "trace3 =go.Scatter(\n",
        "                    x = data1.average_rating,\n",
        "                    y = data1.R3,\n",
        "                    mode = \"markers\",\n",
        "                    name = \"2003\",\n",
        "                    marker = dict(color = 'rgba(0, 255, 200, 0.8)'),\n",
        "                    text= df2003.authors)\n",
        "data = [trace1, trace2, trace3]\n",
        "layout = dict(\n",
        "              xaxis= dict(title= 'Average Ratings',ticklen= 9,zeroline= False),\n",
        "              yaxis= dict(title= 'Ratings',ticklen= 9,zeroline= False),\n",
        "              title = \"Ratings and Average Ratings of 2004/2005/2006\"\n",
        "             )\n",
        "fig = dict(data = data, layout = layout)\n",
        "iplot(fig)"
      ],
      "execution_count": 20,
      "outputs": [
        {
          "output_type": "display_data",
          "data": {
            "application/vnd.plotly.v1+json": {
              "data": [
                {
                  "marker": {
                    "color": "rgba(255, 128, 255, 0.8)"
                  },
                  "mode": "markers",
                  "name": "2004",
                  "text": [
                    "Jodi Picoult",
                    "Emily Giffin",
                    "David Sedaris",
                    "Jeff Kinney",
                    "Robert Kirkman, Tony Moore",
                    "David Mitchell",
                    "Jeff Lindsay",
                    "Sarah Dessen",
                    "Charlaine Harris",
                    "Tsugumi Ohba, Takeshi Obata",
                    "Susanna Clarke",
                    "Bryan Lee O'Malley",
                    "Ellen Hopkins",
                    "Stephen King",
                    "Chelsea Handler",
                    "Kate DiCamillo, Timothy Basil Ering",
                    "Stephen King, Darrel Anderson",
                    "Max Brooks",
                    "Chetan Bhagat",
                    "Jon Stewart, Ben Karlin, David Javerbaum, Rich Bloomquist, Steve Bodow, Tim Carvell, Eric Drysdale, J.R. Havlan, Scott Jacobson, Tom Johnson, Rob Kutner, Chris Regan, Jason Reich, Jason Ross, Stephen Colbert, Samantha Bee, Rob Corddry, Brendan Hay, Ed Helms",
                    "Don Piper, Cecil Murphey",
                    "Jennifer Weiner",
                    "John Flanagan",
                    "Kim Harrison",
                    "Haruki Murakami, Jay Rubin",
                    "Lois Lowry",
                    "Michael Crichton",
                    "Jonathan Stroud",
                    "Jenna Blum",
                    "Jim Butcher",
                    "Terry Pratchett",
                    "John Grisham",
                    "Sophie Kinsella",
                    "Nicholas Sparks",
                    "Cecelia Ahern",
                    "Jim Butcher",
                    "Sue Monk Kidd",
                    "Jennifer Crusie",
                    "Janet Evanovich",
                    "Nora Roberts",
                    "Greg Behrendt, Liz Tuccillo",
                    "John Eldredge, Stasi Eldredge",
                    "John Ajvide Lindqvist",
                    "Ben Sherwood",
                    "Lemony Snicket, Brett Helquist",
                    "Marilynne Robinson",
                    "Anthony Kiedis, Larry Sloman",
                    "Gabriel GarcÃ­a MÃ¡rquez, Edith Grossman",
                    "Augusten Burroughs",
                    "James Patterson, Andrew Gross",
                    "Kate Atkinson",
                    "Dave Barry, Ridley Pearson, Greg Call",
                    "Jared Diamond",
                    "Gregory Maguire, Douglas Smith",
                    "Robert Jordan",
                    "IrÃ¨ne NÃ©mirovsky, Sandra Smith",
                    "Karen Joy Fowler",
                    "Ron Chernow",
                    "Lee Child",
                    "Sarah  Young",
                    "Bob Dylan",
                    "Anthony Horowitz",
                    "Bernard Cornwell",
                    "Bill Clinton",
                    "Terry Goodkind",
                    "Geraldine Brooks",
                    "Atsushi Ohkubo",
                    "Terry Pratchett",
                    "Vince Flynn",
                    "Emerson Eggerichs",
                    "W. Chan Kim, RenÃ©e Mauborgne",
                    "Philippa Gregory",
                    "Bev Vincent",
                    "CLAMP, Anthony Gerard",
                    "Umberto Eco, Girolamo De Michele, Alastair McEwen",
                    "Mo Willems",
                    "Abbi Glines",
                    "Lisa Gardner",
                    "MaryJanice Davidson",
                    "Marian Keyes",
                    "Tamora Pierce",
                    "Camilla LÃ¤ckberg, Steven T. Murray",
                    "Jeanne DuPrau",
                    "Peter F. Hamilton",
                    "Nicholas Sparks, Micah Sparks",
                    "John Perkins",
                    "James Patterson",
                    "Tamora Pierce",
                    "Christopher Moore",
                    "Carl Hiaasen",
                    "Dean Koontz",
                    "Sherrilyn Kenyon",
                    "Tess Gerritsen",
                    "Gennifer Choldenko",
                    "Robert Kirkman, Tony Moore, Charlie Adlard, Cliff Rathburn",
                    "Philip Roth",
                    "Jane Green",
                    "Joseph J. Ellis",
                    "Ann Patchett",
                    "Steven Erikson",
                    "Nora Roberts",
                    "Laurell K. Hamilton",
                    "Sam Harris",
                    "Joseph Delaney, Patrick  Arrasmith",
                    "Plum Sykes",
                    "James Rollins",
                    "Wayne W. Dyer",
                    "Jack Weatherford",
                    "Michael Connelly",
                    "Suzanne Collins",
                    "Frank Beddor",
                    "Robert Kirkman, Charlie Adlard",
                    "Tom Perrotta",
                    "Katsura Hoshino, Mayumi Kobayashi",
                    "Ian Caldwell, Dustin Thomason",
                    "Sarah Weeks",
                    "Lolly Winston",
                    "Joss Whedon, John Cassaday",
                    "Tom Wolfe",
                    "Sherrilyn Kenyon",
                    "Lisi Harrison",
                    "Daniel H. Pink",
                    "Dean Koontz",
                    "Meg Rosoff",
                    "Shannon Hale",
                    "Douglas Preston, Lincoln Child",
                    "Ted Dekker",
                    "David Baldacci",
                    "Barry Schwartz",
                    "Jack Canfield, Janet Switzer",
                    "Chuck Palahniuk",
                    "Guy Kawasaki",
                    "Esther Hicks, Jerry Hicks, Wayne W. Dyer",
                    "Brian K. Vaughan, Pia Guerra, JosÃ© MarzÃ¡n Jr.",
                    "Roberto BolaÃ±o",
                    "Anita Shreve",
                    "Diana L. Paxson, Marion Zimmer Bradley",
                    "Sherrilyn Kenyon",
                    "Steven Erikson",
                    "Brian K. Vaughan, Pia Guerra, JosÃ© MarzÃ¡n Jr., Paul Chadwick",
                    "Harlan Coben",
                    "Sue Grafton",
                    "Shaunti Feldhahn",
                    "James Surowiecki",
                    "MaryJanice Davidson",
                    "Erin Hunter",
                    "Holly Black, Tony DiTerlizzi",
                    "Karin Slaughter",
                    "Patricia Cornwell",
                    "A.J. Jacobs",
                    "Bill Willingham, Mark Buckingham, Craig Hamilton, Steve Leialoha, P. Craig Russell",
                    "Janet Evanovich",
                    "Kelley Armstrong",
                    "Ken Follett",
                    "Nelson DeMille",
                    "Lisa Kleypas",
                    "Ted Dekker",
                    "Kazune Kawahara",
                    "Robert Kurson",
                    "Katherine Hannigan",
                    "Laurell K. Hamilton",
                    "Habiburrahman El-Shirazy",
                    "Holly Black, Tony DiTerlizzi",
                    "Brian K. Vaughan, Pia Guerra, Goran Parlov, JosÃ© MarzÃ¡n Jr.",
                    "Anne Lamott",
                    "Brad Thor",
                    "Richard Dawkins",
                    "Robert Muchamore",
                    "Kathy Reichs",
                    "Camilla LÃ¤ckberg, Steven T. Murray",
                    "Neal Stephenson",
                    "Kelley Armstrong",
                    "Karen Marie Moning",
                    "Jasper Fforde",
                    "Andrea Levy",
                    "Eoin Colfer",
                    "Dee Lestari",
                    "Alan Hollinghurst",
                    "John Sandford",
                    "D.J. MacHale",
                    "Aron Ralston",
                    "Meg Cabot",
                    "Tite Kubo",
                    "Jordan Sonnenblick",
                    "Lisa Kleypas",
                    "Garth Nix",
                    "Akira Amano, JN Productions, Frances E. Wall",
                    "Neal Stephenson",
                    "Kristin Hannah",
                    "Scott Westerfeld",
                    "Alexander McCall Smith",
                    "Allan Pease, Barbara Pease",
                    "Susan Elizabeth Phillips",
                    "Blue Balliett, Brett Helquist",
                    "Brad Meltzer, Rags Morales, Michael Bair, Joss Whedon",
                    "Bill Willingham, Mark Buckingham, Steve Leialoha, James Jean",
                    "Ridley Pearson, David Frankland",
                    "Mo Willems",
                    "Meg Cabot",
                    "Julie Anne Peters"
                  ],
                  "x": [
                    4.34,
                    4.44,
                    3.57,
                    4.25,
                    3.89,
                    4.26,
                    4.25,
                    3.79,
                    3.85,
                    4.24,
                    4.26,
                    4.24,
                    4.14,
                    3.87,
                    4.1,
                    4.11,
                    4.3,
                    4.53,
                    4.34,
                    4.03
                  ],
                  "y": [
                    66715,
                    75504,
                    456191,
                    60427,
                    86236,
                    47994,
                    46023,
                    109383,
                    77841,
                    54700,
                    34288,
                    36315,
                    41845,
                    66854,
                    45225,
                    54835,
                    10492,
                    6716,
                    38031,
                    30144
                  ],
                  "type": "scatter"
                },
                {
                  "marker": {
                    "color": "rgba(255, 128, 2, 0.8)"
                  },
                  "mode": "markers",
                  "name": "2005",
                  "text": [
                    "Stephenie Meyer",
                    "Stieg Larsson, Reg Keeland",
                    "J.K. Rowling, Mary GrandPrÃ©",
                    "Rick Riordan",
                    "Markus Zusak",
                    "John Green",
                    "Jeannette Walls",
                    "Steven D. Levitt, Stephen J. Dubner",
                    "Kim Edwards",
                    "George R.R. Martin",
                    "Scott Westerfeld",
                    "John Grogan",
                    "Malcolm Gladwell",
                    "Jonathan Safran Foer",
                    "Kazuo Ishiguro",
                    "Lisa See",
                    "Christopher Paolini",
                    "Sophie Kinsella",
                    "J.R. Ward",
                    "Emily Giffin",
                    "Elizabeth Kostova",
                    "Scott Westerfeld",
                    "Michael Connelly",
                    "James Patterson",
                    "Charlaine Harris",
                    "Neil Gaiman",
                    "David McCullough",
                    "Philippa Gregory",
                    "Julie Powell",
                    "Eckhart Tolle",
                    "Cormac McCarthy",
                    "Nicole Krauss",
                    "Doris Kearns Goodwin, Suzanne Toren",
                    "Joan Didion",
                    "John Scalzi",
                    "Thomas L. Friedman",
                    "Stephenie Meyer, Ilyana Kadushin, Matt Walters",
                    "Diana Gabaldon",
                    "Brandon Sanderson",
                    "Matsuri Hino, Tomo Kimura",
                    "Jodi Picoult",
                    "Eoin Colfer",
                    "Chuck Palahniuk",
                    "Robert Jordan",
                    "Stephen King, Jerry N. Uelsmann",
                    "John Grisham",
                    "Angie Sage",
                    "Maria V. Snyder",
                    "Jim Butcher",
                    "Lee Child",
                    "Janet Evanovich",
                    "Cornelia Funke, Anthea Bell",
                    "John Flanagan",
                    "Nick Hornby",
                    "Lauren Weisberger",
                    "Shannon Hale",
                    "Frank Warren",
                    "Paulo Coelho, Margaret Jull Costa",
                    "David Baldacci",
                    "Stephenie Meyer",
                    "Maureen Johnson",
                    "Ron Hall, Denver Moore, Lynn Vincent",
                    "Dean Koontz",
                    "Louise Penny",
                    "Meg Cabot",
                    "Jennifer Weiner",
                    "James Patterson, Maxine Paetro",
                    "Chetan Bhagat",
                    "Curtis Sittenfeld",
                    "David Cote, Stephen Schwartz, Joan Marcus, Winnie Holzman",
                    "Dean Koontz",
                    "Zadie Smith",
                    "Libba Bray",
                    "Lemony Snicket, Brett Helquist",
                    "Ian McEwan",
                    "Ann Brashares",
                    "Bryan Lee O'Malley",
                    "John Flanagan",
                    "Charles C. Mann",
                    "Stieg Larsson, Reg Keeland",
                    "Kim Harrison",
                    "James Frey",
                    "James Rollins",
                    "Charlaine Harris",
                    "Jim Butcher",
                    "Candace Bushnell",
                    "Orson Scott Card",
                    "Giada De Laurentiis",
                    "James Patterson",
                    "Kurt Vonnegut Jr.",
                    "Kim Harrison",
                    "Vince Flynn",
                    "Sarah Vowell",
                    "Kate Mosse",
                    "James Patterson, Howard Roughan",
                    "Rory Freedman, Kim Barnouin",
                    "Gabrielle Zevin",
                    "Jeff Lindsay",
                    "Suzanne Collins",
                    "Miranda July",
                    "Candice Millard",
                    "Michael Buckley, Peter Ferguson",
                    "David Foster Wallace",
                    "Anthony Horowitz",
                    "T. Harv Eker",
                    "Keith Ferrazzi",
                    "Cecelia Ahern",
                    "Naoki Higashida, K.A. Yoshida, David Mitchell",
                    "J.R. Moehringer",
                    "Anna Dewdney",
                    "Chuck Klosterman",
                    "Bill Watterson",
                    "Marisa de los Santos",
                    "Ruth Reichl",
                    "Andrea Hirata",
                    "J.K. Rowling",
                    "Victoria Hislop",
                    "Kelly Corrigan",
                    "Robert Charles Wilson",
                    "Dean Koontz, Kevin J. Anderson, Scott Brick",
                    "Mary Roach",
                    "Frank McCourt",
                    "Michael Connelly",
                    "Bernard Cornwell",
                    "Peter F. Hamilton",
                    "Amy Tan",
                    "Nora Roberts",
                    "Susan Elizabeth Phillips",
                    "Meg Cabot",
                    "Nikki Sixx",
                    "Vikas Swarup",
                    "Stephen Hawking, Leonard Mlodinow",
                    "Rachael Ray",
                    "Jeanne Birdsall",
                    "Meg Cabot",
                    "Nora Roberts",
                    "Kate Brian",
                    "Robert Kirkman, Charlie Adlard",
                    "Tim Harford",
                    "Koren Zailckas",
                    "John Irving",
                    "Martha Stout",
                    "Haruki Murakami, Ted Goossen",
                    "Erin Hunter",
                    "Erin Hunter",
                    "Christopher Paolini",
                    "Lynsay Sands",
                    "Jasper Fforde",
                    "JosÃ© Saramago, Margaret Jull Costa",
                    "Rob Bell",
                    "Jonathan Harr",
                    "Hester Browne",
                    "Roy Thomas, Dick Giordano, Mark D. Beazley, Bram Stoker",
                    "Sherrilyn Kenyon",
                    "Dmitry Glukhovsky, M. David Drevs",
                    "James Patterson, Andrew Gross",
                    "Joe Hill, Christopher Golden",
                    "Marina Lewycka",
                    "Neil Strauss",
                    "Karen Kingsbury",
                    "Ed Brubaker, Doug Mahnke, Patrick Zircher, Aaron Sowd, Steve Bird",
                    "Erin Hunter",
                    "Jane O'Connor, Robin Preiss Glasser",
                    "Nora Roberts",
                    "Patricia Cornwell",
                    "Bret Easton Ellis",
                    "D.J. MacHale",
                    "Paul Auster",
                    "Lisa Kleypas",
                    "Robert Kirkman, Charlie Adlard, Cliff Rathburn",
                    "Danny Gregory",
                    "Jo NesbÃ¸",
                    "Kerrelyn Sparks",
                    "Laurell K. Hamilton",
                    "Joseph Delaney, Patrick  Arrasmith",
                    "Reza Aslan",
                    "Douglas Preston, Lincoln Child",
                    "E. Lockhart",
                    "Margaret Atwood",
                    "Gigi Levangie Grazer",
                    "Grant Morrison, Frank Quitely",
                    "Elizabeth Flock",
                    "Frank E. Peretti",
                    "Carl Hiaasen",
                    "John Banville",
                    "Stephen King",
                    "Brian K. Vaughan, Pia Guerra, Goran SudÅ¾uka, JosÃ© MarzÃ¡n Jr.",
                    "Matthew Reilly",
                    "Lori Lansens",
                    "Sherrilyn Kenyon",
                    "Karin Slaughter",
                    "Donny Dhirgantoro",
                    "Harlan Coben",
                    "Elin Hilderbrand",
                    "Jenny Nimmo",
                    "Wendy Mass",
                    "Dean Koontz, Ed Gorman, John Bedford Lloyd",
                    "D.J. MacHale",
                    "Erin Hunter",
                    "Greg Iles"
                  ],
                  "x": [
                    4.34,
                    4.44,
                    3.57,
                    4.25,
                    3.89,
                    4.26,
                    4.25,
                    3.79,
                    3.85,
                    4.24,
                    4.26,
                    4.24,
                    4.14,
                    3.87,
                    4.1,
                    4.11,
                    4.3,
                    4.53,
                    4.34,
                    4.03
                  ],
                  "y": [
                    127936,
                    101676,
                    436802,
                    117415,
                    197621,
                    92723,
                    76784,
                    185520,
                    145740,
                    86485,
                    59980,
                    82870,
                    86425,
                    135147,
                    91270,
                    86051,
                    48030,
                    20413,
                    55862,
                    110498
                  ],
                  "type": "scatter"
                },
                {
                  "marker": {
                    "color": "rgba(0, 255, 200, 0.8)"
                  },
                  "mode": "markers",
                  "name": "2003",
                  "text": [
                    "Khaled Hosseini",
                    "J.K. Rowling, Mary GrandPrÃ©",
                    "Dan Brown",
                    "Audrey Niffenegger",
                    "Mark Haddon",
                    "Lauren Weisberger",
                    "Mitch Albom",
                    "Erik Larson, Tony Goldwyn",
                    "Cecelia Ahern",
                    "Sophie Kinsella",
                    "Cornelia Funke, Anthea Bell",
                    "Dean Koontz",
                    "Bill Bryson",
                    "Jhumpa Lahiri",
                    "James Frey",
                    "Jeanne DuPrau",
                    "Charlaine Harris",
                    "Nicholas Sparks",
                    "Margaret Atwood",
                    "Libba Bray",
                    "Nicholas Sparks",
                    "Jon Krakauer",
                    "Paulo Coelho, Margaret Jull Costa",
                    "Gregory David Roberts",
                    "Mary Roach",
                    "Dennis Lehane",
                    "Bisco Hatori",
                    "Lionel Shriver",
                    "Azar Nafisi",
                    "Stephen King, Bernie Wrightson",
                    "Donald Miller",
                    "Augusten Burroughs",
                    "Eoin Colfer",
                    "Michael   Lewis",
                    "Jonathan Stroud",
                    "Sarah Dunant",
                    "Shannon Hale",
                    "Brian K. Vaughan, Pia Guerra, JosÃ© MarzÃ¡n Jr.",
                    "Alan Brennert",
                    "Jim Butcher",
                    "Garth Nix",
                    "Janet Evanovich",
                    "Lynne Truss",
                    "Craig Thompson",
                    "Walter Isaacson",
                    "Chuck Palahniuk",
                    "Chuck Klosterman",
                    "John Grisham",
                    "Nicholas Sparks",
                    "Travis Bradberry, Jean Greaves, Patrick Lencioni",
                    "Marjane Satrapi, Mattias Ripa, Blake Ferris, Anjali Singh",
                    "Lemony Snicket, Brett Helquist",
                    "Philippa Gregory",
                    "Robert Jordan",
                    "Suzanne Collins",
                    "Tracy Kidder",
                    "Ann Brashares",
                    "Terry Pratchett",
                    "Mo Willems",
                    "Liane Moriarty",
                    "Nora Roberts",
                    "Dr. Seuss, Various",
                    "Jacqueline Winspear",
                    "David Levithan",
                    "Robin Hobb",
                    "Dave Ramsey",
                    "David Baldacci",
                    "Terry Goodkind",
                    "Lee Child",
                    "Holly Black, Tony DiTerlizzi",
                    "Erin Hunter",
                    "Neil Gaiman, Andy Kubert, Richard Isanove, Peter Sanderson",
                    "Sherrilyn Kenyon",
                    "Terry Pratchett",
                    "Victoria Finlay",
                    "Jo NesbÃ¸",
                    "William Gibson",
                    "Patricia Schultz",
                    "Mark Millar, Kilian Plunkett, Andrew Robinson, Walden Wong, Dave Johnson",
                    "James Patterson",
                    "Jodi Picoult",
                    "Christopher Moore",
                    "Kristin Hannah",
                    "John   Williams",
                    "Anthony Horowitz",
                    "Vince Flynn",
                    "Chimamanda Ngozi Adichie",
                    "Ø¹Ø§Ø¦Ø¶ Ø§ÙÙØ±ÙÙ",
                    "John Grisham",
                    "J.K. Rowling, Mary GrandPrÃ©",
                    "Michael Connelly",
                    "Ellen Schreiber",
                    "Neal Stephenson",
                    "Tracy Chevalier",
                    "Matthew Pearl",
                    "James Patterson",
                    "Lorna Landvik",
                    "Edward P. Jones",
                    "Laurell K. Hamilton",
                    "Al Franken",
                    "Brian Greene",
                    "Tess Gerritsen",
                    "Brian K. Vaughan, Pia Guerra, JosÃ© MarzÃ¡n Jr.",
                    "Patricia Cornwell",
                    "Benjamin Graham, Jason Zweig, Warren Buffett",
                    "Eric Van Lustbader",
                    "Bill Martin Jr., Eric Carle",
                    "Diana Gabaldon",
                    "Ted Dekker",
                    "D.B.C. Pierre",
                    "Hillary Rodham Clinton",
                    "Erin Hunter",
                    "Seth Godin",
                    "Edith Pattou",
                    "C.J. Sansom",
                    "John Piper",
                    "Garth Nix",
                    "CLAMP, William Flanagan",
                    "Ted Dekker",
                    "D.J. MacHale",
                    "Judy Schachner",
                    "Robert   Harris",
                    "Jennifer Donnelly",
                    "Robert Sabuda, Lewis Carroll",
                    "Ross King",
                    "Erin Hunter",
                    "Gregory Maguire",
                    "Jacqueline Carey",
                    "D.J. MacHale",
                    "Paullina Simons",
                    "Monica Ali",
                    "Dan Brown",
                    "Per Petterson, Anne Born",
                    "Nora Roberts",
                    "David Fishelson, Aaron Leichter, Max Brod, Franz Kafka",
                    "Kathy Reichs",
                    "Nora Roberts",
                    "Jasper Fforde",
                    "Douglas Preston, Lincoln Child",
                    "Jonathan Lethem",
                    "Tom Robbins",
                    "Debbie Macomber",
                    "Meg Cabot",
                    "Melinda Long, David Shannon",
                    "Cressida Cowell",
                    "Harlan Coben",
                    "J. Maarten Troost",
                    "J.D. Robb",
                    "Robin McKinley",
                    "Alexander McCall Smith",
                    "Anchee Min",
                    "Dan Simmons",
                    "Candace Bushnell",
                    "Karin Slaughter",
                    "Li Cunxin",
                    "Bill Willingham, Mark Buckingham, Steve Leialoha, James Jean",
                    "Meg Cabot",
                    "Megan McCafferty",
                    "Carolyn Mackler",
                    "Holly Black, Tony DiTerlizzi",
                    "Melina Marchetta",
                    "Jerry Spinelli",
                    "Darren Shan",
                    "Alastair Reynolds",
                    "Louise Erdrich",
                    "Danielle Steel",
                    "Lisa Gardner",
                    "Douglas Coupland",
                    "Laura C. Schlessinger",
                    "Tom Clancy",
                    "Chris d'Lacey",
                    "Neil Gaiman, Barron Storey, Bill Sienkiewicz, Glenn Fabry, Dave McKean, P. Craig Russell, Milo Manara, Miguelanxo Prado, Frank Quitely, Todd Klein",
                    "Anne Rice",
                    "YÅko Ogawa, Stephen Snyder",
                    "Dean Koontz",
                    "James D. Bradley",
                    "Lian Hearn",
                    "D.J. MacHale",
                    "J.K. Rowling",
                    "Karen Kingsbury",
                    "Richard K. Morgan",
                    "Jenny Nimmo",
                    "Elin Hilderbrand",
                    "Daniel Silva",
                    "Simon R. Green",
                    "Jonathan Tropper",
                    "Tim LaHaye, Jerry B. Jenkins",
                    "Tachibana Higuchi, æ¨å£ æ©",
                    "Patrick Carman",
                    "Jaclyn Moriarty",
                    "Alan Moore, Kevin O'Neill",
                    "Kathryn Lasky",
                    "Brad Thor",
                    "Steve Berry",
                    "James Patterson, Andrew Gross",
                    "Carolyn  Parkhurst",
                    "Ina May Gaskin",
                    "Tim LaHaye, Jerry B. Jenkins",
                    "Lian Hearn",
                    "David Nicholls"
                  ],
                  "x": [
                    4.34,
                    4.44,
                    3.57,
                    4.25,
                    3.89,
                    4.26,
                    4.25,
                    3.79,
                    3.85,
                    4.24,
                    4.26,
                    4.24,
                    4.14,
                    3.87,
                    4.1,
                    4.11,
                    4.3,
                    4.53,
                    4.34,
                    4.03
                  ],
                  "y": [
                    560092,
                    455024,
                    793319,
                    446835,
                    606158,
                    327550,
                    288649,
                    455042,
                    458429,
                    284852,
                    226062,
                    310297,
                    324874,
                    433432,
                    355756,
                    285413,
                    262010,
                    166129,
                    202332,
                    373060
                  ],
                  "type": "scatter"
                }
              ],
              "layout": {
                "template": {
                  "data": {
                    "barpolar": [
                      {
                        "marker": {
                          "line": {
                            "color": "#E5ECF6",
                            "width": 0.5
                          },
                          "pattern": {
                            "fillmode": "overlay",
                            "size": 10,
                            "solidity": 0.2
                          }
                        },
                        "type": "barpolar"
                      }
                    ],
                    "bar": [
                      {
                        "error_x": {
                          "color": "#2a3f5f"
                        },
                        "error_y": {
                          "color": "#2a3f5f"
                        },
                        "marker": {
                          "line": {
                            "color": "#E5ECF6",
                            "width": 0.5
                          },
                          "pattern": {
                            "fillmode": "overlay",
                            "size": 10,
                            "solidity": 0.2
                          }
                        },
                        "type": "bar"
                      }
                    ],
                    "carpet": [
                      {
                        "aaxis": {
                          "endlinecolor": "#2a3f5f",
                          "gridcolor": "white",
                          "linecolor": "white",
                          "minorgridcolor": "white",
                          "startlinecolor": "#2a3f5f"
                        },
                        "baxis": {
                          "endlinecolor": "#2a3f5f",
                          "gridcolor": "white",
                          "linecolor": "white",
                          "minorgridcolor": "white",
                          "startlinecolor": "#2a3f5f"
                        },
                        "type": "carpet"
                      }
                    ],
                    "choropleth": [
                      {
                        "colorbar": {
                          "outlinewidth": 0,
                          "ticks": ""
                        },
                        "type": "choropleth"
                      }
                    ],
                    "contourcarpet": [
                      {
                        "colorbar": {
                          "outlinewidth": 0,
                          "ticks": ""
                        },
                        "type": "contourcarpet"
                      }
                    ],
                    "contour": [
                      {
                        "colorbar": {
                          "outlinewidth": 0,
                          "ticks": ""
                        },
                        "colorscale": [
                          [
                            0,
                            "#0d0887"
                          ],
                          [
                            0.1111111111111111,
                            "#46039f"
                          ],
                          [
                            0.2222222222222222,
                            "#7201a8"
                          ],
                          [
                            0.3333333333333333,
                            "#9c179e"
                          ],
                          [
                            0.4444444444444444,
                            "#bd3786"
                          ],
                          [
                            0.5555555555555556,
                            "#d8576b"
                          ],
                          [
                            0.6666666666666666,
                            "#ed7953"
                          ],
                          [
                            0.7777777777777778,
                            "#fb9f3a"
                          ],
                          [
                            0.8888888888888888,
                            "#fdca26"
                          ],
                          [
                            1,
                            "#f0f921"
                          ]
                        ],
                        "type": "contour"
                      }
                    ],
                    "heatmapgl": [
                      {
                        "colorbar": {
                          "outlinewidth": 0,
                          "ticks": ""
                        },
                        "colorscale": [
                          [
                            0,
                            "#0d0887"
                          ],
                          [
                            0.1111111111111111,
                            "#46039f"
                          ],
                          [
                            0.2222222222222222,
                            "#7201a8"
                          ],
                          [
                            0.3333333333333333,
                            "#9c179e"
                          ],
                          [
                            0.4444444444444444,
                            "#bd3786"
                          ],
                          [
                            0.5555555555555556,
                            "#d8576b"
                          ],
                          [
                            0.6666666666666666,
                            "#ed7953"
                          ],
                          [
                            0.7777777777777778,
                            "#fb9f3a"
                          ],
                          [
                            0.8888888888888888,
                            "#fdca26"
                          ],
                          [
                            1,
                            "#f0f921"
                          ]
                        ],
                        "type": "heatmapgl"
                      }
                    ],
                    "heatmap": [
                      {
                        "colorbar": {
                          "outlinewidth": 0,
                          "ticks": ""
                        },
                        "colorscale": [
                          [
                            0,
                            "#0d0887"
                          ],
                          [
                            0.1111111111111111,
                            "#46039f"
                          ],
                          [
                            0.2222222222222222,
                            "#7201a8"
                          ],
                          [
                            0.3333333333333333,
                            "#9c179e"
                          ],
                          [
                            0.4444444444444444,
                            "#bd3786"
                          ],
                          [
                            0.5555555555555556,
                            "#d8576b"
                          ],
                          [
                            0.6666666666666666,
                            "#ed7953"
                          ],
                          [
                            0.7777777777777778,
                            "#fb9f3a"
                          ],
                          [
                            0.8888888888888888,
                            "#fdca26"
                          ],
                          [
                            1,
                            "#f0f921"
                          ]
                        ],
                        "type": "heatmap"
                      }
                    ],
                    "histogram2dcontour": [
                      {
                        "colorbar": {
                          "outlinewidth": 0,
                          "ticks": ""
                        },
                        "colorscale": [
                          [
                            0,
                            "#0d0887"
                          ],
                          [
                            0.1111111111111111,
                            "#46039f"
                          ],
                          [
                            0.2222222222222222,
                            "#7201a8"
                          ],
                          [
                            0.3333333333333333,
                            "#9c179e"
                          ],
                          [
                            0.4444444444444444,
                            "#bd3786"
                          ],
                          [
                            0.5555555555555556,
                            "#d8576b"
                          ],
                          [
                            0.6666666666666666,
                            "#ed7953"
                          ],
                          [
                            0.7777777777777778,
                            "#fb9f3a"
                          ],
                          [
                            0.8888888888888888,
                            "#fdca26"
                          ],
                          [
                            1,
                            "#f0f921"
                          ]
                        ],
                        "type": "histogram2dcontour"
                      }
                    ],
                    "histogram2d": [
                      {
                        "colorbar": {
                          "outlinewidth": 0,
                          "ticks": ""
                        },
                        "colorscale": [
                          [
                            0,
                            "#0d0887"
                          ],
                          [
                            0.1111111111111111,
                            "#46039f"
                          ],
                          [
                            0.2222222222222222,
                            "#7201a8"
                          ],
                          [
                            0.3333333333333333,
                            "#9c179e"
                          ],
                          [
                            0.4444444444444444,
                            "#bd3786"
                          ],
                          [
                            0.5555555555555556,
                            "#d8576b"
                          ],
                          [
                            0.6666666666666666,
                            "#ed7953"
                          ],
                          [
                            0.7777777777777778,
                            "#fb9f3a"
                          ],
                          [
                            0.8888888888888888,
                            "#fdca26"
                          ],
                          [
                            1,
                            "#f0f921"
                          ]
                        ],
                        "type": "histogram2d"
                      }
                    ],
                    "histogram": [
                      {
                        "marker": {
                          "pattern": {
                            "fillmode": "overlay",
                            "size": 10,
                            "solidity": 0.2
                          }
                        },
                        "type": "histogram"
                      }
                    ],
                    "mesh3d": [
                      {
                        "colorbar": {
                          "outlinewidth": 0,
                          "ticks": ""
                        },
                        "type": "mesh3d"
                      }
                    ],
                    "parcoords": [
                      {
                        "line": {
                          "colorbar": {
                            "outlinewidth": 0,
                            "ticks": ""
                          }
                        },
                        "type": "parcoords"
                      }
                    ],
                    "pie": [
                      {
                        "automargin": true,
                        "type": "pie"
                      }
                    ],
                    "scatter3d": [
                      {
                        "line": {
                          "colorbar": {
                            "outlinewidth": 0,
                            "ticks": ""
                          }
                        },
                        "marker": {
                          "colorbar": {
                            "outlinewidth": 0,
                            "ticks": ""
                          }
                        },
                        "type": "scatter3d"
                      }
                    ],
                    "scattercarpet": [
                      {
                        "marker": {
                          "colorbar": {
                            "outlinewidth": 0,
                            "ticks": ""
                          }
                        },
                        "type": "scattercarpet"
                      }
                    ],
                    "scattergeo": [
                      {
                        "marker": {
                          "colorbar": {
                            "outlinewidth": 0,
                            "ticks": ""
                          }
                        },
                        "type": "scattergeo"
                      }
                    ],
                    "scattergl": [
                      {
                        "marker": {
                          "colorbar": {
                            "outlinewidth": 0,
                            "ticks": ""
                          }
                        },
                        "type": "scattergl"
                      }
                    ],
                    "scattermapbox": [
                      {
                        "marker": {
                          "colorbar": {
                            "outlinewidth": 0,
                            "ticks": ""
                          }
                        },
                        "type": "scattermapbox"
                      }
                    ],
                    "scatterpolargl": [
                      {
                        "marker": {
                          "colorbar": {
                            "outlinewidth": 0,
                            "ticks": ""
                          }
                        },
                        "type": "scatterpolargl"
                      }
                    ],
                    "scatterpolar": [
                      {
                        "marker": {
                          "colorbar": {
                            "outlinewidth": 0,
                            "ticks": ""
                          }
                        },
                        "type": "scatterpolar"
                      }
                    ],
                    "scatter": [
                      {
                        "fillpattern": {
                          "fillmode": "overlay",
                          "size": 10,
                          "solidity": 0.2
                        },
                        "type": "scatter"
                      }
                    ],
                    "scatterternary": [
                      {
                        "marker": {
                          "colorbar": {
                            "outlinewidth": 0,
                            "ticks": ""
                          }
                        },
                        "type": "scatterternary"
                      }
                    ],
                    "surface": [
                      {
                        "colorbar": {
                          "outlinewidth": 0,
                          "ticks": ""
                        },
                        "colorscale": [
                          [
                            0,
                            "#0d0887"
                          ],
                          [
                            0.1111111111111111,
                            "#46039f"
                          ],
                          [
                            0.2222222222222222,
                            "#7201a8"
                          ],
                          [
                            0.3333333333333333,
                            "#9c179e"
                          ],
                          [
                            0.4444444444444444,
                            "#bd3786"
                          ],
                          [
                            0.5555555555555556,
                            "#d8576b"
                          ],
                          [
                            0.6666666666666666,
                            "#ed7953"
                          ],
                          [
                            0.7777777777777778,
                            "#fb9f3a"
                          ],
                          [
                            0.8888888888888888,
                            "#fdca26"
                          ],
                          [
                            1,
                            "#f0f921"
                          ]
                        ],
                        "type": "surface"
                      }
                    ],
                    "table": [
                      {
                        "cells": {
                          "fill": {
                            "color": "#EBF0F8"
                          },
                          "line": {
                            "color": "white"
                          }
                        },
                        "header": {
                          "fill": {
                            "color": "#C8D4E3"
                          },
                          "line": {
                            "color": "white"
                          }
                        },
                        "type": "table"
                      }
                    ]
                  },
                  "layout": {
                    "annotationdefaults": {
                      "arrowcolor": "#2a3f5f",
                      "arrowhead": 0,
                      "arrowwidth": 1
                    },
                    "autotypenumbers": "strict",
                    "coloraxis": {
                      "colorbar": {
                        "outlinewidth": 0,
                        "ticks": ""
                      }
                    },
                    "colorscale": {
                      "diverging": [
                        [
                          0,
                          "#8e0152"
                        ],
                        [
                          0.1,
                          "#c51b7d"
                        ],
                        [
                          0.2,
                          "#de77ae"
                        ],
                        [
                          0.3,
                          "#f1b6da"
                        ],
                        [
                          0.4,
                          "#fde0ef"
                        ],
                        [
                          0.5,
                          "#f7f7f7"
                        ],
                        [
                          0.6,
                          "#e6f5d0"
                        ],
                        [
                          0.7,
                          "#b8e186"
                        ],
                        [
                          0.8,
                          "#7fbc41"
                        ],
                        [
                          0.9,
                          "#4d9221"
                        ],
                        [
                          1,
                          "#276419"
                        ]
                      ],
                      "sequential": [
                        [
                          0,
                          "#0d0887"
                        ],
                        [
                          0.1111111111111111,
                          "#46039f"
                        ],
                        [
                          0.2222222222222222,
                          "#7201a8"
                        ],
                        [
                          0.3333333333333333,
                          "#9c179e"
                        ],
                        [
                          0.4444444444444444,
                          "#bd3786"
                        ],
                        [
                          0.5555555555555556,
                          "#d8576b"
                        ],
                        [
                          0.6666666666666666,
                          "#ed7953"
                        ],
                        [
                          0.7777777777777778,
                          "#fb9f3a"
                        ],
                        [
                          0.8888888888888888,
                          "#fdca26"
                        ],
                        [
                          1,
                          "#f0f921"
                        ]
                      ],
                      "sequentialminus": [
                        [
                          0,
                          "#0d0887"
                        ],
                        [
                          0.1111111111111111,
                          "#46039f"
                        ],
                        [
                          0.2222222222222222,
                          "#7201a8"
                        ],
                        [
                          0.3333333333333333,
                          "#9c179e"
                        ],
                        [
                          0.4444444444444444,
                          "#bd3786"
                        ],
                        [
                          0.5555555555555556,
                          "#d8576b"
                        ],
                        [
                          0.6666666666666666,
                          "#ed7953"
                        ],
                        [
                          0.7777777777777778,
                          "#fb9f3a"
                        ],
                        [
                          0.8888888888888888,
                          "#fdca26"
                        ],
                        [
                          1,
                          "#f0f921"
                        ]
                      ]
                    },
                    "colorway": [
                      "#636efa",
                      "#EF553B",
                      "#00cc96",
                      "#ab63fa",
                      "#FFA15A",
                      "#19d3f3",
                      "#FF6692",
                      "#B6E880",
                      "#FF97FF",
                      "#FECB52"
                    ],
                    "font": {
                      "color": "#2a3f5f"
                    },
                    "geo": {
                      "bgcolor": "white",
                      "lakecolor": "white",
                      "landcolor": "#E5ECF6",
                      "showlakes": true,
                      "showland": true,
                      "subunitcolor": "white"
                    },
                    "hoverlabel": {
                      "align": "left"
                    },
                    "hovermode": "closest",
                    "mapbox": {
                      "style": "light"
                    },
                    "paper_bgcolor": "white",
                    "plot_bgcolor": "#E5ECF6",
                    "polar": {
                      "angularaxis": {
                        "gridcolor": "white",
                        "linecolor": "white",
                        "ticks": ""
                      },
                      "bgcolor": "#E5ECF6",
                      "radialaxis": {
                        "gridcolor": "white",
                        "linecolor": "white",
                        "ticks": ""
                      }
                    },
                    "scene": {
                      "xaxis": {
                        "backgroundcolor": "#E5ECF6",
                        "gridcolor": "white",
                        "gridwidth": 2,
                        "linecolor": "white",
                        "showbackground": true,
                        "ticks": "",
                        "zerolinecolor": "white"
                      },
                      "yaxis": {
                        "backgroundcolor": "#E5ECF6",
                        "gridcolor": "white",
                        "gridwidth": 2,
                        "linecolor": "white",
                        "showbackground": true,
                        "ticks": "",
                        "zerolinecolor": "white"
                      },
                      "zaxis": {
                        "backgroundcolor": "#E5ECF6",
                        "gridcolor": "white",
                        "gridwidth": 2,
                        "linecolor": "white",
                        "showbackground": true,
                        "ticks": "",
                        "zerolinecolor": "white"
                      }
                    },
                    "shapedefaults": {
                      "line": {
                        "color": "#2a3f5f"
                      }
                    },
                    "ternary": {
                      "aaxis": {
                        "gridcolor": "white",
                        "linecolor": "white",
                        "ticks": ""
                      },
                      "baxis": {
                        "gridcolor": "white",
                        "linecolor": "white",
                        "ticks": ""
                      },
                      "bgcolor": "#E5ECF6",
                      "caxis": {
                        "gridcolor": "white",
                        "linecolor": "white",
                        "ticks": ""
                      }
                    },
                    "title": {
                      "x": 0.05
                    },
                    "xaxis": {
                      "automargin": true,
                      "gridcolor": "white",
                      "linecolor": "white",
                      "ticks": "",
                      "title": {
                        "standoff": 15
                      },
                      "zerolinecolor": "white",
                      "zerolinewidth": 2
                    },
                    "yaxis": {
                      "automargin": true,
                      "gridcolor": "white",
                      "linecolor": "white",
                      "ticks": "",
                      "title": {
                        "standoff": 15
                      },
                      "zerolinecolor": "white",
                      "zerolinewidth": 2
                    }
                  }
                },
                "title": {
                  "text": "Ratings and Average Ratings of 2004/2005/2006"
                },
                "xaxis": {
                  "ticklen": 9,
                  "title": {
                    "text": "Average Ratings"
                  },
                  "zeroline": false
                },
                "yaxis": {
                  "ticklen": 9,
                  "title": {
                    "text": "Ratings"
                  },
                  "zeroline": false
                }
              },
              "config": {
                "showLink": false,
                "linkText": "Export to plot.ly",
                "plotlyServerURL": "https://plot.ly"
              }
            },
            "text/html": [
              "<div>                            <div id=\"0012560d-49d7-4cd6-b702-481e68ff6dee\" class=\"plotly-graph-div\" style=\"height:525px; width:100%;\"></div>            <script type=\"text/javascript\">                require([\"plotly\"], function(Plotly) {                    window.PLOTLYENV=window.PLOTLYENV || {};                                    if (document.getElementById(\"0012560d-49d7-4cd6-b702-481e68ff6dee\")) {                    Plotly.newPlot(                        \"0012560d-49d7-4cd6-b702-481e68ff6dee\",                        [{\"marker\":{\"color\":\"rgba(255, 128, 255, 0.8)\"},\"mode\":\"markers\",\"name\":\"2004\",\"text\":[\"Jodi Picoult\",\"Emily Giffin\",\"David Sedaris\",\"Jeff Kinney\",\"Robert Kirkman, Tony Moore\",\"David Mitchell\",\"Jeff Lindsay\",\"Sarah Dessen\",\"Charlaine Harris\",\"Tsugumi Ohba, Takeshi Obata\",\"Susanna Clarke\",\"Bryan Lee O'Malley\",\"Ellen Hopkins\",\"Stephen King\",\"Chelsea Handler\",\"Kate DiCamillo, Timothy Basil Ering\",\"Stephen King, Darrel Anderson\",\"Max Brooks\",\"Chetan Bhagat\",\"Jon Stewart, Ben Karlin, David Javerbaum, Rich Bloomquist, Steve Bodow, Tim Carvell, Eric Drysdale, J.R. Havlan, Scott Jacobson, Tom Johnson, Rob Kutner, Chris Regan, Jason Reich, Jason Ross, Stephen Colbert, Samantha Bee, Rob Corddry, Brendan Hay, Ed Helms\",\"Don Piper, Cecil Murphey\",\"Jennifer Weiner\",\"John Flanagan\",\"Kim Harrison\",\"Haruki Murakami, Jay Rubin\",\"Lois Lowry\",\"Michael Crichton\",\"Jonathan Stroud\",\"Jenna Blum\",\"Jim Butcher\",\"Terry Pratchett\",\"John Grisham\",\"Sophie Kinsella\",\"Nicholas Sparks\",\"Cecelia Ahern\",\"Jim Butcher\",\"Sue Monk Kidd\",\"Jennifer Crusie\",\"Janet Evanovich\",\"Nora Roberts\",\"Greg Behrendt, Liz Tuccillo\",\"John Eldredge, Stasi Eldredge\",\"John Ajvide Lindqvist\",\"Ben Sherwood\",\"Lemony Snicket, Brett Helquist\",\"Marilynne Robinson\",\"Anthony Kiedis, Larry Sloman\",\"Gabriel GarcÃ­a MÃ¡rquez, Edith Grossman\",\"Augusten Burroughs\",\"James Patterson, Andrew Gross\",\"Kate Atkinson\",\"Dave Barry, Ridley Pearson, Greg Call\",\"Jared Diamond\",\"Gregory Maguire, Douglas Smith\",\"Robert Jordan\",\"IrÃ¨ne NÃ©mirovsky, Sandra Smith\",\"Karen Joy Fowler\",\"Ron Chernow\",\"Lee Child\",\"Sarah  Young\",\"Bob Dylan\",\"Anthony Horowitz\",\"Bernard Cornwell\",\"Bill Clinton\",\"Terry Goodkind\",\"Geraldine Brooks\",\"Atsushi Ohkubo\",\"Terry Pratchett\",\"Vince Flynn\",\"Emerson Eggerichs\",\"W. Chan Kim, RenÃ©e Mauborgne\",\"Philippa Gregory\",\"Bev Vincent\",\"CLAMP, Anthony Gerard\",\"Umberto Eco, Girolamo De Michele, Alastair McEwen\",\"Mo Willems\",\"Abbi Glines\",\"Lisa Gardner\",\"MaryJanice Davidson\",\"Marian Keyes\",\"Tamora Pierce\",\"Camilla LÃ¤ckberg, Steven T. Murray\",\"Jeanne DuPrau\",\"Peter F. Hamilton\",\"Nicholas Sparks, Micah Sparks\",\"John Perkins\",\"James Patterson\",\"Tamora Pierce\",\"Christopher Moore\",\"Carl Hiaasen\",\"Dean Koontz\",\"Sherrilyn Kenyon\",\"Tess Gerritsen\",\"Gennifer Choldenko\",\"Robert Kirkman, Tony Moore, Charlie Adlard, Cliff Rathburn\",\"Philip Roth\",\"Jane Green\",\"Joseph J. Ellis\",\"Ann Patchett\",\"Steven Erikson\",\"Nora Roberts\",\"Laurell K. Hamilton\",\"Sam Harris\",\"Joseph Delaney, Patrick  Arrasmith\",\"Plum Sykes\",\"James Rollins\",\"Wayne W. Dyer\",\"Jack Weatherford\",\"Michael Connelly\",\"Suzanne Collins\",\"Frank Beddor\",\"Robert Kirkman, Charlie Adlard\",\"Tom Perrotta\",\"Katsura Hoshino, Mayumi Kobayashi\",\"Ian Caldwell, Dustin Thomason\",\"Sarah Weeks\",\"Lolly Winston\",\"Joss Whedon, John Cassaday\",\"Tom Wolfe\",\"Sherrilyn Kenyon\",\"Lisi Harrison\",\"Daniel H. Pink\",\"Dean Koontz\",\"Meg Rosoff\",\"Shannon Hale\",\"Douglas Preston, Lincoln Child\",\"Ted Dekker\",\"David Baldacci\",\"Barry Schwartz\",\"Jack Canfield, Janet Switzer\",\"Chuck Palahniuk\",\"Guy Kawasaki\",\"Esther Hicks, Jerry Hicks, Wayne W. Dyer\",\"Brian K. Vaughan, Pia Guerra, JosÃ© MarzÃ¡n Jr.\",\"Roberto BolaÃ±o\",\"Anita Shreve\",\"Diana L. Paxson, Marion Zimmer Bradley\",\"Sherrilyn Kenyon\",\"Steven Erikson\",\"Brian K. Vaughan, Pia Guerra, JosÃ© MarzÃ¡n Jr., Paul Chadwick\",\"Harlan Coben\",\"Sue Grafton\",\"Shaunti Feldhahn\",\"James Surowiecki\",\"MaryJanice Davidson\",\"Erin Hunter\",\"Holly Black, Tony DiTerlizzi\",\"Karin Slaughter\",\"Patricia Cornwell\",\"A.J. Jacobs\",\"Bill Willingham, Mark Buckingham, Craig Hamilton, Steve Leialoha, P. Craig Russell\",\"Janet Evanovich\",\"Kelley Armstrong\",\"Ken Follett\",\"Nelson DeMille\",\"Lisa Kleypas\",\"Ted Dekker\",\"Kazune Kawahara\",\"Robert Kurson\",\"Katherine Hannigan\",\"Laurell K. Hamilton\",\"Habiburrahman El-Shirazy\",\"Holly Black, Tony DiTerlizzi\",\"Brian K. Vaughan, Pia Guerra, Goran Parlov, JosÃ© MarzÃ¡n Jr.\",\"Anne Lamott\",\"Brad Thor\",\"Richard Dawkins\",\"Robert Muchamore\",\"Kathy Reichs\",\"Camilla LÃ¤ckberg, Steven T. Murray\",\"Neal Stephenson\",\"Kelley Armstrong\",\"Karen Marie Moning\",\"Jasper Fforde\",\"Andrea Levy\",\"Eoin Colfer\",\"Dee Lestari\",\"Alan Hollinghurst\",\"John Sandford\",\"D.J. MacHale\",\"Aron Ralston\",\"Meg Cabot\",\"Tite Kubo\",\"Jordan Sonnenblick\",\"Lisa Kleypas\",\"Garth Nix\",\"Akira Amano, JN Productions, Frances E. Wall\",\"Neal Stephenson\",\"Kristin Hannah\",\"Scott Westerfeld\",\"Alexander McCall Smith\",\"Allan Pease, Barbara Pease\",\"Susan Elizabeth Phillips\",\"Blue Balliett, Brett Helquist\",\"Brad Meltzer, Rags Morales, Michael Bair, Joss Whedon\",\"Bill Willingham, Mark Buckingham, Steve Leialoha, James Jean\",\"Ridley Pearson, David Frankland\",\"Mo Willems\",\"Meg Cabot\",\"Julie Anne Peters\"],\"x\":[4.34,4.44,3.57,4.25,3.89,4.26,4.25,3.79,3.85,4.24,4.26,4.24,4.14,3.87,4.1,4.11,4.3,4.53,4.34,4.03],\"y\":[66715,75504,456191,60427,86236,47994,46023,109383,77841,54700,34288,36315,41845,66854,45225,54835,10492,6716,38031,30144],\"type\":\"scatter\"},{\"marker\":{\"color\":\"rgba(255, 128, 2, 0.8)\"},\"mode\":\"markers\",\"name\":\"2005\",\"text\":[\"Stephenie Meyer\",\"Stieg Larsson, Reg Keeland\",\"J.K. Rowling, Mary GrandPrÃ©\",\"Rick Riordan\",\"Markus Zusak\",\"John Green\",\"Jeannette Walls\",\"Steven D. Levitt, Stephen J. Dubner\",\"Kim Edwards\",\"George R.R. Martin\",\"Scott Westerfeld\",\"John Grogan\",\"Malcolm Gladwell\",\"Jonathan Safran Foer\",\"Kazuo Ishiguro\",\"Lisa See\",\"Christopher Paolini\",\"Sophie Kinsella\",\"J.R. Ward\",\"Emily Giffin\",\"Elizabeth Kostova\",\"Scott Westerfeld\",\"Michael Connelly\",\"James Patterson\",\"Charlaine Harris\",\"Neil Gaiman\",\"David McCullough\",\"Philippa Gregory\",\"Julie Powell\",\"Eckhart Tolle\",\"Cormac McCarthy\",\"Nicole Krauss\",\"Doris Kearns Goodwin, Suzanne Toren\",\"Joan Didion\",\"John Scalzi\",\"Thomas L. Friedman\",\"Stephenie Meyer, Ilyana Kadushin, Matt Walters\",\"Diana Gabaldon\",\"Brandon Sanderson\",\"Matsuri Hino, Tomo Kimura\",\"Jodi Picoult\",\"Eoin Colfer\",\"Chuck Palahniuk\",\"Robert Jordan\",\"Stephen King, Jerry N. Uelsmann\",\"John Grisham\",\"Angie Sage\",\"Maria V. Snyder\",\"Jim Butcher\",\"Lee Child\",\"Janet Evanovich\",\"Cornelia Funke, Anthea Bell\",\"John Flanagan\",\"Nick Hornby\",\"Lauren Weisberger\",\"Shannon Hale\",\"Frank Warren\",\"Paulo Coelho, Margaret Jull Costa\",\"David Baldacci\",\"Stephenie Meyer\",\"Maureen Johnson\",\"Ron Hall, Denver Moore, Lynn Vincent\",\"Dean Koontz\",\"Louise Penny\",\"Meg Cabot\",\"Jennifer Weiner\",\"James Patterson, Maxine Paetro\",\"Chetan Bhagat\",\"Curtis Sittenfeld\",\"David Cote, Stephen Schwartz, Joan Marcus, Winnie Holzman\",\"Dean Koontz\",\"Zadie Smith\",\"Libba Bray\",\"Lemony Snicket, Brett Helquist\",\"Ian McEwan\",\"Ann Brashares\",\"Bryan Lee O'Malley\",\"John Flanagan\",\"Charles C. Mann\",\"Stieg Larsson, Reg Keeland\",\"Kim Harrison\",\"James Frey\",\"James Rollins\",\"Charlaine Harris\",\"Jim Butcher\",\"Candace Bushnell\",\"Orson Scott Card\",\"Giada De Laurentiis\",\"James Patterson\",\"Kurt Vonnegut Jr.\",\"Kim Harrison\",\"Vince Flynn\",\"Sarah Vowell\",\"Kate Mosse\",\"James Patterson, Howard Roughan\",\"Rory Freedman, Kim Barnouin\",\"Gabrielle Zevin\",\"Jeff Lindsay\",\"Suzanne Collins\",\"Miranda July\",\"Candice Millard\",\"Michael Buckley, Peter Ferguson\",\"David Foster Wallace\",\"Anthony Horowitz\",\"T. Harv Eker\",\"Keith Ferrazzi\",\"Cecelia Ahern\",\"Naoki Higashida, K.A. Yoshida, David Mitchell\",\"J.R. Moehringer\",\"Anna Dewdney\",\"Chuck Klosterman\",\"Bill Watterson\",\"Marisa de los Santos\",\"Ruth Reichl\",\"Andrea Hirata\",\"J.K. Rowling\",\"Victoria Hislop\",\"Kelly Corrigan\",\"Robert Charles Wilson\",\"Dean Koontz, Kevin J. Anderson, Scott Brick\",\"Mary Roach\",\"Frank McCourt\",\"Michael Connelly\",\"Bernard Cornwell\",\"Peter F. Hamilton\",\"Amy Tan\",\"Nora Roberts\",\"Susan Elizabeth Phillips\",\"Meg Cabot\",\"Nikki Sixx\",\"Vikas Swarup\",\"Stephen Hawking, Leonard Mlodinow\",\"Rachael Ray\",\"Jeanne Birdsall\",\"Meg Cabot\",\"Nora Roberts\",\"Kate Brian\",\"Robert Kirkman, Charlie Adlard\",\"Tim Harford\",\"Koren Zailckas\",\"John Irving\",\"Martha Stout\",\"Haruki Murakami, Ted Goossen\",\"Erin Hunter\",\"Erin Hunter\",\"Christopher Paolini\",\"Lynsay Sands\",\"Jasper Fforde\",\"JosÃ© Saramago, Margaret Jull Costa\",\"Rob Bell\",\"Jonathan Harr\",\"Hester Browne\",\"Roy Thomas, Dick Giordano, Mark D. Beazley, Bram Stoker\",\"Sherrilyn Kenyon\",\"Dmitry Glukhovsky, M. David Drevs\",\"James Patterson, Andrew Gross\",\"Joe Hill, Christopher Golden\",\"Marina Lewycka\",\"Neil Strauss\",\"Karen Kingsbury\",\"Ed Brubaker, Doug Mahnke, Patrick Zircher, Aaron Sowd, Steve Bird\",\"Erin Hunter\",\"Jane O'Connor, Robin Preiss Glasser\",\"Nora Roberts\",\"Patricia Cornwell\",\"Bret Easton Ellis\",\"D.J. MacHale\",\"Paul Auster\",\"Lisa Kleypas\",\"Robert Kirkman, Charlie Adlard, Cliff Rathburn\",\"Danny Gregory\",\"Jo NesbÃ¸\",\"Kerrelyn Sparks\",\"Laurell K. Hamilton\",\"Joseph Delaney, Patrick  Arrasmith\",\"Reza Aslan\",\"Douglas Preston, Lincoln Child\",\"E. Lockhart\",\"Margaret Atwood\",\"Gigi Levangie Grazer\",\"Grant Morrison, Frank Quitely\",\"Elizabeth Flock\",\"Frank E. Peretti\",\"Carl Hiaasen\",\"John Banville\",\"Stephen King\",\"Brian K. Vaughan, Pia Guerra, Goran SudÅ¾uka, JosÃ© MarzÃ¡n Jr.\",\"Matthew Reilly\",\"Lori Lansens\",\"Sherrilyn Kenyon\",\"Karin Slaughter\",\"Donny Dhirgantoro\",\"Harlan Coben\",\"Elin Hilderbrand\",\"Jenny Nimmo\",\"Wendy Mass\",\"Dean Koontz, Ed Gorman, John Bedford Lloyd\",\"D.J. MacHale\",\"Erin Hunter\",\"Greg Iles\"],\"x\":[4.34,4.44,3.57,4.25,3.89,4.26,4.25,3.79,3.85,4.24,4.26,4.24,4.14,3.87,4.1,4.11,4.3,4.53,4.34,4.03],\"y\":[127936,101676,436802,117415,197621,92723,76784,185520,145740,86485,59980,82870,86425,135147,91270,86051,48030,20413,55862,110498],\"type\":\"scatter\"},{\"marker\":{\"color\":\"rgba(0, 255, 200, 0.8)\"},\"mode\":\"markers\",\"name\":\"2003\",\"text\":[\"Khaled Hosseini\",\"J.K. Rowling, Mary GrandPrÃ©\",\"Dan Brown\",\"Audrey Niffenegger\",\"Mark Haddon\",\"Lauren Weisberger\",\"Mitch Albom\",\"Erik Larson, Tony Goldwyn\",\"Cecelia Ahern\",\"Sophie Kinsella\",\"Cornelia Funke, Anthea Bell\",\"Dean Koontz\",\"Bill Bryson\",\"Jhumpa Lahiri\",\"James Frey\",\"Jeanne DuPrau\",\"Charlaine Harris\",\"Nicholas Sparks\",\"Margaret Atwood\",\"Libba Bray\",\"Nicholas Sparks\",\"Jon Krakauer\",\"Paulo Coelho, Margaret Jull Costa\",\"Gregory David Roberts\",\"Mary Roach\",\"Dennis Lehane\",\"Bisco Hatori\",\"Lionel Shriver\",\"Azar Nafisi\",\"Stephen King, Bernie Wrightson\",\"Donald Miller\",\"Augusten Burroughs\",\"Eoin Colfer\",\"Michael   Lewis\",\"Jonathan Stroud\",\"Sarah Dunant\",\"Shannon Hale\",\"Brian K. Vaughan, Pia Guerra, JosÃ© MarzÃ¡n Jr.\",\"Alan Brennert\",\"Jim Butcher\",\"Garth Nix\",\"Janet Evanovich\",\"Lynne Truss\",\"Craig Thompson\",\"Walter Isaacson\",\"Chuck Palahniuk\",\"Chuck Klosterman\",\"John Grisham\",\"Nicholas Sparks\",\"Travis Bradberry, Jean Greaves, Patrick Lencioni\",\"Marjane Satrapi, Mattias Ripa, Blake Ferris, Anjali Singh\",\"Lemony Snicket, Brett Helquist\",\"Philippa Gregory\",\"Robert Jordan\",\"Suzanne Collins\",\"Tracy Kidder\",\"Ann Brashares\",\"Terry Pratchett\",\"Mo Willems\",\"Liane Moriarty\",\"Nora Roberts\",\"Dr. Seuss, Various\",\"Jacqueline Winspear\",\"David Levithan\",\"Robin Hobb\",\"Dave Ramsey\",\"David Baldacci\",\"Terry Goodkind\",\"Lee Child\",\"Holly Black, Tony DiTerlizzi\",\"Erin Hunter\",\"Neil Gaiman, Andy Kubert, Richard Isanove, Peter Sanderson\",\"Sherrilyn Kenyon\",\"Terry Pratchett\",\"Victoria Finlay\",\"Jo NesbÃ¸\",\"William Gibson\",\"Patricia Schultz\",\"Mark Millar, Kilian Plunkett, Andrew Robinson, Walden Wong, Dave Johnson\",\"James Patterson\",\"Jodi Picoult\",\"Christopher Moore\",\"Kristin Hannah\",\"John   Williams\",\"Anthony Horowitz\",\"Vince Flynn\",\"Chimamanda Ngozi Adichie\",\"Ø¹Ø§Ø¦Ø¶ Ø§ÙÙØ±ÙÙ\",\"John Grisham\",\"J.K. Rowling, Mary GrandPrÃ©\",\"Michael Connelly\",\"Ellen Schreiber\",\"Neal Stephenson\",\"Tracy Chevalier\",\"Matthew Pearl\",\"James Patterson\",\"Lorna Landvik\",\"Edward P. Jones\",\"Laurell K. Hamilton\",\"Al Franken\",\"Brian Greene\",\"Tess Gerritsen\",\"Brian K. Vaughan, Pia Guerra, JosÃ© MarzÃ¡n Jr.\",\"Patricia Cornwell\",\"Benjamin Graham, Jason Zweig, Warren Buffett\",\"Eric Van Lustbader\",\"Bill Martin Jr., Eric Carle\",\"Diana Gabaldon\",\"Ted Dekker\",\"D.B.C. Pierre\",\"Hillary Rodham Clinton\",\"Erin Hunter\",\"Seth Godin\",\"Edith Pattou\",\"C.J. Sansom\",\"John Piper\",\"Garth Nix\",\"CLAMP, William Flanagan\",\"Ted Dekker\",\"D.J. MacHale\",\"Judy Schachner\",\"Robert   Harris\",\"Jennifer Donnelly\",\"Robert Sabuda, Lewis Carroll\",\"Ross King\",\"Erin Hunter\",\"Gregory Maguire\",\"Jacqueline Carey\",\"D.J. MacHale\",\"Paullina Simons\",\"Monica Ali\",\"Dan Brown\",\"Per Petterson, Anne Born\",\"Nora Roberts\",\"David Fishelson, Aaron Leichter, Max Brod, Franz Kafka\",\"Kathy Reichs\",\"Nora Roberts\",\"Jasper Fforde\",\"Douglas Preston, Lincoln Child\",\"Jonathan Lethem\",\"Tom Robbins\",\"Debbie Macomber\",\"Meg Cabot\",\"Melinda Long, David Shannon\",\"Cressida Cowell\",\"Harlan Coben\",\"J. Maarten Troost\",\"J.D. Robb\",\"Robin McKinley\",\"Alexander McCall Smith\",\"Anchee Min\",\"Dan Simmons\",\"Candace Bushnell\",\"Karin Slaughter\",\"Li Cunxin\",\"Bill Willingham, Mark Buckingham, Steve Leialoha, James Jean\",\"Meg Cabot\",\"Megan McCafferty\",\"Carolyn Mackler\",\"Holly Black, Tony DiTerlizzi\",\"Melina Marchetta\",\"Jerry Spinelli\",\"Darren Shan\",\"Alastair Reynolds\",\"Louise Erdrich\",\"Danielle Steel\",\"Lisa Gardner\",\"Douglas Coupland\",\"Laura C. Schlessinger\",\"Tom Clancy\",\"Chris d'Lacey\",\"Neil Gaiman, Barron Storey, Bill Sienkiewicz, Glenn Fabry, Dave McKean, P. Craig Russell, Milo Manara, Miguelanxo Prado, Frank Quitely, Todd Klein\",\"Anne Rice\",\"YÅko Ogawa, Stephen Snyder\",\"Dean Koontz\",\"James D. Bradley\",\"Lian Hearn\",\"D.J. MacHale\",\"J.K. Rowling\",\"Karen Kingsbury\",\"Richard K. Morgan\",\"Jenny Nimmo\",\"Elin Hilderbrand\",\"Daniel Silva\",\"Simon R. Green\",\"Jonathan Tropper\",\"Tim LaHaye, Jerry B. Jenkins\",\"Tachibana Higuchi, æ¨å£ æ©\",\"Patrick Carman\",\"Jaclyn Moriarty\",\"Alan Moore, Kevin O'Neill\",\"Kathryn Lasky\",\"Brad Thor\",\"Steve Berry\",\"James Patterson, Andrew Gross\",\"Carolyn  Parkhurst\",\"Ina May Gaskin\",\"Tim LaHaye, Jerry B. Jenkins\",\"Lian Hearn\",\"David Nicholls\"],\"x\":[4.34,4.44,3.57,4.25,3.89,4.26,4.25,3.79,3.85,4.24,4.26,4.24,4.14,3.87,4.1,4.11,4.3,4.53,4.34,4.03],\"y\":[560092,455024,793319,446835,606158,327550,288649,455042,458429,284852,226062,310297,324874,433432,355756,285413,262010,166129,202332,373060],\"type\":\"scatter\"}],                        {\"template\":{\"data\":{\"barpolar\":[{\"marker\":{\"line\":{\"color\":\"#E5ECF6\",\"width\":0.5},\"pattern\":{\"fillmode\":\"overlay\",\"size\":10,\"solidity\":0.2}},\"type\":\"barpolar\"}],\"bar\":[{\"error_x\":{\"color\":\"#2a3f5f\"},\"error_y\":{\"color\":\"#2a3f5f\"},\"marker\":{\"line\":{\"color\":\"#E5ECF6\",\"width\":0.5},\"pattern\":{\"fillmode\":\"overlay\",\"size\":10,\"solidity\":0.2}},\"type\":\"bar\"}],\"carpet\":[{\"aaxis\":{\"endlinecolor\":\"#2a3f5f\",\"gridcolor\":\"white\",\"linecolor\":\"white\",\"minorgridcolor\":\"white\",\"startlinecolor\":\"#2a3f5f\"},\"baxis\":{\"endlinecolor\":\"#2a3f5f\",\"gridcolor\":\"white\",\"linecolor\":\"white\",\"minorgridcolor\":\"white\",\"startlinecolor\":\"#2a3f5f\"},\"type\":\"carpet\"}],\"choropleth\":[{\"colorbar\":{\"outlinewidth\":0,\"ticks\":\"\"},\"type\":\"choropleth\"}],\"contourcarpet\":[{\"colorbar\":{\"outlinewidth\":0,\"ticks\":\"\"},\"type\":\"contourcarpet\"}],\"contour\":[{\"colorbar\":{\"outlinewidth\":0,\"ticks\":\"\"},\"colorscale\":[[0.0,\"#0d0887\"],[0.1111111111111111,\"#46039f\"],[0.2222222222222222,\"#7201a8\"],[0.3333333333333333,\"#9c179e\"],[0.4444444444444444,\"#bd3786\"],[0.5555555555555556,\"#d8576b\"],[0.6666666666666666,\"#ed7953\"],[0.7777777777777778,\"#fb9f3a\"],[0.8888888888888888,\"#fdca26\"],[1.0,\"#f0f921\"]],\"type\":\"contour\"}],\"heatmapgl\":[{\"colorbar\":{\"outlinewidth\":0,\"ticks\":\"\"},\"colorscale\":[[0.0,\"#0d0887\"],[0.1111111111111111,\"#46039f\"],[0.2222222222222222,\"#7201a8\"],[0.3333333333333333,\"#9c179e\"],[0.4444444444444444,\"#bd3786\"],[0.5555555555555556,\"#d8576b\"],[0.6666666666666666,\"#ed7953\"],[0.7777777777777778,\"#fb9f3a\"],[0.8888888888888888,\"#fdca26\"],[1.0,\"#f0f921\"]],\"type\":\"heatmapgl\"}],\"heatmap\":[{\"colorbar\":{\"outlinewidth\":0,\"ticks\":\"\"},\"colorscale\":[[0.0,\"#0d0887\"],[0.1111111111111111,\"#46039f\"],[0.2222222222222222,\"#7201a8\"],[0.3333333333333333,\"#9c179e\"],[0.4444444444444444,\"#bd3786\"],[0.5555555555555556,\"#d8576b\"],[0.6666666666666666,\"#ed7953\"],[0.7777777777777778,\"#fb9f3a\"],[0.8888888888888888,\"#fdca26\"],[1.0,\"#f0f921\"]],\"type\":\"heatmap\"}],\"histogram2dcontour\":[{\"colorbar\":{\"outlinewidth\":0,\"ticks\":\"\"},\"colorscale\":[[0.0,\"#0d0887\"],[0.1111111111111111,\"#46039f\"],[0.2222222222222222,\"#7201a8\"],[0.3333333333333333,\"#9c179e\"],[0.4444444444444444,\"#bd3786\"],[0.5555555555555556,\"#d8576b\"],[0.6666666666666666,\"#ed7953\"],[0.7777777777777778,\"#fb9f3a\"],[0.8888888888888888,\"#fdca26\"],[1.0,\"#f0f921\"]],\"type\":\"histogram2dcontour\"}],\"histogram2d\":[{\"colorbar\":{\"outlinewidth\":0,\"ticks\":\"\"},\"colorscale\":[[0.0,\"#0d0887\"],[0.1111111111111111,\"#46039f\"],[0.2222222222222222,\"#7201a8\"],[0.3333333333333333,\"#9c179e\"],[0.4444444444444444,\"#bd3786\"],[0.5555555555555556,\"#d8576b\"],[0.6666666666666666,\"#ed7953\"],[0.7777777777777778,\"#fb9f3a\"],[0.8888888888888888,\"#fdca26\"],[1.0,\"#f0f921\"]],\"type\":\"histogram2d\"}],\"histogram\":[{\"marker\":{\"pattern\":{\"fillmode\":\"overlay\",\"size\":10,\"solidity\":0.2}},\"type\":\"histogram\"}],\"mesh3d\":[{\"colorbar\":{\"outlinewidth\":0,\"ticks\":\"\"},\"type\":\"mesh3d\"}],\"parcoords\":[{\"line\":{\"colorbar\":{\"outlinewidth\":0,\"ticks\":\"\"}},\"type\":\"parcoords\"}],\"pie\":[{\"automargin\":true,\"type\":\"pie\"}],\"scatter3d\":[{\"line\":{\"colorbar\":{\"outlinewidth\":0,\"ticks\":\"\"}},\"marker\":{\"colorbar\":{\"outlinewidth\":0,\"ticks\":\"\"}},\"type\":\"scatter3d\"}],\"scattercarpet\":[{\"marker\":{\"colorbar\":{\"outlinewidth\":0,\"ticks\":\"\"}},\"type\":\"scattercarpet\"}],\"scattergeo\":[{\"marker\":{\"colorbar\":{\"outlinewidth\":0,\"ticks\":\"\"}},\"type\":\"scattergeo\"}],\"scattergl\":[{\"marker\":{\"colorbar\":{\"outlinewidth\":0,\"ticks\":\"\"}},\"type\":\"scattergl\"}],\"scattermapbox\":[{\"marker\":{\"colorbar\":{\"outlinewidth\":0,\"ticks\":\"\"}},\"type\":\"scattermapbox\"}],\"scatterpolargl\":[{\"marker\":{\"colorbar\":{\"outlinewidth\":0,\"ticks\":\"\"}},\"type\":\"scatterpolargl\"}],\"scatterpolar\":[{\"marker\":{\"colorbar\":{\"outlinewidth\":0,\"ticks\":\"\"}},\"type\":\"scatterpolar\"}],\"scatter\":[{\"fillpattern\":{\"fillmode\":\"overlay\",\"size\":10,\"solidity\":0.2},\"type\":\"scatter\"}],\"scatterternary\":[{\"marker\":{\"colorbar\":{\"outlinewidth\":0,\"ticks\":\"\"}},\"type\":\"scatterternary\"}],\"surface\":[{\"colorbar\":{\"outlinewidth\":0,\"ticks\":\"\"},\"colorscale\":[[0.0,\"#0d0887\"],[0.1111111111111111,\"#46039f\"],[0.2222222222222222,\"#7201a8\"],[0.3333333333333333,\"#9c179e\"],[0.4444444444444444,\"#bd3786\"],[0.5555555555555556,\"#d8576b\"],[0.6666666666666666,\"#ed7953\"],[0.7777777777777778,\"#fb9f3a\"],[0.8888888888888888,\"#fdca26\"],[1.0,\"#f0f921\"]],\"type\":\"surface\"}],\"table\":[{\"cells\":{\"fill\":{\"color\":\"#EBF0F8\"},\"line\":{\"color\":\"white\"}},\"header\":{\"fill\":{\"color\":\"#C8D4E3\"},\"line\":{\"color\":\"white\"}},\"type\":\"table\"}]},\"layout\":{\"annotationdefaults\":{\"arrowcolor\":\"#2a3f5f\",\"arrowhead\":0,\"arrowwidth\":1},\"autotypenumbers\":\"strict\",\"coloraxis\":{\"colorbar\":{\"outlinewidth\":0,\"ticks\":\"\"}},\"colorscale\":{\"diverging\":[[0,\"#8e0152\"],[0.1,\"#c51b7d\"],[0.2,\"#de77ae\"],[0.3,\"#f1b6da\"],[0.4,\"#fde0ef\"],[0.5,\"#f7f7f7\"],[0.6,\"#e6f5d0\"],[0.7,\"#b8e186\"],[0.8,\"#7fbc41\"],[0.9,\"#4d9221\"],[1,\"#276419\"]],\"sequential\":[[0.0,\"#0d0887\"],[0.1111111111111111,\"#46039f\"],[0.2222222222222222,\"#7201a8\"],[0.3333333333333333,\"#9c179e\"],[0.4444444444444444,\"#bd3786\"],[0.5555555555555556,\"#d8576b\"],[0.6666666666666666,\"#ed7953\"],[0.7777777777777778,\"#fb9f3a\"],[0.8888888888888888,\"#fdca26\"],[1.0,\"#f0f921\"]],\"sequentialminus\":[[0.0,\"#0d0887\"],[0.1111111111111111,\"#46039f\"],[0.2222222222222222,\"#7201a8\"],[0.3333333333333333,\"#9c179e\"],[0.4444444444444444,\"#bd3786\"],[0.5555555555555556,\"#d8576b\"],[0.6666666666666666,\"#ed7953\"],[0.7777777777777778,\"#fb9f3a\"],[0.8888888888888888,\"#fdca26\"],[1.0,\"#f0f921\"]]},\"colorway\":[\"#636efa\",\"#EF553B\",\"#00cc96\",\"#ab63fa\",\"#FFA15A\",\"#19d3f3\",\"#FF6692\",\"#B6E880\",\"#FF97FF\",\"#FECB52\"],\"font\":{\"color\":\"#2a3f5f\"},\"geo\":{\"bgcolor\":\"white\",\"lakecolor\":\"white\",\"landcolor\":\"#E5ECF6\",\"showlakes\":true,\"showland\":true,\"subunitcolor\":\"white\"},\"hoverlabel\":{\"align\":\"left\"},\"hovermode\":\"closest\",\"mapbox\":{\"style\":\"light\"},\"paper_bgcolor\":\"white\",\"plot_bgcolor\":\"#E5ECF6\",\"polar\":{\"angularaxis\":{\"gridcolor\":\"white\",\"linecolor\":\"white\",\"ticks\":\"\"},\"bgcolor\":\"#E5ECF6\",\"radialaxis\":{\"gridcolor\":\"white\",\"linecolor\":\"white\",\"ticks\":\"\"}},\"scene\":{\"xaxis\":{\"backgroundcolor\":\"#E5ECF6\",\"gridcolor\":\"white\",\"gridwidth\":2,\"linecolor\":\"white\",\"showbackground\":true,\"ticks\":\"\",\"zerolinecolor\":\"white\"},\"yaxis\":{\"backgroundcolor\":\"#E5ECF6\",\"gridcolor\":\"white\",\"gridwidth\":2,\"linecolor\":\"white\",\"showbackground\":true,\"ticks\":\"\",\"zerolinecolor\":\"white\"},\"zaxis\":{\"backgroundcolor\":\"#E5ECF6\",\"gridcolor\":\"white\",\"gridwidth\":2,\"linecolor\":\"white\",\"showbackground\":true,\"ticks\":\"\",\"zerolinecolor\":\"white\"}},\"shapedefaults\":{\"line\":{\"color\":\"#2a3f5f\"}},\"ternary\":{\"aaxis\":{\"gridcolor\":\"white\",\"linecolor\":\"white\",\"ticks\":\"\"},\"baxis\":{\"gridcolor\":\"white\",\"linecolor\":\"white\",\"ticks\":\"\"},\"bgcolor\":\"#E5ECF6\",\"caxis\":{\"gridcolor\":\"white\",\"linecolor\":\"white\",\"ticks\":\"\"}},\"title\":{\"x\":0.05},\"xaxis\":{\"automargin\":true,\"gridcolor\":\"white\",\"linecolor\":\"white\",\"ticks\":\"\",\"title\":{\"standoff\":15},\"zerolinecolor\":\"white\",\"zerolinewidth\":2},\"yaxis\":{\"automargin\":true,\"gridcolor\":\"white\",\"linecolor\":\"white\",\"ticks\":\"\",\"title\":{\"standoff\":15},\"zerolinecolor\":\"white\",\"zerolinewidth\":2}}},\"title\":{\"text\":\"Ratings and Average Ratings of 2004\\u002f2005\\u002f2006\"},\"xaxis\":{\"ticklen\":9,\"title\":{\"text\":\"Average Ratings\"},\"zeroline\":false},\"yaxis\":{\"ticklen\":9,\"title\":{\"text\":\"Ratings\"},\"zeroline\":false}},                        {\"responsive\": true}                    ).then(function(){\n",
              "                            \n",
              "var gd = document.getElementById('0012560d-49d7-4cd6-b702-481e68ff6dee');\n",
              "var x = new MutationObserver(function (mutations, observer) {{\n",
              "        var display = window.getComputedStyle(gd).display;\n",
              "        if (!display || display === 'none') {{\n",
              "            console.log([gd, 'removed!']);\n",
              "            Plotly.purge(gd);\n",
              "            observer.disconnect();\n",
              "        }}\n",
              "}});\n",
              "\n",
              "// Listen for the removal of the full notebook cells\n",
              "var notebookContainer = gd.closest('#notebook-container');\n",
              "if (notebookContainer) {{\n",
              "    x.observe(notebookContainer, {childList: true});\n",
              "}}\n",
              "\n",
              "// Listen for the clearing of the current output cell\n",
              "var outputEl = gd.closest('.output');\n",
              "if (outputEl) {{\n",
              "    x.observe(outputEl, {childList: true});\n",
              "}}\n",
              "\n",
              "                        })                };                });            </script>        </div>"
            ]
          },
          "metadata": {}
        }
      ]
    },
    {
      "metadata": {
        "trusted": true,
        "colab": {
          "base_uri": "https://localhost:8080/",
          "height": 484
        },
        "id": "nfXnlaEy6pz0",
        "outputId": "b6ec71af-6b25-42b5-f5c8-d9b70ba5d6fc"
      },
      "cell_type": "code",
      "source": [
        "data3=books.head(6)\n",
        "sta = books.average_rating.value_counts().index[:10]\n",
        "plt.figure(figsize = (8,5))\n",
        "sns.barplot(x=sta,y =books.average_rating.value_counts().values[:10])\n",
        "plt.title('Avarage Ratings of First 10 Books ',color = 'blue',fontsize=15)\n",
        "plt.show()"
      ],
      "execution_count": 21,
      "outputs": [
        {
          "output_type": "display_data",
          "data": {
            "text/plain": [
              "<Figure size 800x500 with 1 Axes>"
            ],
            "image/png": "[encoded data removed]"
          },
          "metadata": {}
        }
      ]
    },
    {
      "metadata": {
        "trusted": true,
        "colab": {
          "base_uri": "https://localhost:8080/",
          "height": 542
        },
        "id": "gdbvrdXV6pz0",
        "outputId": "9a626d5f-9121-4bd9-a892-a3146ec99058"
      },
      "cell_type": "code",
      "source": [
        "df = books[books.original_publication_year == 2014].iloc[:10,:]\n",
        "\n",
        "import plotly.graph_objs as go\n",
        "\n",
        "x = df.authors\n",
        "trace1 = {\n",
        "  'x': x,\n",
        "  'y': df.ratings_1,\n",
        "  'name': 'ratings_1',\n",
        "  'type': 'bar'\n",
        "};\n",
        "trace2 = {\n",
        "  'x': x,\n",
        "  'y': df.ratings_2,\n",
        "  'name': 'ratings_2',\n",
        "  'type': 'bar'\n",
        "};\n",
        "data = [trace1, trace2];\n",
        "layout = {\n",
        "  'xaxis': {'title': 'Top 3 Authors'},\n",
        "  'barmode': 'relative',\n",
        "  'title': 'Ratings1 and Ratings2 of Top 10 Authors in 2014'\n",
        "};\n",
        "fig = go.Figure(data = data, layout = layout)\n",
        "iplot(fig)"
      ],
      "execution_count": 22,
      "outputs": [
        {
          "output_type": "display_data",
          "data": {
            "application/vnd.plotly.v1+json": {
              "data": [
                {
                  "name": "ratings_1",
                  "x": [
                    "Anthony Doerr",
                    "Liane Moriarty",
                    "E. Lockhart",
                    "Amy Poehler",
                    "Sue Monk Kidd",
                    "Emily St. John Mandel",
                    "Kiera Cass",
                    "Cassandra Clare",
                    "Stephen King",
                    "Celeste Ng"
                  ],
                  "y": [
                    6209,
                    3775,
                    9074,
                    8886,
                    1466,
                    4039,
                    3322,
                    1683,
                    3242,
                    2352
                  ],
                  "type": "bar"
                },
                {
                  "name": "ratings_2",
                  "x": [
                    "Anthony Doerr",
                    "Liane Moriarty",
                    "E. Lockhart",
                    "Amy Poehler",
                    "Sue Monk Kidd",
                    "Emily St. John Mandel",
                    "Kiera Cass",
                    "Cassandra Clare",
                    "Stephen King",
                    "Celeste Ng"
                  ],
                  "y": [
                    14527,
                    7865,
                    22616,
                    19000,
                    4021,
                    8449,
                    9750,
                    4287,
                    7332,
                    8110
                  ],
                  "type": "bar"
                }
              ],
              "layout": {
                "barmode": "relative",
                "template": {
                  "data": {
                    "barpolar": [
                      {
                        "marker": {
                          "line": {
                            "color": "#E5ECF6",
                            "width": 0.5
                          },
                          "pattern": {
                            "fillmode": "overlay",
                            "size": 10,
                            "solidity": 0.2
                          }
                        },
                        "type": "barpolar"
                      }
                    ],
                    "bar": [
                      {
                        "error_x": {
                          "color": "#2a3f5f"
                        },
                        "error_y": {
                          "color": "#2a3f5f"
                        },
                        "marker": {
                          "line": {
                            "color": "#E5ECF6",
                            "width": 0.5
                          },
                          "pattern": {
                            "fillmode": "overlay",
                            "size": 10,
                            "solidity": 0.2
                          }
                        },
                        "type": "bar"
                      }
                    ],
                    "carpet": [
                      {
                        "aaxis": {
                          "endlinecolor": "#2a3f5f",
                          "gridcolor": "white",
                          "linecolor": "white",
                          "minorgridcolor": "white",
                          "startlinecolor": "#2a3f5f"
                        },
                        "baxis": {
                          "endlinecolor": "#2a3f5f",
                          "gridcolor": "white",
                          "linecolor": "white",
                          "minorgridcolor": "white",
                          "startlinecolor": "#2a3f5f"
                        },
                        "type": "carpet"
                      }
                    ],
                    "choropleth": [
                      {
                        "colorbar": {
                          "outlinewidth": 0,
                          "ticks": ""
                        },
                        "type": "choropleth"
                      }
                    ],
                    "contourcarpet": [
                      {
                        "colorbar": {
                          "outlinewidth": 0,
                          "ticks": ""
                        },
                        "type": "contourcarpet"
                      }
                    ],
                    "contour": [
                      {
                        "colorbar": {
                          "outlinewidth": 0,
                          "ticks": ""
                        },
                        "colorscale": [
                          [
                            0,
                            "#0d0887"
                          ],
                          [
                            0.1111111111111111,
                            "#46039f"
                          ],
                          [
                            0.2222222222222222,
                            "#7201a8"
                          ],
                          [
                            0.3333333333333333,
                            "#9c179e"
                          ],
                          [
                            0.4444444444444444,
                            "#bd3786"
                          ],
                          [
                            0.5555555555555556,
                            "#d8576b"
                          ],
                          [
                            0.6666666666666666,
                            "#ed7953"
                          ],
                          [
                            0.7777777777777778,
                            "#fb9f3a"
                          ],
                          [
                            0.8888888888888888,
                            "#fdca26"
                          ],
                          [
                            1,
                            "#f0f921"
                          ]
                        ],
                        "type": "contour"
                      }
                    ],
                    "heatmapgl": [
                      {
                        "colorbar": {
                          "outlinewidth": 0,
                          "ticks": ""
                        },
                        "colorscale": [
                          [
                            0,
                            "#0d0887"
                          ],
                          [
                            0.1111111111111111,
                            "#46039f"
                          ],
                          [
                            0.2222222222222222,
                            "#7201a8"
                          ],
                          [
                            0.3333333333333333,
                            "#9c179e"
                          ],
                          [
                            0.4444444444444444,
                            "#bd3786"
                          ],
                          [
                            0.5555555555555556,
                            "#d8576b"
                          ],
                          [
                            0.6666666666666666,
                            "#ed7953"
                          ],
                          [
                            0.7777777777777778,
                            "#fb9f3a"
                          ],
                          [
                            0.8888888888888888,
                            "#fdca26"
                          ],
                          [
                            1,
                            "#f0f921"
                          ]
                        ],
                        "type": "heatmapgl"
                      }
                    ],
                    "heatmap": [
                      {
                        "colorbar": {
                          "outlinewidth": 0,
                          "ticks": ""
                        },
                        "colorscale": [
                          [
                            0,
                            "#0d0887"
                          ],
                          [
                            0.1111111111111111,
                            "#46039f"
                          ],
                          [
                            0.2222222222222222,
                            "#7201a8"
                          ],
                          [
                            0.3333333333333333,
                            "#9c179e"
                          ],
                          [
                            0.4444444444444444,
                            "#bd3786"
                          ],
                          [
                            0.5555555555555556,
                            "#d8576b"
                          ],
                          [
                            0.6666666666666666,
                            "#ed7953"
                          ],
                          [
                            0.7777777777777778,
                            "#fb9f3a"
                          ],
                          [
                            0.8888888888888888,
                            "#fdca26"
                          ],
                          [
                            1,
                            "#f0f921"
                          ]
                        ],
                        "type": "heatmap"
                      }
                    ],
                    "histogram2dcontour": [
                      {
                        "colorbar": {
                          "outlinewidth": 0,
                          "ticks": ""
                        },
                        "colorscale": [
                          [
                            0,
                            "#0d0887"
                          ],
                          [
                            0.1111111111111111,
                            "#46039f"
                          ],
                          [
                            0.2222222222222222,
                            "#7201a8"
                          ],
                          [
                            0.3333333333333333,
                            "#9c179e"
                          ],
                          [
                            0.4444444444444444,
                            "#bd3786"
                          ],
                          [
                            0.5555555555555556,
                            "#d8576b"
                          ],
                          [
                            0.6666666666666666,
                            "#ed7953"
                          ],
                          [
                            0.7777777777777778,
                            "#fb9f3a"
                          ],
                          [
                            0.8888888888888888,
                            "#fdca26"
                          ],
                          [
                            1,
                            "#f0f921"
                          ]
                        ],
                        "type": "histogram2dcontour"
                      }
                    ],
                    "histogram2d": [
                      {
                        "colorbar": {
                          "outlinewidth": 0,
                          "ticks": ""
                        },
                        "colorscale": [
                          [
                            0,
                            "#0d0887"
                          ],
                          [
                            0.1111111111111111,
                            "#46039f"
                          ],
                          [
                            0.2222222222222222,
                            "#7201a8"
                          ],
                          [
                            0.3333333333333333,
                            "#9c179e"
                          ],
                          [
                            0.4444444444444444,
                            "#bd3786"
                          ],
                          [
                            0.5555555555555556,
                            "#d8576b"
                          ],
                          [
                            0.6666666666666666,
                            "#ed7953"
                          ],
                          [
                            0.7777777777777778,
                            "#fb9f3a"
                          ],
                          [
                            0.8888888888888888,
                            "#fdca26"
                          ],
                          [
                            1,
                            "#f0f921"
                          ]
                        ],
                        "type": "histogram2d"
                      }
                    ],
                    "histogram": [
                      {
                        "marker": {
                          "pattern": {
                            "fillmode": "overlay",
                            "size": 10,
                            "solidity": 0.2
                          }
                        },
                        "type": "histogram"
                      }
                    ],
                    "mesh3d": [
                      {
                        "colorbar": {
                          "outlinewidth": 0,
                          "ticks": ""
                        },
                        "type": "mesh3d"
                      }
                    ],
                    "parcoords": [
                      {
                        "line": {
                          "colorbar": {
                            "outlinewidth": 0,
                            "ticks": ""
                          }
                        },
                        "type": "parcoords"
                      }
                    ],
                    "pie": [
                      {
                        "automargin": true,
                        "type": "pie"
                      }
                    ],
                    "scatter3d": [
                      {
                        "line": {
                          "colorbar": {
                            "outlinewidth": 0,
                            "ticks": ""
                          }
                        },
                        "marker": {
                          "colorbar": {
                            "outlinewidth": 0,
                            "ticks": ""
                          }
                        },
                        "type": "scatter3d"
                      }
                    ],
                    "scattercarpet": [
                      {
                        "marker": {
                          "colorbar": {
                            "outlinewidth": 0,
                            "ticks": ""
                          }
                        },
                        "type": "scattercarpet"
                      }
                    ],
                    "scattergeo": [
                      {
                        "marker": {
                          "colorbar": {
                            "outlinewidth": 0,
                            "ticks": ""
                          }
                        },
                        "type": "scattergeo"
                      }
                    ],
                    "scattergl": [
                      {
                        "marker": {
                          "colorbar": {
                            "outlinewidth": 0,
                            "ticks": ""
                          }
                        },
                        "type": "scattergl"
                      }
                    ],
                    "scattermapbox": [
                      {
                        "marker": {
                          "colorbar": {
                            "outlinewidth": 0,
                            "ticks": ""
                          }
                        },
                        "type": "scattermapbox"
                      }
                    ],
                    "scatterpolargl": [
                      {
                        "marker": {
                          "colorbar": {
                            "outlinewidth": 0,
                            "ticks": ""
                          }
                        },
                        "type": "scatterpolargl"
                      }
                    ],
                    "scatterpolar": [
                      {
                        "marker": {
                          "colorbar": {
                            "outlinewidth": 0,
                            "ticks": ""
                          }
                        },
                        "type": "scatterpolar"
                      }
                    ],
                    "scatter": [
                      {
                        "fillpattern": {
                          "fillmode": "overlay",
                          "size": 10,
                          "solidity": 0.2
                        },
                        "type": "scatter"
                      }
                    ],
                    "scatterternary": [
                      {
                        "marker": {
                          "colorbar": {
                            "outlinewidth": 0,
                            "ticks": ""
                          }
                        },
                        "type": "scatterternary"
                      }
                    ],
                    "surface": [
                      {
                        "colorbar": {
                          "outlinewidth": 0,
                          "ticks": ""
                        },
                        "colorscale": [
                          [
                            0,
                            "#0d0887"
                          ],
                          [
                            0.1111111111111111,
                            "#46039f"
                          ],
                          [
                            0.2222222222222222,
                            "#7201a8"
                          ],
                          [
                            0.3333333333333333,
                            "#9c179e"
                          ],
                          [
                            0.4444444444444444,
                            "#bd3786"
                          ],
                          [
                            0.5555555555555556,
                            "#d8576b"
                          ],
                          [
                            0.6666666666666666,
                            "#ed7953"
                          ],
                          [
                            0.7777777777777778,
                            "#fb9f3a"
                          ],
                          [
                            0.8888888888888888,
                            "#fdca26"
                          ],
                          [
                            1,
                            "#f0f921"
                          ]
                        ],
                        "type": "surface"
                      }
                    ],
                    "table": [
                      {
                        "cells": {
                          "fill": {
                            "color": "#EBF0F8"
                          },
                          "line": {
                            "color": "white"
                          }
                        },
                        "header": {
                          "fill": {
                            "color": "#C8D4E3"
                          },
                          "line": {
                            "color": "white"
                          }
                        },
                        "type": "table"
                      }
                    ]
                  },
                  "layout": {
                    "annotationdefaults": {
                      "arrowcolor": "#2a3f5f",
                      "arrowhead": 0,
                      "arrowwidth": 1
                    },
                    "autotypenumbers": "strict",
                    "coloraxis": {
                      "colorbar": {
                        "outlinewidth": 0,
                        "ticks": ""
                      }
                    },
                    "colorscale": {
                      "diverging": [
                        [
                          0,
                          "#8e0152"
                        ],
                        [
                          0.1,
                          "#c51b7d"
                        ],
                        [
                          0.2,
                          "#de77ae"
                        ],
                        [
                          0.3,
                          "#f1b6da"
                        ],
                        [
                          0.4,
                          "#fde0ef"
                        ],
                        [
                          0.5,
                          "#f7f7f7"
                        ],
                        [
                          0.6,
                          "#e6f5d0"
                        ],
                        [
                          0.7,
                          "#b8e186"
                        ],
                        [
                          0.8,
                          "#7fbc41"
                        ],
                        [
                          0.9,
                          "#4d9221"
                        ],
                        [
                          1,
                          "#276419"
                        ]
                      ],
                      "sequential": [
                        [
                          0,
                          "#0d0887"
                        ],
                        [
                          0.1111111111111111,
                          "#46039f"
                        ],
                        [
                          0.2222222222222222,
                          "#7201a8"
                        ],
                        [
                          0.3333333333333333,
                          "#9c179e"
                        ],
                        [
                          0.4444444444444444,
                          "#bd3786"
                        ],
                        [
                          0.5555555555555556,
                          "#d8576b"
                        ],
                        [
                          0.6666666666666666,
                          "#ed7953"
                        ],
                        [
                          0.7777777777777778,
                          "#fb9f3a"
                        ],
                        [
                          0.8888888888888888,
                          "#fdca26"
                        ],
                        [
                          1,
                          "#f0f921"
                        ]
                      ],
                      "sequentialminus": [
                        [
                          0,
                          "#0d0887"
                        ],
                        [
                          0.1111111111111111,
                          "#46039f"
                        ],
                        [
                          0.2222222222222222,
                          "#7201a8"
                        ],
                        [
                          0.3333333333333333,
                          "#9c179e"
                        ],
                        [
                          0.4444444444444444,
                          "#bd3786"
                        ],
                        [
                          0.5555555555555556,
                          "#d8576b"
                        ],
                        [
                          0.6666666666666666,
                          "#ed7953"
                        ],
                        [
                          0.7777777777777778,
                          "#fb9f3a"
                        ],
                        [
                          0.8888888888888888,
                          "#fdca26"
                        ],
                        [
                          1,
                          "#f0f921"
                        ]
                      ]
                    },
                    "colorway": [
                      "#636efa",
                      "#EF553B",
                      "#00cc96",
                      "#ab63fa",
                      "#FFA15A",
                      "#19d3f3",
                      "#FF6692",
                      "#B6E880",
                      "#FF97FF",
                      "#FECB52"
                    ],
                    "font": {
                      "color": "#2a3f5f"
                    },
                    "geo": {
                      "bgcolor": "white",
                      "lakecolor": "white",
                      "landcolor": "#E5ECF6",
                      "showlakes": true,
                      "showland": true,
                      "subunitcolor": "white"
                    },
                    "hoverlabel": {
                      "align": "left"
                    },
                    "hovermode": "closest",
                    "mapbox": {
                      "style": "light"
                    },
                    "paper_bgcolor": "white",
                    "plot_bgcolor": "#E5ECF6",
                    "polar": {
                      "angularaxis": {
                        "gridcolor": "white",
                        "linecolor": "white",
                        "ticks": ""
                      },
                      "bgcolor": "#E5ECF6",
                      "radialaxis": {
                        "gridcolor": "white",
                        "linecolor": "white",
                        "ticks": ""
                      }
                    },
                    "scene": {
                      "xaxis": {
                        "backgroundcolor": "#E5ECF6",
                        "gridcolor": "white",
                        "gridwidth": 2,
                        "linecolor": "white",
                        "showbackground": true,
                        "ticks": "",
                        "zerolinecolor": "white"
                      },
                      "yaxis": {
                        "backgroundcolor": "#E5ECF6",
                        "gridcolor": "white",
                        "gridwidth": 2,
                        "linecolor": "white",
                        "showbackground": true,
                        "ticks": "",
                        "zerolinecolor": "white"
                      },
                      "zaxis": {
                        "backgroundcolor": "#E5ECF6",
                        "gridcolor": "white",
                        "gridwidth": 2,
                        "linecolor": "white",
                        "showbackground": true,
                        "ticks": "",
                        "zerolinecolor": "white"
                      }
                    },
                    "shapedefaults": {
                      "line": {
                        "color": "#2a3f5f"
                      }
                    },
                    "ternary": {
                      "aaxis": {
                        "gridcolor": "white",
                        "linecolor": "white",
                        "ticks": ""
                      },
                      "baxis": {
                        "gridcolor": "white",
                        "linecolor": "white",
                        "ticks": ""
                      },
                      "bgcolor": "#E5ECF6",
                      "caxis": {
                        "gridcolor": "white",
                        "linecolor": "white",
                        "ticks": ""
                      }
                    },
                    "title": {
                      "x": 0.05
                    },
                    "xaxis": {
                      "automargin": true,
                      "gridcolor": "white",
                      "linecolor": "white",
                      "ticks": "",
                      "title": {
                        "standoff": 15
                      },
                      "zerolinecolor": "white",
                      "zerolinewidth": 2
                    },
                    "yaxis": {
                      "automargin": true,
                      "gridcolor": "white",
                      "linecolor": "white",
                      "ticks": "",
                      "title": {
                        "standoff": 15
                      },
                      "zerolinecolor": "white",
                      "zerolinewidth": 2
                    }
                  }
                },
                "title": {
                  "text": "Ratings1 and Ratings2 of Top 10 Authors in 2014"
                },
                "xaxis": {
                  "title": {
                    "text": "Top 3 Authors"
                  }
                }
              },
              "config": {
                "showLink": false,
                "linkText": "Export to plot.ly",
                "plotlyServerURL": "https://plot.ly"
              }
            },
            "text/html": [
              "<div>                            <div id=\"6b8930c4-2c31-41e9-8c6b-32e38f5b801b\" class=\"plotly-graph-div\" style=\"height:525px; width:100%;\"></div>            <script type=\"text/javascript\">                require([\"plotly\"], function(Plotly) {                    window.PLOTLYENV=window.PLOTLYENV || {};                                    if (document.getElementById(\"6b8930c4-2c31-41e9-8c6b-32e38f5b801b\")) {                    Plotly.newPlot(                        \"6b8930c4-2c31-41e9-8c6b-32e38f5b801b\",                        [{\"name\":\"ratings_1\",\"x\":[\"Anthony Doerr\",\"Liane Moriarty\",\"E. Lockhart\",\"Amy Poehler\",\"Sue Monk Kidd\",\"Emily St. John Mandel\",\"Kiera Cass\",\"Cassandra Clare\",\"Stephen King\",\"Celeste Ng\"],\"y\":[6209,3775,9074,8886,1466,4039,3322,1683,3242,2352],\"type\":\"bar\"},{\"name\":\"ratings_2\",\"x\":[\"Anthony Doerr\",\"Liane Moriarty\",\"E. Lockhart\",\"Amy Poehler\",\"Sue Monk Kidd\",\"Emily St. John Mandel\",\"Kiera Cass\",\"Cassandra Clare\",\"Stephen King\",\"Celeste Ng\"],\"y\":[14527,7865,22616,19000,4021,8449,9750,4287,7332,8110],\"type\":\"bar\"}],                        {\"barmode\":\"relative\",\"template\":{\"data\":{\"barpolar\":[{\"marker\":{\"line\":{\"color\":\"#E5ECF6\",\"width\":0.5},\"pattern\":{\"fillmode\":\"overlay\",\"size\":10,\"solidity\":0.2}},\"type\":\"barpolar\"}],\"bar\":[{\"error_x\":{\"color\":\"#2a3f5f\"},\"error_y\":{\"color\":\"#2a3f5f\"},\"marker\":{\"line\":{\"color\":\"#E5ECF6\",\"width\":0.5},\"pattern\":{\"fillmode\":\"overlay\",\"size\":10,\"solidity\":0.2}},\"type\":\"bar\"}],\"carpet\":[{\"aaxis\":{\"endlinecolor\":\"#2a3f5f\",\"gridcolor\":\"white\",\"linecolor\":\"white\",\"minorgridcolor\":\"white\",\"startlinecolor\":\"#2a3f5f\"},\"baxis\":{\"endlinecolor\":\"#2a3f5f\",\"gridcolor\":\"white\",\"linecolor\":\"white\",\"minorgridcolor\":\"white\",\"startlinecolor\":\"#2a3f5f\"},\"type\":\"carpet\"}],\"choropleth\":[{\"colorbar\":{\"outlinewidth\":0,\"ticks\":\"\"},\"type\":\"choropleth\"}],\"contourcarpet\":[{\"colorbar\":{\"outlinewidth\":0,\"ticks\":\"\"},\"type\":\"contourcarpet\"}],\"contour\":[{\"colorbar\":{\"outlinewidth\":0,\"ticks\":\"\"},\"colorscale\":[[0.0,\"#0d0887\"],[0.1111111111111111,\"#46039f\"],[0.2222222222222222,\"#7201a8\"],[0.3333333333333333,\"#9c179e\"],[0.4444444444444444,\"#bd3786\"],[0.5555555555555556,\"#d8576b\"],[0.6666666666666666,\"#ed7953\"],[0.7777777777777778,\"#fb9f3a\"],[0.8888888888888888,\"#fdca26\"],[1.0,\"#f0f921\"]],\"type\":\"contour\"}],\"heatmapgl\":[{\"colorbar\":{\"outlinewidth\":0,\"ticks\":\"\"},\"colorscale\":[[0.0,\"#0d0887\"],[0.1111111111111111,\"#46039f\"],[0.2222222222222222,\"#7201a8\"],[0.3333333333333333,\"#9c179e\"],[0.4444444444444444,\"#bd3786\"],[0.5555555555555556,\"#d8576b\"],[0.6666666666666666,\"#ed7953\"],[0.7777777777777778,\"#fb9f3a\"],[0.8888888888888888,\"#fdca26\"],[1.0,\"#f0f921\"]],\"type\":\"heatmapgl\"}],\"heatmap\":[{\"colorbar\":{\"outlinewidth\":0,\"ticks\":\"\"},\"colorscale\":[[0.0,\"#0d0887\"],[0.1111111111111111,\"#46039f\"],[0.2222222222222222,\"#7201a8\"],[0.3333333333333333,\"#9c179e\"],[0.4444444444444444,\"#bd3786\"],[0.5555555555555556,\"#d8576b\"],[0.6666666666666666,\"#ed7953\"],[0.7777777777777778,\"#fb9f3a\"],[0.8888888888888888,\"#fdca26\"],[1.0,\"#f0f921\"]],\"type\":\"heatmap\"}],\"histogram2dcontour\":[{\"colorbar\":{\"outlinewidth\":0,\"ticks\":\"\"},\"colorscale\":[[0.0,\"#0d0887\"],[0.1111111111111111,\"#46039f\"],[0.2222222222222222,\"#7201a8\"],[0.3333333333333333,\"#9c179e\"],[0.4444444444444444,\"#bd3786\"],[0.5555555555555556,\"#d8576b\"],[0.6666666666666666,\"#ed7953\"],[0.7777777777777778,\"#fb9f3a\"],[0.8888888888888888,\"#fdca26\"],[1.0,\"#f0f921\"]],\"type\":\"histogram2dcontour\"}],\"histogram2d\":[{\"colorbar\":{\"outlinewidth\":0,\"ticks\":\"\"},\"colorscale\":[[0.0,\"#0d0887\"],[0.1111111111111111,\"#46039f\"],[0.2222222222222222,\"#7201a8\"],[0.3333333333333333,\"#9c179e\"],[0.4444444444444444,\"#bd3786\"],[0.5555555555555556,\"#d8576b\"],[0.6666666666666666,\"#ed7953\"],[0.7777777777777778,\"#fb9f3a\"],[0.8888888888888888,\"#fdca26\"],[1.0,\"#f0f921\"]],\"type\":\"histogram2d\"}],\"histogram\":[{\"marker\":{\"pattern\":{\"fillmode\":\"overlay\",\"size\":10,\"solidity\":0.2}},\"type\":\"histogram\"}],\"mesh3d\":[{\"colorbar\":{\"outlinewidth\":0,\"ticks\":\"\"},\"type\":\"mesh3d\"}],\"parcoords\":[{\"line\":{\"colorbar\":{\"outlinewidth\":0,\"ticks\":\"\"}},\"type\":\"parcoords\"}],\"pie\":[{\"automargin\":true,\"type\":\"pie\"}],\"scatter3d\":[{\"line\":{\"colorbar\":{\"outlinewidth\":0,\"ticks\":\"\"}},\"marker\":{\"colorbar\":{\"outlinewidth\":0,\"ticks\":\"\"}},\"type\":\"scatter3d\"}],\"scattercarpet\":[{\"marker\":{\"colorbar\":{\"outlinewidth\":0,\"ticks\":\"\"}},\"type\":\"scattercarpet\"}],\"scattergeo\":[{\"marker\":{\"colorbar\":{\"outlinewidth\":0,\"ticks\":\"\"}},\"type\":\"scattergeo\"}],\"scattergl\":[{\"marker\":{\"colorbar\":{\"outlinewidth\":0,\"ticks\":\"\"}},\"type\":\"scattergl\"}],\"scattermapbox\":[{\"marker\":{\"colorbar\":{\"outlinewidth\":0,\"ticks\":\"\"}},\"type\":\"scattermapbox\"}],\"scatterpolargl\":[{\"marker\":{\"colorbar\":{\"outlinewidth\":0,\"ticks\":\"\"}},\"type\":\"scatterpolargl\"}],\"scatterpolar\":[{\"marker\":{\"colorbar\":{\"outlinewidth\":0,\"ticks\":\"\"}},\"type\":\"scatterpolar\"}],\"scatter\":[{\"fillpattern\":{\"fillmode\":\"overlay\",\"size\":10,\"solidity\":0.2},\"type\":\"scatter\"}],\"scatterternary\":[{\"marker\":{\"colorbar\":{\"outlinewidth\":0,\"ticks\":\"\"}},\"type\":\"scatterternary\"}],\"surface\":[{\"colorbar\":{\"outlinewidth\":0,\"ticks\":\"\"},\"colorscale\":[[0.0,\"#0d0887\"],[0.1111111111111111,\"#46039f\"],[0.2222222222222222,\"#7201a8\"],[0.3333333333333333,\"#9c179e\"],[0.4444444444444444,\"#bd3786\"],[0.5555555555555556,\"#d8576b\"],[0.6666666666666666,\"#ed7953\"],[0.7777777777777778,\"#fb9f3a\"],[0.8888888888888888,\"#fdca26\"],[1.0,\"#f0f921\"]],\"type\":\"surface\"}],\"table\":[{\"cells\":{\"fill\":{\"color\":\"#EBF0F8\"},\"line\":{\"color\":\"white\"}},\"header\":{\"fill\":{\"color\":\"#C8D4E3\"},\"line\":{\"color\":\"white\"}},\"type\":\"table\"}]},\"layout\":{\"annotationdefaults\":{\"arrowcolor\":\"#2a3f5f\",\"arrowhead\":0,\"arrowwidth\":1},\"autotypenumbers\":\"strict\",\"coloraxis\":{\"colorbar\":{\"outlinewidth\":0,\"ticks\":\"\"}},\"colorscale\":{\"diverging\":[[0,\"#8e0152\"],[0.1,\"#c51b7d\"],[0.2,\"#de77ae\"],[0.3,\"#f1b6da\"],[0.4,\"#fde0ef\"],[0.5,\"#f7f7f7\"],[0.6,\"#e6f5d0\"],[0.7,\"#b8e186\"],[0.8,\"#7fbc41\"],[0.9,\"#4d9221\"],[1,\"#276419\"]],\"sequential\":[[0.0,\"#0d0887\"],[0.1111111111111111,\"#46039f\"],[0.2222222222222222,\"#7201a8\"],[0.3333333333333333,\"#9c179e\"],[0.4444444444444444,\"#bd3786\"],[0.5555555555555556,\"#d8576b\"],[0.6666666666666666,\"#ed7953\"],[0.7777777777777778,\"#fb9f3a\"],[0.8888888888888888,\"#fdca26\"],[1.0,\"#f0f921\"]],\"sequentialminus\":[[0.0,\"#0d0887\"],[0.1111111111111111,\"#46039f\"],[0.2222222222222222,\"#7201a8\"],[0.3333333333333333,\"#9c179e\"],[0.4444444444444444,\"#bd3786\"],[0.5555555555555556,\"#d8576b\"],[0.6666666666666666,\"#ed7953\"],[0.7777777777777778,\"#fb9f3a\"],[0.8888888888888888,\"#fdca26\"],[1.0,\"#f0f921\"]]},\"colorway\":[\"#636efa\",\"#EF553B\",\"#00cc96\",\"#ab63fa\",\"#FFA15A\",\"#19d3f3\",\"#FF6692\",\"#B6E880\",\"#FF97FF\",\"#FECB52\"],\"font\":{\"color\":\"#2a3f5f\"},\"geo\":{\"bgcolor\":\"white\",\"lakecolor\":\"white\",\"landcolor\":\"#E5ECF6\",\"showlakes\":true,\"showland\":true,\"subunitcolor\":\"white\"},\"hoverlabel\":{\"align\":\"left\"},\"hovermode\":\"closest\",\"mapbox\":{\"style\":\"light\"},\"paper_bgcolor\":\"white\",\"plot_bgcolor\":\"#E5ECF6\",\"polar\":{\"angularaxis\":{\"gridcolor\":\"white\",\"linecolor\":\"white\",\"ticks\":\"\"},\"bgcolor\":\"#E5ECF6\",\"radialaxis\":{\"gridcolor\":\"white\",\"linecolor\":\"white\",\"ticks\":\"\"}},\"scene\":{\"xaxis\":{\"backgroundcolor\":\"#E5ECF6\",\"gridcolor\":\"white\",\"gridwidth\":2,\"linecolor\":\"white\",\"showbackground\":true,\"ticks\":\"\",\"zerolinecolor\":\"white\"},\"yaxis\":{\"backgroundcolor\":\"#E5ECF6\",\"gridcolor\":\"white\",\"gridwidth\":2,\"linecolor\":\"white\",\"showbackground\":true,\"ticks\":\"\",\"zerolinecolor\":\"white\"},\"zaxis\":{\"backgroundcolor\":\"#E5ECF6\",\"gridcolor\":\"white\",\"gridwidth\":2,\"linecolor\":\"white\",\"showbackground\":true,\"ticks\":\"\",\"zerolinecolor\":\"white\"}},\"shapedefaults\":{\"line\":{\"color\":\"#2a3f5f\"}},\"ternary\":{\"aaxis\":{\"gridcolor\":\"white\",\"linecolor\":\"white\",\"ticks\":\"\"},\"baxis\":{\"gridcolor\":\"white\",\"linecolor\":\"white\",\"ticks\":\"\"},\"bgcolor\":\"#E5ECF6\",\"caxis\":{\"gridcolor\":\"white\",\"linecolor\":\"white\",\"ticks\":\"\"}},\"title\":{\"x\":0.05},\"xaxis\":{\"automargin\":true,\"gridcolor\":\"white\",\"linecolor\":\"white\",\"ticks\":\"\",\"title\":{\"standoff\":15},\"zerolinecolor\":\"white\",\"zerolinewidth\":2},\"yaxis\":{\"automargin\":true,\"gridcolor\":\"white\",\"linecolor\":\"white\",\"ticks\":\"\",\"title\":{\"standoff\":15},\"zerolinecolor\":\"white\",\"zerolinewidth\":2}}},\"title\":{\"text\":\"Ratings1 and Ratings2 of Top 10 Authors in 2014\"},\"xaxis\":{\"title\":{\"text\":\"Top 3 Authors\"}}},                        {\"responsive\": true}                    ).then(function(){\n",
              "                            \n",
              "var gd = document.getElementById('6b8930c4-2c31-41e9-8c6b-32e38f5b801b');\n",
              "var x = new MutationObserver(function (mutations, observer) {{\n",
              "        var display = window.getComputedStyle(gd).display;\n",
              "        if (!display || display === 'none') {{\n",
              "            console.log([gd, 'removed!']);\n",
              "            Plotly.purge(gd);\n",
              "            observer.disconnect();\n",
              "        }}\n",
              "}});\n",
              "\n",
              "// Listen for the removal of the full notebook cells\n",
              "var notebookContainer = gd.closest('#notebook-container');\n",
              "if (notebookContainer) {{\n",
              "    x.observe(notebookContainer, {childList: true});\n",
              "}}\n",
              "\n",
              "// Listen for the clearing of the current output cell\n",
              "var outputEl = gd.closest('.output');\n",
              "if (outputEl) {{\n",
              "    x.observe(outputEl, {childList: true});\n",
              "}}\n",
              "\n",
              "                        })                };                });            </script>        </div>"
            ]
          },
          "metadata": {}
        }
      ]
    },
    {
      "metadata": {
        "trusted": true,
        "colab": {
          "base_uri": "https://localhost:8080/",
          "height": 837
        },
        "id": "LsWjCo8V6pz0",
        "outputId": "b12d3aeb-6f32-4326-cf2b-d1ef85e6f587"
      },
      "cell_type": "code",
      "source": [
        "import plotly.graph_objects as go\n",
        "from plotly.subplots import make_subplots\n",
        "\n",
        "df = books[books.original_publication_year == 2009].iloc[:7,:]\n",
        "pie1 = df.ratings_1\n",
        "df1 = books[books.original_publication_year == 2010].iloc[:7,:]\n",
        "pie2 = df1.ratings_1\n",
        "labels = df.authors.value_counts().index\n",
        "\n",
        "# Create subplots: use 'domain' type for Pie subplot\n",
        "fig = make_subplots(rows=1, cols=2, specs=[[{'type':'domain'}, {'type':'domain'}]])\n",
        "fig.add_trace(go.Pie(labels=labels, values=pie1, name=\"Number Of Authors Rates\"),\n",
        "              1, 1)\n",
        "fig.add_trace(go.Pie(labels=labels, values=pie1, name=\"Number Of Authors Rates\"),\n",
        "              1, 2)\n",
        "# Use `hole` to create a donut-like pie chart\n",
        "fig.update_traces(hole=.45, hoverinfo=\"label+percent+name\")\n",
        "fig.update_layout(\n",
        "    height=800, width=800,\n",
        "    title_text=\"Number of Authors Ratings Rates\",\n",
        "    # Add annotations in the center of the donut pies.\n",
        "    annotations=[dict(text='2009', x=0.175, y=0.5, font_size=14, showarrow=False),\n",
        "                 dict(text='2010', x=0.82, y=0.5, font_size=14, showarrow=False)])\n",
        "fig.show()"
      ],
      "execution_count": 23,
      "outputs": [
        {
          "output_type": "display_data",
          "data": {
            "application/vnd.plotly.v1+json": {
              "data": [
                {
                  "labels": [
                    "Suzanne Collins",
                    "Kathryn Stockett",
                    "James Dashner",
                    "Cassandra Clare",
                    "Gayle Forman",
                    "Rick Riordan",
                    "Kami Garcia, Margaret Stohl"
                  ],
                  "name": "Number Of Authors Rates",
                  "values": [
                    10492,
                    10235,
                    15291,
                    6646,
                    12666,
                    2098,
                    19917
                  ],
                  "type": "pie",
                  "domain": {
                    "x": [
                      0,
                      0.45
                    ],
                    "y": [
                      0,
                      1
                    ]
                  },
                  "hole": 0.45,
                  "hoverinfo": "label+percent+name"
                },
                {
                  "labels": [
                    "Suzanne Collins",
                    "Kathryn Stockett",
                    "James Dashner",
                    "Cassandra Clare",
                    "Gayle Forman",
                    "Rick Riordan",
                    "Kami Garcia, Margaret Stohl"
                  ],
                  "name": "Number Of Authors Rates",
                  "values": [
                    10492,
                    10235,
                    15291,
                    6646,
                    12666,
                    2098,
                    19917
                  ],
                  "type": "pie",
                  "domain": {
                    "x": [
                      0.55,
                      1
                    ],
                    "y": [
                      0,
                      1
                    ]
                  },
                  "hole": 0.45,
                  "hoverinfo": "label+percent+name"
                }
              ],
              "layout": {
                "template": {
                  "data": {
                    "histogram2dcontour": [
                      {
                        "type": "histogram2dcontour",
                        "colorbar": {
                          "outlinewidth": 0,
                          "ticks": ""
                        },
                        "colorscale": [
                          [
                            0,
                            "#0d0887"
                          ],
                          [
                            0.1111111111111111,
                            "#46039f"
                          ],
                          [
                            0.2222222222222222,
                            "#7201a8"
                          ],
                          [
                            0.3333333333333333,
                            "#9c179e"
                          ],
                          [
                            0.4444444444444444,
                            "#bd3786"
                          ],
                          [
                            0.5555555555555556,
                            "#d8576b"
                          ],
                          [
                            0.6666666666666666,
                            "#ed7953"
                          ],
                          [
                            0.7777777777777778,
                            "#fb9f3a"
                          ],
                          [
                            0.8888888888888888,
                            "#fdca26"
                          ],
                          [
                            1,
                            "#f0f921"
                          ]
                        ]
                      }
                    ],
                    "choropleth": [
                      {
                        "type": "choropleth",
                        "colorbar": {
                          "outlinewidth": 0,
                          "ticks": ""
                        }
                      }
                    ],
                    "histogram2d": [
                      {
                        "type": "histogram2d",
                        "colorbar": {
                          "outlinewidth": 0,
                          "ticks": ""
                        },
                        "colorscale": [
                          [
                            0,
                            "#0d0887"
                          ],
                          [
                            0.1111111111111111,
                            "#46039f"
                          ],
                          [
                            0.2222222222222222,
                            "#7201a8"
                          ],
                          [
                            0.3333333333333333,
                            "#9c179e"
                          ],
                          [
                            0.4444444444444444,
                            "#bd3786"
                          ],
                          [
                            0.5555555555555556,
                            "#d8576b"
                          ],
                          [
                            0.6666666666666666,
                            "#ed7953"
                          ],
                          [
                            0.7777777777777778,
                            "#fb9f3a"
                          ],
                          [
                            0.8888888888888888,
                            "#fdca26"
                          ],
                          [
                            1,
                            "#f0f921"
                          ]
                        ]
                      }
                    ],
                    "heatmap": [
                      {
                        "type": "heatmap",
                        "colorbar": {
                          "outlinewidth": 0,
                          "ticks": ""
                        },
                        "colorscale": [
                          [
                            0,
                            "#0d0887"
                          ],
                          [
                            0.1111111111111111,
                            "#46039f"
                          ],
                          [
                            0.2222222222222222,
                            "#7201a8"
                          ],
                          [
                            0.3333333333333333,
                            "#9c179e"
                          ],
                          [
                            0.4444444444444444,
                            "#bd3786"
                          ],
                          [
                            0.5555555555555556,
                            "#d8576b"
                          ],
                          [
                            0.6666666666666666,
                            "#ed7953"
                          ],
                          [
                            0.7777777777777778,
                            "#fb9f3a"
                          ],
                          [
                            0.8888888888888888,
                            "#fdca26"
                          ],
                          [
                            1,
                            "#f0f921"
                          ]
                        ]
                      }
                    ],
                    "heatmapgl": [
                      {
                        "type": "heatmapgl",
                        "colorbar": {
                          "outlinewidth": 0,
                          "ticks": ""
                        },
                        "colorscale": [
                          [
                            0,
                            "#0d0887"
                          ],
                          [
                            0.1111111111111111,
                            "#46039f"
                          ],
                          [
                            0.2222222222222222,
                            "#7201a8"
                          ],
                          [
                            0.3333333333333333,
                            "#9c179e"
                          ],
                          [
                            0.4444444444444444,
                            "#bd3786"
                          ],
                          [
                            0.5555555555555556,
                            "#d8576b"
                          ],
                          [
                            0.6666666666666666,
                            "#ed7953"
                          ],
                          [
                            0.7777777777777778,
                            "#fb9f3a"
                          ],
                          [
                            0.8888888888888888,
                            "#fdca26"
                          ],
                          [
                            1,
                            "#f0f921"
                          ]
                        ]
                      }
                    ],
                    "contourcarpet": [
                      {
                        "type": "contourcarpet",
                        "colorbar": {
                          "outlinewidth": 0,
                          "ticks": ""
                        }
                      }
                    ],
                    "contour": [
                      {
                        "type": "contour",
                        "colorbar": {
                          "outlinewidth": 0,
                          "ticks": ""
                        },
                        "colorscale": [
                          [
                            0,
                            "#0d0887"
                          ],
                          [
                            0.1111111111111111,
                            "#46039f"
                          ],
                          [
                            0.2222222222222222,
                            "#7201a8"
                          ],
                          [
                            0.3333333333333333,
                            "#9c179e"
                          ],
                          [
                            0.4444444444444444,
                            "#bd3786"
                          ],
                          [
                            0.5555555555555556,
                            "#d8576b"
                          ],
                          [
                            0.6666666666666666,
                            "#ed7953"
                          ],
                          [
                            0.7777777777777778,
                            "#fb9f3a"
                          ],
                          [
                            0.8888888888888888,
                            "#fdca26"
                          ],
                          [
                            1,
                            "#f0f921"
                          ]
                        ]
                      }
                    ],
                    "surface": [
                      {
                        "type": "surface",
                        "colorbar": {
                          "outlinewidth": 0,
                          "ticks": ""
                        },
                        "colorscale": [
                          [
                            0,
                            "#0d0887"
                          ],
                          [
                            0.1111111111111111,
                            "#46039f"
                          ],
                          [
                            0.2222222222222222,
                            "#7201a8"
                          ],
                          [
                            0.3333333333333333,
                            "#9c179e"
                          ],
                          [
                            0.4444444444444444,
                            "#bd3786"
                          ],
                          [
                            0.5555555555555556,
                            "#d8576b"
                          ],
                          [
                            0.6666666666666666,
                            "#ed7953"
                          ],
                          [
                            0.7777777777777778,
                            "#fb9f3a"
                          ],
                          [
                            0.8888888888888888,
                            "#fdca26"
                          ],
                          [
                            1,
                            "#f0f921"
                          ]
                        ]
                      }
                    ],
                    "mesh3d": [
                      {
                        "type": "mesh3d",
                        "colorbar": {
                          "outlinewidth": 0,
                          "ticks": ""
                        }
                      }
                    ],
                    "scatter": [
                      {
                        "fillpattern": {
                          "fillmode": "overlay",
                          "size": 10,
                          "solidity": 0.2
                        },
                        "type": "scatter"
                      }
                    ],
                    "parcoords": [
                      {
                        "type": "parcoords",
                        "line": {
                          "colorbar": {
                            "outlinewidth": 0,
                            "ticks": ""
                          }
                        }
                      }
                    ],
                    "scatterpolargl": [
                      {
                        "type": "scatterpolargl",
                        "marker": {
                          "colorbar": {
                            "outlinewidth": 0,
                            "ticks": ""
                          }
                        }
                      }
                    ],
                    "bar": [
                      {
                        "error_x": {
                          "color": "#2a3f5f"
                        },
                        "error_y": {
                          "color": "#2a3f5f"
                        },
                        "marker": {
                          "line": {
                            "color": "#E5ECF6",
                            "width": 0.5
                          },
                          "pattern": {
                            "fillmode": "overlay",
                            "size": 10,
                            "solidity": 0.2
                          }
                        },
                        "type": "bar"
                      }
                    ],
                    "scattergeo": [
                      {
                        "type": "scattergeo",
                        "marker": {
                          "colorbar": {
                            "outlinewidth": 0,
                            "ticks": ""
                          }
                        }
                      }
                    ],
                    "scatterpolar": [
                      {
                        "type": "scatterpolar",
                        "marker": {
                          "colorbar": {
                            "outlinewidth": 0,
                            "ticks": ""
                          }
                        }
                      }
                    ],
                    "histogram": [
                      {
                        "marker": {
                          "pattern": {
                            "fillmode": "overlay",
                            "size": 10,
                            "solidity": 0.2
                          }
                        },
                        "type": "histogram"
                      }
                    ],
                    "scattergl": [
                      {
                        "type": "scattergl",
                        "marker": {
                          "colorbar": {
                            "outlinewidth": 0,
                            "ticks": ""
                          }
                        }
                      }
                    ],
                    "scatter3d": [
                      {
                        "type": "scatter3d",
                        "line": {
                          "colorbar": {
                            "outlinewidth": 0,
                            "ticks": ""
                          }
                        },
                        "marker": {
                          "colorbar": {
                            "outlinewidth": 0,
                            "ticks": ""
                          }
                        }
                      }
                    ],
                    "scattermapbox": [
                      {
                        "type": "scattermapbox",
                        "marker": {
                          "colorbar": {
                            "outlinewidth": 0,
                            "ticks": ""
                          }
                        }
                      }
                    ],
                    "scatterternary": [
                      {
                        "type": "scatterternary",
                        "marker": {
                          "colorbar": {
                            "outlinewidth": 0,
                            "ticks": ""
                          }
                        }
                      }
                    ],
                    "scattercarpet": [
                      {
                        "type": "scattercarpet",
                        "marker": {
                          "colorbar": {
                            "outlinewidth": 0,
                            "ticks": ""
                          }
                        }
                      }
                    ],
                    "carpet": [
                      {
                        "aaxis": {
                          "endlinecolor": "#2a3f5f",
                          "gridcolor": "white",
                          "linecolor": "white",
                          "minorgridcolor": "white",
                          "startlinecolor": "#2a3f5f"
                        },
                        "baxis": {
                          "endlinecolor": "#2a3f5f",
                          "gridcolor": "white",
                          "linecolor": "white",
                          "minorgridcolor": "white",
                          "startlinecolor": "#2a3f5f"
                        },
                        "type": "carpet"
                      }
                    ],
                    "table": [
                      {
                        "cells": {
                          "fill": {
                            "color": "#EBF0F8"
                          },
                          "line": {
                            "color": "white"
                          }
                        },
                        "header": {
                          "fill": {
                            "color": "#C8D4E3"
                          },
                          "line": {
                            "color": "white"
                          }
                        },
                        "type": "table"
                      }
                    ],
                    "barpolar": [
                      {
                        "marker": {
                          "line": {
                            "color": "#E5ECF6",
                            "width": 0.5
                          },
                          "pattern": {
                            "fillmode": "overlay",
                            "size": 10,
                            "solidity": 0.2
                          }
                        },
                        "type": "barpolar"
                      }
                    ],
                    "pie": [
                      {
                        "automargin": true,
                        "type": "pie"
                      }
                    ]
                  },
                  "layout": {
                    "autotypenumbers": "strict",
                    "colorway": [
                      "#636efa",
                      "#EF553B",
                      "#00cc96",
                      "#ab63fa",
                      "#FFA15A",
                      "#19d3f3",
                      "#FF6692",
                      "#B6E880",
                      "#FF97FF",
                      "#FECB52"
                    ],
                    "font": {
                      "color": "#2a3f5f"
                    },
                    "hovermode": "closest",
                    "hoverlabel": {
                      "align": "left"
                    },
                    "paper_bgcolor": "white",
                    "plot_bgcolor": "#E5ECF6",
                    "polar": {
                      "bgcolor": "#E5ECF6",
                      "angularaxis": {
                        "gridcolor": "white",
                        "linecolor": "white",
                        "ticks": ""
                      },
                      "radialaxis": {
                        "gridcolor": "white",
                        "linecolor": "white",
                        "ticks": ""
                      }
                    },
                    "ternary": {
                      "bgcolor": "#E5ECF6",
                      "aaxis": {
                        "gridcolor": "white",
                        "linecolor": "white",
                        "ticks": ""
                      },
                      "baxis": {
                        "gridcolor": "white",
                        "linecolor": "white",
                        "ticks": ""
                      },
                      "caxis": {
                        "gridcolor": "white",
                        "linecolor": "white",
                        "ticks": ""
                      }
                    },
                    "coloraxis": {
                      "colorbar": {
                        "outlinewidth": 0,
                        "ticks": ""
                      }
                    },
                    "colorscale": {
                      "sequential": [
                        [
                          0,
                          "#0d0887"
                        ],
                        [
                          0.1111111111111111,
                          "#46039f"
                        ],
                        [
                          0.2222222222222222,
                          "#7201a8"
                        ],
                        [
                          0.3333333333333333,
                          "#9c179e"
                        ],
                        [
                          0.4444444444444444,
                          "#bd3786"
                        ],
                        [
                          0.5555555555555556,
                          "#d8576b"
                        ],
                        [
                          0.6666666666666666,
                          "#ed7953"
                        ],
                        [
                          0.7777777777777778,
                          "#fb9f3a"
                        ],
                        [
                          0.8888888888888888,
                          "#fdca26"
                        ],
                        [
                          1,
                          "#f0f921"
                        ]
                      ],
                      "sequentialminus": [
                        [
                          0,
                          "#0d0887"
                        ],
                        [
                          0.1111111111111111,
                          "#46039f"
                        ],
                        [
                          0.2222222222222222,
                          "#7201a8"
                        ],
                        [
                          0.3333333333333333,
                          "#9c179e"
                        ],
                        [
                          0.4444444444444444,
                          "#bd3786"
                        ],
                        [
                          0.5555555555555556,
                          "#d8576b"
                        ],
                        [
                          0.6666666666666666,
                          "#ed7953"
                        ],
                        [
                          0.7777777777777778,
                          "#fb9f3a"
                        ],
                        [
                          0.8888888888888888,
                          "#fdca26"
                        ],
                        [
                          1,
                          "#f0f921"
                        ]
                      ],
                      "diverging": [
                        [
                          0,
                          "#8e0152"
                        ],
                        [
                          0.1,
                          "#c51b7d"
                        ],
                        [
                          0.2,
                          "#de77ae"
                        ],
                        [
                          0.3,
                          "#f1b6da"
                        ],
                        [
                          0.4,
                          "#fde0ef"
                        ],
                        [
                          0.5,
                          "#f7f7f7"
                        ],
                        [
                          0.6,
                          "#e6f5d0"
                        ],
                        [
                          0.7,
                          "#b8e186"
                        ],
                        [
                          0.8,
                          "#7fbc41"
                        ],
                        [
                          0.9,
                          "#4d9221"
                        ],
                        [
                          1,
                          "#276419"
                        ]
                      ]
                    },
                    "xaxis": {
                      "gridcolor": "white",
                      "linecolor": "white",
                      "ticks": "",
                      "title": {
                        "standoff": 15
                      },
                      "zerolinecolor": "white",
                      "automargin": true,
                      "zerolinewidth": 2
                    },
                    "yaxis": {
                      "gridcolor": "white",
                      "linecolor": "white",
                      "ticks": "",
                      "title": {
                        "standoff": 15
                      },
                      "zerolinecolor": "white",
                      "automargin": true,
                      "zerolinewidth": 2
                    },
                    "scene": {
                      "xaxis": {
                        "backgroundcolor": "#E5ECF6",
                        "gridcolor": "white",
                        "linecolor": "white",
                        "showbackground": true,
                        "ticks": "",
                        "zerolinecolor": "white",
                        "gridwidth": 2
                      },
                      "yaxis": {
                        "backgroundcolor": "#E5ECF6",
                        "gridcolor": "white",
                        "linecolor": "white",
                        "showbackground": true,
                        "ticks": "",
                        "zerolinecolor": "white",
                        "gridwidth": 2
                      },
                      "zaxis": {
                        "backgroundcolor": "#E5ECF6",
                        "gridcolor": "white",
                        "linecolor": "white",
                        "showbackground": true,
                        "ticks": "",
                        "zerolinecolor": "white",
                        "gridwidth": 2
                      }
                    },
                    "shapedefaults": {
                      "line": {
                        "color": "#2a3f5f"
                      }
                    },
                    "annotationdefaults": {
                      "arrowcolor": "#2a3f5f",
                      "arrowhead": 0,
                      "arrowwidth": 1
                    },
                    "geo": {
                      "bgcolor": "white",
                      "landcolor": "#E5ECF6",
                      "subunitcolor": "white",
                      "showland": true,
                      "showlakes": true,
                      "lakecolor": "white"
                    },
                    "title": {
                      "x": 0.05
                    },
                    "mapbox": {
                      "style": "light"
                    }
                  }
                },
                "title": {
                  "text": "Number of Authors Ratings Rates"
                },
                "height": 800,
                "width": 800,
                "annotations": [
                  {
                    "showarrow": false,
                    "text": "2009",
                    "x": 0.175,
                    "y": 0.5,
                    "font": {
                      "size": 14
                    }
                  },
                  {
                    "showarrow": false,
                    "text": "2010",
                    "x": 0.82,
                    "y": 0.5,
                    "font": {
                      "size": 14
                    }
                  }
                ]
              },
              "config": {
                "plotlyServerURL": "https://plot.ly"
              }
            },
            "text/html": [
              "<div>                            <div id=\"5bd9f647-c2c9-44e7-9485-19d8b2be9bb1\" class=\"plotly-graph-div\" style=\"height:800px; width:800px;\"></div>            <script type=\"text/javascript\">                require([\"plotly\"], function(Plotly) {                    window.PLOTLYENV=window.PLOTLYENV || {};                                    if (document.getElementById(\"5bd9f647-c2c9-44e7-9485-19d8b2be9bb1\")) {                    Plotly.newPlot(                        \"5bd9f647-c2c9-44e7-9485-19d8b2be9bb1\",                        [{\"labels\":[\"Suzanne Collins\",\"Kathryn Stockett\",\"James Dashner\",\"Cassandra Clare\",\"Gayle Forman\",\"Rick Riordan\",\"Kami Garcia, Margaret Stohl\"],\"name\":\"Number Of Authors Rates\",\"values\":[10492,10235,15291,6646,12666,2098,19917],\"type\":\"pie\",\"domain\":{\"x\":[0.0,0.45],\"y\":[0.0,1.0]},\"hole\":0.45,\"hoverinfo\":\"label+percent+name\"},{\"labels\":[\"Suzanne Collins\",\"Kathryn Stockett\",\"James Dashner\",\"Cassandra Clare\",\"Gayle Forman\",\"Rick Riordan\",\"Kami Garcia, Margaret Stohl\"],\"name\":\"Number Of Authors Rates\",\"values\":[10492,10235,15291,6646,12666,2098,19917],\"type\":\"pie\",\"domain\":{\"x\":[0.55,1.0],\"y\":[0.0,1.0]},\"hole\":0.45,\"hoverinfo\":\"label+percent+name\"}],                        {\"template\":{\"data\":{\"histogram2dcontour\":[{\"type\":\"histogram2dcontour\",\"colorbar\":{\"outlinewidth\":0,\"ticks\":\"\"},\"colorscale\":[[0.0,\"#0d0887\"],[0.1111111111111111,\"#46039f\"],[0.2222222222222222,\"#7201a8\"],[0.3333333333333333,\"#9c179e\"],[0.4444444444444444,\"#bd3786\"],[0.5555555555555556,\"#d8576b\"],[0.6666666666666666,\"#ed7953\"],[0.7777777777777778,\"#fb9f3a\"],[0.8888888888888888,\"#fdca26\"],[1.0,\"#f0f921\"]]}],\"choropleth\":[{\"type\":\"choropleth\",\"colorbar\":{\"outlinewidth\":0,\"ticks\":\"\"}}],\"histogram2d\":[{\"type\":\"histogram2d\",\"colorbar\":{\"outlinewidth\":0,\"ticks\":\"\"},\"colorscale\":[[0.0,\"#0d0887\"],[0.1111111111111111,\"#46039f\"],[0.2222222222222222,\"#7201a8\"],[0.3333333333333333,\"#9c179e\"],[0.4444444444444444,\"#bd3786\"],[0.5555555555555556,\"#d8576b\"],[0.6666666666666666,\"#ed7953\"],[0.7777777777777778,\"#fb9f3a\"],[0.8888888888888888,\"#fdca26\"],[1.0,\"#f0f921\"]]}],\"heatmap\":[{\"type\":\"heatmap\",\"colorbar\":{\"outlinewidth\":0,\"ticks\":\"\"},\"colorscale\":[[0.0,\"#0d0887\"],[0.1111111111111111,\"#46039f\"],[0.2222222222222222,\"#7201a8\"],[0.3333333333333333,\"#9c179e\"],[0.4444444444444444,\"#bd3786\"],[0.5555555555555556,\"#d8576b\"],[0.6666666666666666,\"#ed7953\"],[0.7777777777777778,\"#fb9f3a\"],[0.8888888888888888,\"#fdca26\"],[1.0,\"#f0f921\"]]}],\"heatmapgl\":[{\"type\":\"heatmapgl\",\"colorbar\":{\"outlinewidth\":0,\"ticks\":\"\"},\"colorscale\":[[0.0,\"#0d0887\"],[0.1111111111111111,\"#46039f\"],[0.2222222222222222,\"#7201a8\"],[0.3333333333333333,\"#9c179e\"],[0.4444444444444444,\"#bd3786\"],[0.5555555555555556,\"#d8576b\"],[0.6666666666666666,\"#ed7953\"],[0.7777777777777778,\"#fb9f3a\"],[0.8888888888888888,\"#fdca26\"],[1.0,\"#f0f921\"]]}],\"contourcarpet\":[{\"type\":\"contourcarpet\",\"colorbar\":{\"outlinewidth\":0,\"ticks\":\"\"}}],\"contour\":[{\"type\":\"contour\",\"colorbar\":{\"outlinewidth\":0,\"ticks\":\"\"},\"colorscale\":[[0.0,\"#0d0887\"],[0.1111111111111111,\"#46039f\"],[0.2222222222222222,\"#7201a8\"],[0.3333333333333333,\"#9c179e\"],[0.4444444444444444,\"#bd3786\"],[0.5555555555555556,\"#d8576b\"],[0.6666666666666666,\"#ed7953\"],[0.7777777777777778,\"#fb9f3a\"],[0.8888888888888888,\"#fdca26\"],[1.0,\"#f0f921\"]]}],\"surface\":[{\"type\":\"surface\",\"colorbar\":{\"outlinewidth\":0,\"ticks\":\"\"},\"colorscale\":[[0.0,\"#0d0887\"],[0.1111111111111111,\"#46039f\"],[0.2222222222222222,\"#7201a8\"],[0.3333333333333333,\"#9c179e\"],[0.4444444444444444,\"#bd3786\"],[0.5555555555555556,\"#d8576b\"],[0.6666666666666666,\"#ed7953\"],[0.7777777777777778,\"#fb9f3a\"],[0.8888888888888888,\"#fdca26\"],[1.0,\"#f0f921\"]]}],\"mesh3d\":[{\"type\":\"mesh3d\",\"colorbar\":{\"outlinewidth\":0,\"ticks\":\"\"}}],\"scatter\":[{\"fillpattern\":{\"fillmode\":\"overlay\",\"size\":10,\"solidity\":0.2},\"type\":\"scatter\"}],\"parcoords\":[{\"type\":\"parcoords\",\"line\":{\"colorbar\":{\"outlinewidth\":0,\"ticks\":\"\"}}}],\"scatterpolargl\":[{\"type\":\"scatterpolargl\",\"marker\":{\"colorbar\":{\"outlinewidth\":0,\"ticks\":\"\"}}}],\"bar\":[{\"error_x\":{\"color\":\"#2a3f5f\"},\"error_y\":{\"color\":\"#2a3f5f\"},\"marker\":{\"line\":{\"color\":\"#E5ECF6\",\"width\":0.5},\"pattern\":{\"fillmode\":\"overlay\",\"size\":10,\"solidity\":0.2}},\"type\":\"bar\"}],\"scattergeo\":[{\"type\":\"scattergeo\",\"marker\":{\"colorbar\":{\"outlinewidth\":0,\"ticks\":\"\"}}}],\"scatterpolar\":[{\"type\":\"scatterpolar\",\"marker\":{\"colorbar\":{\"outlinewidth\":0,\"ticks\":\"\"}}}],\"histogram\":[{\"marker\":{\"pattern\":{\"fillmode\":\"overlay\",\"size\":10,\"solidity\":0.2}},\"type\":\"histogram\"}],\"scattergl\":[{\"type\":\"scattergl\",\"marker\":{\"colorbar\":{\"outlinewidth\":0,\"ticks\":\"\"}}}],\"scatter3d\":[{\"type\":\"scatter3d\",\"line\":{\"colorbar\":{\"outlinewidth\":0,\"ticks\":\"\"}},\"marker\":{\"colorbar\":{\"outlinewidth\":0,\"ticks\":\"\"}}}],\"scattermapbox\":[{\"type\":\"scattermapbox\",\"marker\":{\"colorbar\":{\"outlinewidth\":0,\"ticks\":\"\"}}}],\"scatterternary\":[{\"type\":\"scatterternary\",\"marker\":{\"colorbar\":{\"outlinewidth\":0,\"ticks\":\"\"}}}],\"scattercarpet\":[{\"type\":\"scattercarpet\",\"marker\":{\"colorbar\":{\"outlinewidth\":0,\"ticks\":\"\"}}}],\"carpet\":[{\"aaxis\":{\"endlinecolor\":\"#2a3f5f\",\"gridcolor\":\"white\",\"linecolor\":\"white\",\"minorgridcolor\":\"white\",\"startlinecolor\":\"#2a3f5f\"},\"baxis\":{\"endlinecolor\":\"#2a3f5f\",\"gridcolor\":\"white\",\"linecolor\":\"white\",\"minorgridcolor\":\"white\",\"startlinecolor\":\"#2a3f5f\"},\"type\":\"carpet\"}],\"table\":[{\"cells\":{\"fill\":{\"color\":\"#EBF0F8\"},\"line\":{\"color\":\"white\"}},\"header\":{\"fill\":{\"color\":\"#C8D4E3\"},\"line\":{\"color\":\"white\"}},\"type\":\"table\"}],\"barpolar\":[{\"marker\":{\"line\":{\"color\":\"#E5ECF6\",\"width\":0.5},\"pattern\":{\"fillmode\":\"overlay\",\"size\":10,\"solidity\":0.2}},\"type\":\"barpolar\"}],\"pie\":[{\"automargin\":true,\"type\":\"pie\"}]},\"layout\":{\"autotypenumbers\":\"strict\",\"colorway\":[\"#636efa\",\"#EF553B\",\"#00cc96\",\"#ab63fa\",\"#FFA15A\",\"#19d3f3\",\"#FF6692\",\"#B6E880\",\"#FF97FF\",\"#FECB52\"],\"font\":{\"color\":\"#2a3f5f\"},\"hovermode\":\"closest\",\"hoverlabel\":{\"align\":\"left\"},\"paper_bgcolor\":\"white\",\"plot_bgcolor\":\"#E5ECF6\",\"polar\":{\"bgcolor\":\"#E5ECF6\",\"angularaxis\":{\"gridcolor\":\"white\",\"linecolor\":\"white\",\"ticks\":\"\"},\"radialaxis\":{\"gridcolor\":\"white\",\"linecolor\":\"white\",\"ticks\":\"\"}},\"ternary\":{\"bgcolor\":\"#E5ECF6\",\"aaxis\":{\"gridcolor\":\"white\",\"linecolor\":\"white\",\"ticks\":\"\"},\"baxis\":{\"gridcolor\":\"white\",\"linecolor\":\"white\",\"ticks\":\"\"},\"caxis\":{\"gridcolor\":\"white\",\"linecolor\":\"white\",\"ticks\":\"\"}},\"coloraxis\":{\"colorbar\":{\"outlinewidth\":0,\"ticks\":\"\"}},\"colorscale\":{\"sequential\":[[0.0,\"#0d0887\"],[0.1111111111111111,\"#46039f\"],[0.2222222222222222,\"#7201a8\"],[0.3333333333333333,\"#9c179e\"],[0.4444444444444444,\"#bd3786\"],[0.5555555555555556,\"#d8576b\"],[0.6666666666666666,\"#ed7953\"],[0.7777777777777778,\"#fb9f3a\"],[0.8888888888888888,\"#fdca26\"],[1.0,\"#f0f921\"]],\"sequentialminus\":[[0.0,\"#0d0887\"],[0.1111111111111111,\"#46039f\"],[0.2222222222222222,\"#7201a8\"],[0.3333333333333333,\"#9c179e\"],[0.4444444444444444,\"#bd3786\"],[0.5555555555555556,\"#d8576b\"],[0.6666666666666666,\"#ed7953\"],[0.7777777777777778,\"#fb9f3a\"],[0.8888888888888888,\"#fdca26\"],[1.0,\"#f0f921\"]],\"diverging\":[[0,\"#8e0152\"],[0.1,\"#c51b7d\"],[0.2,\"#de77ae\"],[0.3,\"#f1b6da\"],[0.4,\"#fde0ef\"],[0.5,\"#f7f7f7\"],[0.6,\"#e6f5d0\"],[0.7,\"#b8e186\"],[0.8,\"#7fbc41\"],[0.9,\"#4d9221\"],[1,\"#276419\"]]},\"xaxis\":{\"gridcolor\":\"white\",\"linecolor\":\"white\",\"ticks\":\"\",\"title\":{\"standoff\":15},\"zerolinecolor\":\"white\",\"automargin\":true,\"zerolinewidth\":2},\"yaxis\":{\"gridcolor\":\"white\",\"linecolor\":\"white\",\"ticks\":\"\",\"title\":{\"standoff\":15},\"zerolinecolor\":\"white\",\"automargin\":true,\"zerolinewidth\":2},\"scene\":{\"xaxis\":{\"backgroundcolor\":\"#E5ECF6\",\"gridcolor\":\"white\",\"linecolor\":\"white\",\"showbackground\":true,\"ticks\":\"\",\"zerolinecolor\":\"white\",\"gridwidth\":2},\"yaxis\":{\"backgroundcolor\":\"#E5ECF6\",\"gridcolor\":\"white\",\"linecolor\":\"white\",\"showbackground\":true,\"ticks\":\"\",\"zerolinecolor\":\"white\",\"gridwidth\":2},\"zaxis\":{\"backgroundcolor\":\"#E5ECF6\",\"gridcolor\":\"white\",\"linecolor\":\"white\",\"showbackground\":true,\"ticks\":\"\",\"zerolinecolor\":\"white\",\"gridwidth\":2}},\"shapedefaults\":{\"line\":{\"color\":\"#2a3f5f\"}},\"annotationdefaults\":{\"arrowcolor\":\"#2a3f5f\",\"arrowhead\":0,\"arrowwidth\":1},\"geo\":{\"bgcolor\":\"white\",\"landcolor\":\"#E5ECF6\",\"subunitcolor\":\"white\",\"showland\":true,\"showlakes\":true,\"lakecolor\":\"white\"},\"title\":{\"x\":0.05},\"mapbox\":{\"style\":\"light\"}}},\"title\":{\"text\":\"Number of Authors Ratings Rates\"},\"height\":800,\"width\":800,\"annotations\":[{\"showarrow\":false,\"text\":\"2009\",\"x\":0.175,\"y\":0.5,\"font\":{\"size\":14}},{\"showarrow\":false,\"text\":\"2010\",\"x\":0.82,\"y\":0.5,\"font\":{\"size\":14}}]},                        {\"responsive\": true}                    ).then(function(){\n",
              "                            \n",
              "var gd = document.getElementById('5bd9f647-c2c9-44e7-9485-19d8b2be9bb1');\n",
              "var x = new MutationObserver(function (mutations, observer) {{\n",
              "        var display = window.getComputedStyle(gd).display;\n",
              "        if (!display || display === 'none') {{\n",
              "            console.log([gd, 'removed!']);\n",
              "            Plotly.purge(gd);\n",
              "            observer.disconnect();\n",
              "        }}\n",
              "}});\n",
              "\n",
              "// Listen for the removal of the full notebook cells\n",
              "var notebookContainer = gd.closest('#notebook-container');\n",
              "if (notebookContainer) {{\n",
              "    x.observe(notebookContainer, {childList: true});\n",
              "}}\n",
              "\n",
              "// Listen for the clearing of the current output cell\n",
              "var outputEl = gd.closest('.output');\n",
              "if (outputEl) {{\n",
              "    x.observe(outputEl, {childList: true});\n",
              "}}\n",
              "\n",
              "                        })                };                });            </script>        </div>"
            ]
          },
          "metadata": {}
        }
      ]
    },
    {
      "metadata": {
        "trusted": true,
        "colab": {
          "base_uri": "https://localhost:8080/",
          "height": 542
        },
        "id": "rxf3dKB66pz0",
        "outputId": "aadbd8d7-ec9e-4677-dd58-7011da169c82"
      },
      "cell_type": "code",
      "source": [
        "from plotly.offline import init_notebook_mode, iplot, plot\n",
        "import plotly as py\n",
        "init_notebook_mode(connected=True)\n",
        "import plotly.graph_objs as go\n",
        "df1 = books[books.original_publication_year == 2009]\n",
        "trace0 = go.Scatter(\n",
        "    y=df1.ratings_1,\n",
        "    name = 'Rating1',\n",
        "    marker = dict(\n",
        "        color = 'rgb(12, 12, 140)',\n",
        "    )\n",
        ")\n",
        "trace1 = go.Scatter(\n",
        "    y=df1.ratings_2,\n",
        "    name = 'Rating2',\n",
        "     xaxis='x2',\n",
        "     yaxis='y2',\n",
        "    marker = dict(\n",
        "        color = 'rgb(12, 128, 128)',\n",
        "    )\n",
        ")\n",
        "data = [trace0, trace1]\n",
        "layout = go.Layout(\n",
        "    xaxis2=dict(\n",
        "        domain=[0.6, 0.95],\n",
        "        anchor='y2',\n",
        "    ),\n",
        "    yaxis2=dict(\n",
        "        domain=[0.6, 0.95],\n",
        "        anchor='x2',\n",
        "    ),\n",
        "    title = 'Ratings1 and Ratings2 of 2009'\n",
        ")\n",
        "fig = go.Figure(data=data, layout=layout)\n",
        "iplot(fig)"
      ],
      "execution_count": 24,
      "outputs": [
        {
          "output_type": "display_data",
          "data": {
            "text/html": [
              "        <script type=\"text/javascript\">\n",
              "        window.PlotlyConfig = {MathJaxConfig: 'local'};\n",
              "        if (window.MathJax && window.MathJax.Hub && window.MathJax.Hub.Config) {window.MathJax.Hub.Config({SVG: {font: \"STIX-Web\"}});}\n",
              "        if (typeof require !== 'undefined') {\n",
              "        require.undef(\"plotly\");\n",
              "        requirejs.config({\n",
              "            paths: {\n",
              "                'plotly': ['https://cdn.plot.ly/plotly-2.35.2.min']\n",
              "            }\n",
              "        });\n",
              "        require(['plotly'], function(Plotly) {\n",
              "            window._Plotly = Plotly;\n",
              "        });\n",
              "        }\n",
              "        </script>\n",
              "        "
            ]
          },
          "metadata": {}
        },
        {
          "output_type": "display_data",
          "data": {
            "application/vnd.plotly.v1+json": {
              "data": [
                {
                  "marker": {
                    "color": "rgb(12, 12, 140)"
                  },
                  "name": "Rating1",
                  "y": [
                    10492,
                    10235,
                    15291,
                    6646,
                    12666,
                    2098,
                    19917,
                    11293,
                    19338,
                    23594,
                    5169,
                    17815,
                    4586,
                    8632,
                    2345,
                    16941,
                    2186,
                    1599,
                    4863,
                    10045,
                    3934,
                    2588,
                    1516,
                    4096,
                    7314,
                    1114,
                    3479,
                    2295,
                    4169,
                    1552,
                    6673,
                    1334,
                    3201,
                    1736,
                    2390,
                    3040,
                    1146,
                    5238,
                    4381,
                    972,
                    5722,
                    2908,
                    10085,
                    1471,
                    2951,
                    1272,
                    1285,
                    3590,
                    1644,
                    1705,
                    1691,
                    1151,
                    2390,
                    426,
                    1117,
                    1490,
                    743,
                    863,
                    747,
                    641,
                    849,
                    4845,
                    498,
                    1771,
                    1042,
                    653,
                    925,
                    97,
                    4195,
                    322,
                    1136,
                    2212,
                    633,
                    1115,
                    1301,
                    3935,
                    2589,
                    1006,
                    3410,
                    1534,
                    235,
                    497,
                    1003,
                    4754,
                    578,
                    411,
                    925,
                    1319,
                    2202,
                    1859,
                    807,
                    585,
                    2881,
                    1626,
                    1234,
                    568,
                    1222,
                    481,
                    707,
                    618,
                    547,
                    509,
                    963,
                    318,
                    1134,
                    2063,
                    492,
                    1584,
                    794,
                    872,
                    1325,
                    1025,
                    1581,
                    1462,
                    521,
                    580,
                    872,
                    1565,
                    950,
                    355,
                    2892,
                    1041,
                    440,
                    1426,
                    317,
                    130,
                    814,
                    1304,
                    1258,
                    688,
                    264,
                    956,
                    1098,
                    418,
                    3057,
                    285,
                    1202,
                    1199,
                    246,
                    1028,
                    658,
                    168,
                    1155,
                    783,
                    735,
                    881,
                    1742,
                    452,
                    166,
                    1167,
                    381,
                    405,
                    397,
                    405,
                    195,
                    1366,
                    282,
                    484,
                    1072,
                    227,
                    251,
                    158,
                    465,
                    1474,
                    732,
                    470,
                    1083,
                    405,
                    295,
                    647,
                    1063,
                    1030,
                    1302,
                    509,
                    170,
                    842,
                    1769,
                    797,
                    808,
                    1161,
                    566,
                    1737,
                    243,
                    612,
                    880,
                    3121,
                    839,
                    441,
                    255,
                    393,
                    202,
                    230,
                    1294,
                    533,
                    263,
                    991,
                    184,
                    247,
                    547,
                    108,
                    395,
                    249,
                    145,
                    204,
                    291,
                    118,
                    63,
                    444,
                    216,
                    153,
                    295,
                    145,
                    716,
                    502,
                    412,
                    952,
                    173,
                    96,
                    425,
                    189,
                    373,
                    248,
                    508,
                    266,
                    305,
                    1693,
                    580,
                    269,
                    1192,
                    1015,
                    176,
                    509,
                    589,
                    436,
                    487,
                    190,
                    822,
                    1082,
                    150,
                    532,
                    126,
                    343,
                    101,
                    1325,
                    1199,
                    48,
                    421,
                    444,
                    580,
                    239,
                    602,
                    252,
                    707,
                    325,
                    605,
                    536,
                    142,
                    200,
                    533,
                    743,
                    552,
                    137,
                    353,
                    188,
                    552,
                    443,
                    362,
                    288,
                    456,
                    118,
                    214,
                    460,
                    365,
                    343,
                    298,
                    370,
                    411,
                    380,
                    758,
                    350,
                    201,
                    358,
                    89,
                    325,
                    579,
                    402,
                    112,
                    88,
                    169,
                    151,
                    105,
                    200,
                    133,
                    296,
                    732,
                    138,
                    252,
                    127,
                    182,
                    195,
                    187,
                    124,
                    335,
                    143,
                    374,
                    758,
                    278,
                    249,
                    430,
                    156,
                    177,
                    1135,
                    659,
                    130,
                    169,
                    154,
                    142,
                    217,
                    213,
                    331,
                    111,
                    243,
                    57,
                    49,
                    161,
                    117,
                    184,
                    73,
                    396,
                    196,
                    346,
                    218,
                    277,
                    206,
                    151,
                    47,
                    1197,
                    73,
                    117,
                    165,
                    213,
                    1085,
                    46,
                    98,
                    196,
                    225,
                    103,
                    556,
                    124,
                    341,
                    123,
                    203,
                    708,
                    115,
                    44,
                    94,
                    188,
                    147,
                    150,
                    203,
                    452,
                    263,
                    309,
                    155,
                    255,
                    394,
                    197,
                    188,
                    221,
                    230,
                    134,
                    229,
                    225,
                    542,
                    171,
                    159,
                    188,
                    60,
                    176,
                    179,
                    311,
                    173,
                    176,
                    177,
                    125,
                    122,
                    153,
                    136,
                    124,
                    1618,
                    526,
                    597,
                    533,
                    99,
                    148,
                    83,
                    219,
                    541,
                    605,
                    255,
                    75,
                    142,
                    313,
                    425,
                    256,
                    238,
                    197,
                    656,
                    63,
                    207,
                    114,
                    53,
                    31,
                    342,
                    160,
                    160,
                    531,
                    125,
                    50,
                    290,
                    101,
                    350,
                    229,
                    52,
                    212,
                    250,
                    221,
                    324,
                    168,
                    118,
                    32,
                    110
                  ],
                  "type": "scatter"
                },
                {
                  "marker": {
                    "color": "rgb(12, 128, 128)"
                  },
                  "name": "Rating2",
                  "xaxis": "x2",
                  "y": [
                    48030,
                    25117,
                    43370,
                    17351,
                    34896,
                    6501,
                    43525,
                    40545,
                    33543,
                    41578,
                    17975,
                    35108,
                    9249,
                    21291,
                    9368,
                    29301,
                    6182,
                    6071,
                    12998,
                    21851,
                    9901,
                    7073,
                    3182,
                    11094,
                    21317,
                    6415,
                    9323,
                    7115,
                    10788,
                    6027,
                    9916,
                    5638,
                    4369,
                    4571,
                    6020,
                    4242,
                    2178,
                    6858,
                    11562,
                    2139,
                    16486,
                    7650,
                    17255,
                    5253,
                    7571,
                    4403,
                    2812,
                    9682,
                    4957,
                    4602,
                    4157,
                    3775,
                    5689,
                    1486,
                    4118,
                    3986,
                    2970,
                    2603,
                    1162,
                    2021,
                    1260,
                    13797,
                    1841,
                    5200,
                    5940,
                    1512,
                    1306,
                    364,
                    10812,
                    1337,
                    3036,
                    4654,
                    1054,
                    2652,
                    3531,
                    9508,
                    4520,
                    3019,
                    8196,
                    6166,
                    925,
                    1335,
                    4409,
                    9003,
                    3242,
                    1270,
                    2256,
                    3966,
                    4330,
                    4274,
                    2719,
                    3334,
                    6122,
                    4221,
                    1342,
                    1415,
                    3669,
                    1554,
                    1733,
                    1784,
                    1084,
                    2927,
                    2575,
                    533,
                    2113,
                    5938,
                    1101,
                    2869,
                    1689,
                    1112,
                    2014,
                    2229,
                    4238,
                    2887,
                    772,
                    2026,
                    2179,
                    2646,
                    1559,
                    1490,
                    5695,
                    3900,
                    1356,
                    2577,
                    1708,
                    425,
                    1801,
                    2120,
                    2194,
                    2024,
                    624,
                    2760,
                    2334,
                    1813,
                    5863,
                    426,
                    3495,
                    1989,
                    681,
                    2275,
                    3504,
                    451,
                    2740,
                    2782,
                    1012,
                    1839,
                    2648,
                    1381,
                    961,
                    4361,
                    1805,
                    909,
                    1577,
                    1962,
                    1144,
                    2415,
                    1164,
                    2859,
                    2853,
                    799,
                    1536,
                    678,
                    1926,
                    5324,
                    2560,
                    847,
                    2985,
                    975,
                    1227,
                    1208,
                    2329,
                    2217,
                    2052,
                    907,
                    706,
                    2356,
                    5123,
                    2965,
                    2757,
                    2509,
                    3027,
                    3266,
                    1079,
                    2047,
                    1378,
                    4811,
                    3379,
                    1408,
                    826,
                    1275,
                    1107,
                    829,
                    2972,
                    1575,
                    1052,
                    3246,
                    837,
                    1035,
                    1014,
                    447,
                    1837,
                    759,
                    764,
                    804,
                    998,
                    373,
                    406,
                    651,
                    826,
                    391,
                    1064,
                    684,
                    1673,
                    1362,
                    847,
                    2377,
                    279,
                    313,
                    1098,
                    589,
                    956,
                    804,
                    1148,
                    690,
                    1070,
                    2996,
                    1708,
                    1086,
                    3587,
                    2807,
                    388,
                    847,
                    1194,
                    1243,
                    804,
                    486,
                    3074,
                    2601,
                    808,
                    1570,
                    678,
                    734,
                    313,
                    3195,
                    2553,
                    191,
                    1854,
                    799,
                    1571,
                    768,
                    1829,
                    861,
                    1907,
                    1049,
                    1780,
                    1405,
                    824,
                    713,
                    1162,
                    1625,
                    935,
                    766,
                    1263,
                    922,
                    1532,
                    1217,
                    1485,
                    803,
                    947,
                    549,
                    573,
                    1128,
                    1053,
                    775,
                    1025,
                    1428,
                    1225,
                    858,
                    1549,
                    689,
                    607,
                    824,
                    310,
                    427,
                    1766,
                    1108,
                    461,
                    320,
                    1098,
                    358,
                    604,
                    881,
                    645,
                    618,
                    1678,
                    658,
                    1296,
                    613,
                    608,
                    446,
                    824,
                    401,
                    1074,
                    744,
                    606,
                    1719,
                    586,
                    296,
                    907,
                    917,
                    810,
                    2946,
                    1226,
                    566,
                    1002,
                    446,
                    306,
                    960,
                    714,
                    1027,
                    493,
                    1002,
                    204,
                    295,
                    704,
                    403,
                    415,
                    237,
                    1259,
                    725,
                    734,
                    815,
                    707,
                    331,
                    625,
                    214,
                    944,
                    356,
                    375,
                    659,
                    525,
                    1846,
                    200,
                    617,
                    588,
                    964,
                    378,
                    1068,
                    567,
                    1244,
                    506,
                    789,
                    1854,
                    634,
                    242,
                    384,
                    689,
                    476,
                    655,
                    382,
                    1951,
                    1237,
                    1288,
                    458,
                    1109,
                    1016,
                    1014,
                    585,
                    958,
                    779,
                    522,
                    523,
                    973,
                    1889,
                    673,
                    530,
                    581,
                    316,
                    359,
                    903,
                    771,
                    679,
                    439,
                    435,
                    468,
                    586,
                    539,
                    303,
                    479,
                    1188,
                    1115,
                    1296,
                    1336,
                    363,
                    764,
                    266,
                    385,
                    1287,
                    1289,
                    843,
                    167,
                    530,
                    958,
                    1067,
                    1282,
                    422,
                    864,
                    1264,
                    267,
                    667,
                    202,
                    349,
                    231,
                    1322,
                    944,
                    571,
                    1182,
                    368,
                    214,
                    902,
                    259,
                    776,
                    369,
                    248,
                    408,
                    1413,
                    583,
                    1143,
                    390,
                    655,
                    152,
                    289
                  ],
                  "yaxis": "y2",
                  "type": "scatter"
                }
              ],
              "layout": {
                "template": {
                  "data": {
                    "barpolar": [
                      {
                        "marker": {
                          "line": {
                            "color": "#E5ECF6",
                            "width": 0.5
                          },
                          "pattern": {
                            "fillmode": "overlay",
                            "size": 10,
                            "solidity": 0.2
                          }
                        },
                        "type": "barpolar"
                      }
                    ],
                    "bar": [
                      {
                        "error_x": {
                          "color": "#2a3f5f"
                        },
                        "error_y": {
                          "color": "#2a3f5f"
                        },
                        "marker": {
                          "line": {
                            "color": "#E5ECF6",
                            "width": 0.5
                          },
                          "pattern": {
                            "fillmode": "overlay",
                            "size": 10,
                            "solidity": 0.2
                          }
                        },
                        "type": "bar"
                      }
                    ],
                    "carpet": [
                      {
                        "aaxis": {
                          "endlinecolor": "#2a3f5f",
                          "gridcolor": "white",
                          "linecolor": "white",
                          "minorgridcolor": "white",
                          "startlinecolor": "#2a3f5f"
                        },
                        "baxis": {
                          "endlinecolor": "#2a3f5f",
                          "gridcolor": "white",
                          "linecolor": "white",
                          "minorgridcolor": "white",
                          "startlinecolor": "#2a3f5f"
                        },
                        "type": "carpet"
                      }
                    ],
                    "choropleth": [
                      {
                        "colorbar": {
                          "outlinewidth": 0,
                          "ticks": ""
                        },
                        "type": "choropleth"
                      }
                    ],
                    "contourcarpet": [
                      {
                        "colorbar": {
                          "outlinewidth": 0,
                          "ticks": ""
                        },
                        "type": "contourcarpet"
                      }
                    ],
                    "contour": [
                      {
                        "colorbar": {
                          "outlinewidth": 0,
                          "ticks": ""
                        },
                        "colorscale": [
                          [
                            0,
                            "#0d0887"
                          ],
                          [
                            0.1111111111111111,
                            "#46039f"
                          ],
                          [
                            0.2222222222222222,
                            "#7201a8"
                          ],
                          [
                            0.3333333333333333,
                            "#9c179e"
                          ],
                          [
                            0.4444444444444444,
                            "#bd3786"
                          ],
                          [
                            0.5555555555555556,
                            "#d8576b"
                          ],
                          [
                            0.6666666666666666,
                            "#ed7953"
                          ],
                          [
                            0.7777777777777778,
                            "#fb9f3a"
                          ],
                          [
                            0.8888888888888888,
                            "#fdca26"
                          ],
                          [
                            1,
                            "#f0f921"
                          ]
                        ],
                        "type": "contour"
                      }
                    ],
                    "heatmapgl": [
                      {
                        "colorbar": {
                          "outlinewidth": 0,
                          "ticks": ""
                        },
                        "colorscale": [
                          [
                            0,
                            "#0d0887"
                          ],
                          [
                            0.1111111111111111,
                            "#46039f"
                          ],
                          [
                            0.2222222222222222,
                            "#7201a8"
                          ],
                          [
                            0.3333333333333333,
                            "#9c179e"
                          ],
                          [
                            0.4444444444444444,
                            "#bd3786"
                          ],
                          [
                            0.5555555555555556,
                            "#d8576b"
                          ],
                          [
                            0.6666666666666666,
                            "#ed7953"
                          ],
                          [
                            0.7777777777777778,
                            "#fb9f3a"
                          ],
                          [
                            0.8888888888888888,
                            "#fdca26"
                          ],
                          [
                            1,
                            "#f0f921"
                          ]
                        ],
                        "type": "heatmapgl"
                      }
                    ],
                    "heatmap": [
                      {
                        "colorbar": {
                          "outlinewidth": 0,
                          "ticks": ""
                        },
                        "colorscale": [
                          [
                            0,
                            "#0d0887"
                          ],
                          [
                            0.1111111111111111,
                            "#46039f"
                          ],
                          [
                            0.2222222222222222,
                            "#7201a8"
                          ],
                          [
                            0.3333333333333333,
                            "#9c179e"
                          ],
                          [
                            0.4444444444444444,
                            "#bd3786"
                          ],
                          [
                            0.5555555555555556,
                            "#d8576b"
                          ],
                          [
                            0.6666666666666666,
                            "#ed7953"
                          ],
                          [
                            0.7777777777777778,
                            "#fb9f3a"
                          ],
                          [
                            0.8888888888888888,
                            "#fdca26"
                          ],
                          [
                            1,
                            "#f0f921"
                          ]
                        ],
                        "type": "heatmap"
                      }
                    ],
                    "histogram2dcontour": [
                      {
                        "colorbar": {
                          "outlinewidth": 0,
                          "ticks": ""
                        },
                        "colorscale": [
                          [
                            0,
                            "#0d0887"
                          ],
                          [
                            0.1111111111111111,
                            "#46039f"
                          ],
                          [
                            0.2222222222222222,
                            "#7201a8"
                          ],
                          [
                            0.3333333333333333,
                            "#9c179e"
                          ],
                          [
                            0.4444444444444444,
                            "#bd3786"
                          ],
                          [
                            0.5555555555555556,
                            "#d8576b"
                          ],
                          [
                            0.6666666666666666,
                            "#ed7953"
                          ],
                          [
                            0.7777777777777778,
                            "#fb9f3a"
                          ],
                          [
                            0.8888888888888888,
                            "#fdca26"
                          ],
                          [
                            1,
                            "#f0f921"
                          ]
                        ],
                        "type": "histogram2dcontour"
                      }
                    ],
                    "histogram2d": [
                      {
                        "colorbar": {
                          "outlinewidth": 0,
                          "ticks": ""
                        },
                        "colorscale": [
                          [
                            0,
                            "#0d0887"
                          ],
                          [
                            0.1111111111111111,
                            "#46039f"
                          ],
                          [
                            0.2222222222222222,
                            "#7201a8"
                          ],
                          [
                            0.3333333333333333,
                            "#9c179e"
                          ],
                          [
                            0.4444444444444444,
                            "#bd3786"
                          ],
                          [
                            0.5555555555555556,
                            "#d8576b"
                          ],
                          [
                            0.6666666666666666,
                            "#ed7953"
                          ],
                          [
                            0.7777777777777778,
                            "#fb9f3a"
                          ],
                          [
                            0.8888888888888888,
                            "#fdca26"
                          ],
                          [
                            1,
                            "#f0f921"
                          ]
                        ],
                        "type": "histogram2d"
                      }
                    ],
                    "histogram": [
                      {
                        "marker": {
                          "pattern": {
                            "fillmode": "overlay",
                            "size": 10,
                            "solidity": 0.2
                          }
                        },
                        "type": "histogram"
                      }
                    ],
                    "mesh3d": [
                      {
                        "colorbar": {
                          "outlinewidth": 0,
                          "ticks": ""
                        },
                        "type": "mesh3d"
                      }
                    ],
                    "parcoords": [
                      {
                        "line": {
                          "colorbar": {
                            "outlinewidth": 0,
                            "ticks": ""
                          }
                        },
                        "type": "parcoords"
                      }
                    ],
                    "pie": [
                      {
                        "automargin": true,
                        "type": "pie"
                      }
                    ],
                    "scatter3d": [
                      {
                        "line": {
                          "colorbar": {
                            "outlinewidth": 0,
                            "ticks": ""
                          }
                        },
                        "marker": {
                          "colorbar": {
                            "outlinewidth": 0,
                            "ticks": ""
                          }
                        },
                        "type": "scatter3d"
                      }
                    ],
                    "scattercarpet": [
                      {
                        "marker": {
                          "colorbar": {
                            "outlinewidth": 0,
                            "ticks": ""
                          }
                        },
                        "type": "scattercarpet"
                      }
                    ],
                    "scattergeo": [
                      {
                        "marker": {
                          "colorbar": {
                            "outlinewidth": 0,
                            "ticks": ""
                          }
                        },
                        "type": "scattergeo"
                      }
                    ],
                    "scattergl": [
                      {
                        "marker": {
                          "colorbar": {
                            "outlinewidth": 0,
                            "ticks": ""
                          }
                        },
                        "type": "scattergl"
                      }
                    ],
                    "scattermapbox": [
                      {
                        "marker": {
                          "colorbar": {
                            "outlinewidth": 0,
                            "ticks": ""
                          }
                        },
                        "type": "scattermapbox"
                      }
                    ],
                    "scatterpolargl": [
                      {
                        "marker": {
                          "colorbar": {
                            "outlinewidth": 0,
                            "ticks": ""
                          }
                        },
                        "type": "scatterpolargl"
                      }
                    ],
                    "scatterpolar": [
                      {
                        "marker": {
                          "colorbar": {
                            "outlinewidth": 0,
                            "ticks": ""
                          }
                        },
                        "type": "scatterpolar"
                      }
                    ],
                    "scatter": [
                      {
                        "fillpattern": {
                          "fillmode": "overlay",
                          "size": 10,
                          "solidity": 0.2
                        },
                        "type": "scatter"
                      }
                    ],
                    "scatterternary": [
                      {
                        "marker": {
                          "colorbar": {
                            "outlinewidth": 0,
                            "ticks": ""
                          }
                        },
                        "type": "scatterternary"
                      }
                    ],
                    "surface": [
                      {
                        "colorbar": {
                          "outlinewidth": 0,
                          "ticks": ""
                        },
                        "colorscale": [
                          [
                            0,
                            "#0d0887"
                          ],
                          [
                            0.1111111111111111,
                            "#46039f"
                          ],
                          [
                            0.2222222222222222,
                            "#7201a8"
                          ],
                          [
                            0.3333333333333333,
                            "#9c179e"
                          ],
                          [
                            0.4444444444444444,
                            "#bd3786"
                          ],
                          [
                            0.5555555555555556,
                            "#d8576b"
                          ],
                          [
                            0.6666666666666666,
                            "#ed7953"
                          ],
                          [
                            0.7777777777777778,
                            "#fb9f3a"
                          ],
                          [
                            0.8888888888888888,
                            "#fdca26"
                          ],
                          [
                            1,
                            "#f0f921"
                          ]
                        ],
                        "type": "surface"
                      }
                    ],
                    "table": [
                      {
                        "cells": {
                          "fill": {
                            "color": "#EBF0F8"
                          },
                          "line": {
                            "color": "white"
                          }
                        },
                        "header": {
                          "fill": {
                            "color": "#C8D4E3"
                          },
                          "line": {
                            "color": "white"
                          }
                        },
                        "type": "table"
                      }
                    ]
                  },
                  "layout": {
                    "annotationdefaults": {
                      "arrowcolor": "#2a3f5f",
                      "arrowhead": 0,
                      "arrowwidth": 1
                    },
                    "autotypenumbers": "strict",
                    "coloraxis": {
                      "colorbar": {
                        "outlinewidth": 0,
                        "ticks": ""
                      }
                    },
                    "colorscale": {
                      "diverging": [
                        [
                          0,
                          "#8e0152"
                        ],
                        [
                          0.1,
                          "#c51b7d"
                        ],
                        [
                          0.2,
                          "#de77ae"
                        ],
                        [
                          0.3,
                          "#f1b6da"
                        ],
                        [
                          0.4,
                          "#fde0ef"
                        ],
                        [
                          0.5,
                          "#f7f7f7"
                        ],
                        [
                          0.6,
                          "#e6f5d0"
                        ],
                        [
                          0.7,
                          "#b8e186"
                        ],
                        [
                          0.8,
                          "#7fbc41"
                        ],
                        [
                          0.9,
                          "#4d9221"
                        ],
                        [
                          1,
                          "#276419"
                        ]
                      ],
                      "sequential": [
                        [
                          0,
                          "#0d0887"
                        ],
                        [
                          0.1111111111111111,
                          "#46039f"
                        ],
                        [
                          0.2222222222222222,
                          "#7201a8"
                        ],
                        [
                          0.3333333333333333,
                          "#9c179e"
                        ],
                        [
                          0.4444444444444444,
                          "#bd3786"
                        ],
                        [
                          0.5555555555555556,
                          "#d8576b"
                        ],
                        [
                          0.6666666666666666,
                          "#ed7953"
                        ],
                        [
                          0.7777777777777778,
                          "#fb9f3a"
                        ],
                        [
                          0.8888888888888888,
                          "#fdca26"
                        ],
                        [
                          1,
                          "#f0f921"
                        ]
                      ],
                      "sequentialminus": [
                        [
                          0,
                          "#0d0887"
                        ],
                        [
                          0.1111111111111111,
                          "#46039f"
                        ],
                        [
                          0.2222222222222222,
                          "#7201a8"
                        ],
                        [
                          0.3333333333333333,
                          "#9c179e"
                        ],
                        [
                          0.4444444444444444,
                          "#bd3786"
                        ],
                        [
                          0.5555555555555556,
                          "#d8576b"
                        ],
                        [
                          0.6666666666666666,
                          "#ed7953"
                        ],
                        [
                          0.7777777777777778,
                          "#fb9f3a"
                        ],
                        [
                          0.8888888888888888,
                          "#fdca26"
                        ],
                        [
                          1,
                          "#f0f921"
                        ]
                      ]
                    },
                    "colorway": [
                      "#636efa",
                      "#EF553B",
                      "#00cc96",
                      "#ab63fa",
                      "#FFA15A",
                      "#19d3f3",
                      "#FF6692",
                      "#B6E880",
                      "#FF97FF",
                      "#FECB52"
                    ],
                    "font": {
                      "color": "#2a3f5f"
                    },
                    "geo": {
                      "bgcolor": "white",
                      "lakecolor": "white",
                      "landcolor": "#E5ECF6",
                      "showlakes": true,
                      "showland": true,
                      "subunitcolor": "white"
                    },
                    "hoverlabel": {
                      "align": "left"
                    },
                    "hovermode": "closest",
                    "mapbox": {
                      "style": "light"
                    },
                    "paper_bgcolor": "white",
                    "plot_bgcolor": "#E5ECF6",
                    "polar": {
                      "angularaxis": {
                        "gridcolor": "white",
                        "linecolor": "white",
                        "ticks": ""
                      },
                      "bgcolor": "#E5ECF6",
                      "radialaxis": {
                        "gridcolor": "white",
                        "linecolor": "white",
                        "ticks": ""
                      }
                    },
                    "scene": {
                      "xaxis": {
                        "backgroundcolor": "#E5ECF6",
                        "gridcolor": "white",
                        "gridwidth": 2,
                        "linecolor": "white",
                        "showbackground": true,
                        "ticks": "",
                        "zerolinecolor": "white"
                      },
                      "yaxis": {
                        "backgroundcolor": "#E5ECF6",
                        "gridcolor": "white",
                        "gridwidth": 2,
                        "linecolor": "white",
                        "showbackground": true,
                        "ticks": "",
                        "zerolinecolor": "white"
                      },
                      "zaxis": {
                        "backgroundcolor": "#E5ECF6",
                        "gridcolor": "white",
                        "gridwidth": 2,
                        "linecolor": "white",
                        "showbackground": true,
                        "ticks": "",
                        "zerolinecolor": "white"
                      }
                    },
                    "shapedefaults": {
                      "line": {
                        "color": "#2a3f5f"
                      }
                    },
                    "ternary": {
                      "aaxis": {
                        "gridcolor": "white",
                        "linecolor": "white",
                        "ticks": ""
                      },
                      "baxis": {
                        "gridcolor": "white",
                        "linecolor": "white",
                        "ticks": ""
                      },
                      "bgcolor": "#E5ECF6",
                      "caxis": {
                        "gridcolor": "white",
                        "linecolor": "white",
                        "ticks": ""
                      }
                    },
                    "title": {
                      "x": 0.05
                    },
                    "xaxis": {
                      "automargin": true,
                      "gridcolor": "white",
                      "linecolor": "white",
                      "ticks": "",
                      "title": {
                        "standoff": 15
                      },
                      "zerolinecolor": "white",
                      "zerolinewidth": 2
                    },
                    "yaxis": {
                      "automargin": true,
                      "gridcolor": "white",
                      "linecolor": "white",
                      "ticks": "",
                      "title": {
                        "standoff": 15
                      },
                      "zerolinecolor": "white",
                      "zerolinewidth": 2
                    }
                  }
                },
                "title": {
                  "text": "Ratings1 and Ratings2 of 2009"
                },
                "xaxis2": {
                  "anchor": "y2",
                  "domain": [
                    0.6,
                    0.95
                  ]
                },
                "yaxis2": {
                  "anchor": "x2",
                  "domain": [
                    0.6,
                    0.95
                  ]
                }
              },
              "config": {
                "showLink": false,
                "linkText": "Export to plot.ly",
                "plotlyServerURL": "https://plot.ly"
              }
            },
            "text/html": [
              "<div>                            <div id=\"b956b3a9-06ff-40ed-b6ee-2d25e0be0db4\" class=\"plotly-graph-div\" style=\"height:525px; width:100%;\"></div>            <script type=\"text/javascript\">                require([\"plotly\"], function(Plotly) {                    window.PLOTLYENV=window.PLOTLYENV || {};                                    if (document.getElementById(\"b956b3a9-06ff-40ed-b6ee-2d25e0be0db4\")) {                    Plotly.newPlot(                        \"b956b3a9-06ff-40ed-b6ee-2d25e0be0db4\",                        [{\"marker\":{\"color\":\"rgb(12, 12, 140)\"},\"name\":\"Rating1\",\"y\":[10492,10235,15291,6646,12666,2098,19917,11293,19338,23594,5169,17815,4586,8632,2345,16941,2186,1599,4863,10045,3934,2588,1516,4096,7314,1114,3479,2295,4169,1552,6673,1334,3201,1736,2390,3040,1146,5238,4381,972,5722,2908,10085,1471,2951,1272,1285,3590,1644,1705,1691,1151,2390,426,1117,1490,743,863,747,641,849,4845,498,1771,1042,653,925,97,4195,322,1136,2212,633,1115,1301,3935,2589,1006,3410,1534,235,497,1003,4754,578,411,925,1319,2202,1859,807,585,2881,1626,1234,568,1222,481,707,618,547,509,963,318,1134,2063,492,1584,794,872,1325,1025,1581,1462,521,580,872,1565,950,355,2892,1041,440,1426,317,130,814,1304,1258,688,264,956,1098,418,3057,285,1202,1199,246,1028,658,168,1155,783,735,881,1742,452,166,1167,381,405,397,405,195,1366,282,484,1072,227,251,158,465,1474,732,470,1083,405,295,647,1063,1030,1302,509,170,842,1769,797,808,1161,566,1737,243,612,880,3121,839,441,255,393,202,230,1294,533,263,991,184,247,547,108,395,249,145,204,291,118,63,444,216,153,295,145,716,502,412,952,173,96,425,189,373,248,508,266,305,1693,580,269,1192,1015,176,509,589,436,487,190,822,1082,150,532,126,343,101,1325,1199,48,421,444,580,239,602,252,707,325,605,536,142,200,533,743,552,137,353,188,552,443,362,288,456,118,214,460,365,343,298,370,411,380,758,350,201,358,89,325,579,402,112,88,169,151,105,200,133,296,732,138,252,127,182,195,187,124,335,143,374,758,278,249,430,156,177,1135,659,130,169,154,142,217,213,331,111,243,57,49,161,117,184,73,396,196,346,218,277,206,151,47,1197,73,117,165,213,1085,46,98,196,225,103,556,124,341,123,203,708,115,44,94,188,147,150,203,452,263,309,155,255,394,197,188,221,230,134,229,225,542,171,159,188,60,176,179,311,173,176,177,125,122,153,136,124,1618,526,597,533,99,148,83,219,541,605,255,75,142,313,425,256,238,197,656,63,207,114,53,31,342,160,160,531,125,50,290,101,350,229,52,212,250,221,324,168,118,32,110],\"type\":\"scatter\"},{\"marker\":{\"color\":\"rgb(12, 128, 128)\"},\"name\":\"Rating2\",\"xaxis\":\"x2\",\"y\":[48030,25117,43370,17351,34896,6501,43525,40545,33543,41578,17975,35108,9249,21291,9368,29301,6182,6071,12998,21851,9901,7073,3182,11094,21317,6415,9323,7115,10788,6027,9916,5638,4369,4571,6020,4242,2178,6858,11562,2139,16486,7650,17255,5253,7571,4403,2812,9682,4957,4602,4157,3775,5689,1486,4118,3986,2970,2603,1162,2021,1260,13797,1841,5200,5940,1512,1306,364,10812,1337,3036,4654,1054,2652,3531,9508,4520,3019,8196,6166,925,1335,4409,9003,3242,1270,2256,3966,4330,4274,2719,3334,6122,4221,1342,1415,3669,1554,1733,1784,1084,2927,2575,533,2113,5938,1101,2869,1689,1112,2014,2229,4238,2887,772,2026,2179,2646,1559,1490,5695,3900,1356,2577,1708,425,1801,2120,2194,2024,624,2760,2334,1813,5863,426,3495,1989,681,2275,3504,451,2740,2782,1012,1839,2648,1381,961,4361,1805,909,1577,1962,1144,2415,1164,2859,2853,799,1536,678,1926,5324,2560,847,2985,975,1227,1208,2329,2217,2052,907,706,2356,5123,2965,2757,2509,3027,3266,1079,2047,1378,4811,3379,1408,826,1275,1107,829,2972,1575,1052,3246,837,1035,1014,447,1837,759,764,804,998,373,406,651,826,391,1064,684,1673,1362,847,2377,279,313,1098,589,956,804,1148,690,1070,2996,1708,1086,3587,2807,388,847,1194,1243,804,486,3074,2601,808,1570,678,734,313,3195,2553,191,1854,799,1571,768,1829,861,1907,1049,1780,1405,824,713,1162,1625,935,766,1263,922,1532,1217,1485,803,947,549,573,1128,1053,775,1025,1428,1225,858,1549,689,607,824,310,427,1766,1108,461,320,1098,358,604,881,645,618,1678,658,1296,613,608,446,824,401,1074,744,606,1719,586,296,907,917,810,2946,1226,566,1002,446,306,960,714,1027,493,1002,204,295,704,403,415,237,1259,725,734,815,707,331,625,214,944,356,375,659,525,1846,200,617,588,964,378,1068,567,1244,506,789,1854,634,242,384,689,476,655,382,1951,1237,1288,458,1109,1016,1014,585,958,779,522,523,973,1889,673,530,581,316,359,903,771,679,439,435,468,586,539,303,479,1188,1115,1296,1336,363,764,266,385,1287,1289,843,167,530,958,1067,1282,422,864,1264,267,667,202,349,231,1322,944,571,1182,368,214,902,259,776,369,248,408,1413,583,1143,390,655,152,289],\"yaxis\":\"y2\",\"type\":\"scatter\"}],                        {\"template\":{\"data\":{\"barpolar\":[{\"marker\":{\"line\":{\"color\":\"#E5ECF6\",\"width\":0.5},\"pattern\":{\"fillmode\":\"overlay\",\"size\":10,\"solidity\":0.2}},\"type\":\"barpolar\"}],\"bar\":[{\"error_x\":{\"color\":\"#2a3f5f\"},\"error_y\":{\"color\":\"#2a3f5f\"},\"marker\":{\"line\":{\"color\":\"#E5ECF6\",\"width\":0.5},\"pattern\":{\"fillmode\":\"overlay\",\"size\":10,\"solidity\":0.2}},\"type\":\"bar\"}],\"carpet\":[{\"aaxis\":{\"endlinecolor\":\"#2a3f5f\",\"gridcolor\":\"white\",\"linecolor\":\"white\",\"minorgridcolor\":\"white\",\"startlinecolor\":\"#2a3f5f\"},\"baxis\":{\"endlinecolor\":\"#2a3f5f\",\"gridcolor\":\"white\",\"linecolor\":\"white\",\"minorgridcolor\":\"white\",\"startlinecolor\":\"#2a3f5f\"},\"type\":\"carpet\"}],\"choropleth\":[{\"colorbar\":{\"outlinewidth\":0,\"ticks\":\"\"},\"type\":\"choropleth\"}],\"contourcarpet\":[{\"colorbar\":{\"outlinewidth\":0,\"ticks\":\"\"},\"type\":\"contourcarpet\"}],\"contour\":[{\"colorbar\":{\"outlinewidth\":0,\"ticks\":\"\"},\"colorscale\":[[0.0,\"#0d0887\"],[0.1111111111111111,\"#46039f\"],[0.2222222222222222,\"#7201a8\"],[0.3333333333333333,\"#9c179e\"],[0.4444444444444444,\"#bd3786\"],[0.5555555555555556,\"#d8576b\"],[0.6666666666666666,\"#ed7953\"],[0.7777777777777778,\"#fb9f3a\"],[0.8888888888888888,\"#fdca26\"],[1.0,\"#f0f921\"]],\"type\":\"contour\"}],\"heatmapgl\":[{\"colorbar\":{\"outlinewidth\":0,\"ticks\":\"\"},\"colorscale\":[[0.0,\"#0d0887\"],[0.1111111111111111,\"#46039f\"],[0.2222222222222222,\"#7201a8\"],[0.3333333333333333,\"#9c179e\"],[0.4444444444444444,\"#bd3786\"],[0.5555555555555556,\"#d8576b\"],[0.6666666666666666,\"#ed7953\"],[0.7777777777777778,\"#fb9f3a\"],[0.8888888888888888,\"#fdca26\"],[1.0,\"#f0f921\"]],\"type\":\"heatmapgl\"}],\"heatmap\":[{\"colorbar\":{\"outlinewidth\":0,\"ticks\":\"\"},\"colorscale\":[[0.0,\"#0d0887\"],[0.1111111111111111,\"#46039f\"],[0.2222222222222222,\"#7201a8\"],[0.3333333333333333,\"#9c179e\"],[0.4444444444444444,\"#bd3786\"],[0.5555555555555556,\"#d8576b\"],[0.6666666666666666,\"#ed7953\"],[0.7777777777777778,\"#fb9f3a\"],[0.8888888888888888,\"#fdca26\"],[1.0,\"#f0f921\"]],\"type\":\"heatmap\"}],\"histogram2dcontour\":[{\"colorbar\":{\"outlinewidth\":0,\"ticks\":\"\"},\"colorscale\":[[0.0,\"#0d0887\"],[0.1111111111111111,\"#46039f\"],[0.2222222222222222,\"#7201a8\"],[0.3333333333333333,\"#9c179e\"],[0.4444444444444444,\"#bd3786\"],[0.5555555555555556,\"#d8576b\"],[0.6666666666666666,\"#ed7953\"],[0.7777777777777778,\"#fb9f3a\"],[0.8888888888888888,\"#fdca26\"],[1.0,\"#f0f921\"]],\"type\":\"histogram2dcontour\"}],\"histogram2d\":[{\"colorbar\":{\"outlinewidth\":0,\"ticks\":\"\"},\"colorscale\":[[0.0,\"#0d0887\"],[0.1111111111111111,\"#46039f\"],[0.2222222222222222,\"#7201a8\"],[0.3333333333333333,\"#9c179e\"],[0.4444444444444444,\"#bd3786\"],[0.5555555555555556,\"#d8576b\"],[0.6666666666666666,\"#ed7953\"],[0.7777777777777778,\"#fb9f3a\"],[0.8888888888888888,\"#fdca26\"],[1.0,\"#f0f921\"]],\"type\":\"histogram2d\"}],\"histogram\":[{\"marker\":{\"pattern\":{\"fillmode\":\"overlay\",\"size\":10,\"solidity\":0.2}},\"type\":\"histogram\"}],\"mesh3d\":[{\"colorbar\":{\"outlinewidth\":0,\"ticks\":\"\"},\"type\":\"mesh3d\"}],\"parcoords\":[{\"line\":{\"colorbar\":{\"outlinewidth\":0,\"ticks\":\"\"}},\"type\":\"parcoords\"}],\"pie\":[{\"automargin\":true,\"type\":\"pie\"}],\"scatter3d\":[{\"line\":{\"colorbar\":{\"outlinewidth\":0,\"ticks\":\"\"}},\"marker\":{\"colorbar\":{\"outlinewidth\":0,\"ticks\":\"\"}},\"type\":\"scatter3d\"}],\"scattercarpet\":[{\"marker\":{\"colorbar\":{\"outlinewidth\":0,\"ticks\":\"\"}},\"type\":\"scattercarpet\"}],\"scattergeo\":[{\"marker\":{\"colorbar\":{\"outlinewidth\":0,\"ticks\":\"\"}},\"type\":\"scattergeo\"}],\"scattergl\":[{\"marker\":{\"colorbar\":{\"outlinewidth\":0,\"ticks\":\"\"}},\"type\":\"scattergl\"}],\"scattermapbox\":[{\"marker\":{\"colorbar\":{\"outlinewidth\":0,\"ticks\":\"\"}},\"type\":\"scattermapbox\"}],\"scatterpolargl\":[{\"marker\":{\"colorbar\":{\"outlinewidth\":0,\"ticks\":\"\"}},\"type\":\"scatterpolargl\"}],\"scatterpolar\":[{\"marker\":{\"colorbar\":{\"outlinewidth\":0,\"ticks\":\"\"}},\"type\":\"scatterpolar\"}],\"scatter\":[{\"fillpattern\":{\"fillmode\":\"overlay\",\"size\":10,\"solidity\":0.2},\"type\":\"scatter\"}],\"scatterternary\":[{\"marker\":{\"colorbar\":{\"outlinewidth\":0,\"ticks\":\"\"}},\"type\":\"scatterternary\"}],\"surface\":[{\"colorbar\":{\"outlinewidth\":0,\"ticks\":\"\"},\"colorscale\":[[0.0,\"#0d0887\"],[0.1111111111111111,\"#46039f\"],[0.2222222222222222,\"#7201a8\"],[0.3333333333333333,\"#9c179e\"],[0.4444444444444444,\"#bd3786\"],[0.5555555555555556,\"#d8576b\"],[0.6666666666666666,\"#ed7953\"],[0.7777777777777778,\"#fb9f3a\"],[0.8888888888888888,\"#fdca26\"],[1.0,\"#f0f921\"]],\"type\":\"surface\"}],\"table\":[{\"cells\":{\"fill\":{\"color\":\"#EBF0F8\"},\"line\":{\"color\":\"white\"}},\"header\":{\"fill\":{\"color\":\"#C8D4E3\"},\"line\":{\"color\":\"white\"}},\"type\":\"table\"}]},\"layout\":{\"annotationdefaults\":{\"arrowcolor\":\"#2a3f5f\",\"arrowhead\":0,\"arrowwidth\":1},\"autotypenumbers\":\"strict\",\"coloraxis\":{\"colorbar\":{\"outlinewidth\":0,\"ticks\":\"\"}},\"colorscale\":{\"diverging\":[[0,\"#8e0152\"],[0.1,\"#c51b7d\"],[0.2,\"#de77ae\"],[0.3,\"#f1b6da\"],[0.4,\"#fde0ef\"],[0.5,\"#f7f7f7\"],[0.6,\"#e6f5d0\"],[0.7,\"#b8e186\"],[0.8,\"#7fbc41\"],[0.9,\"#4d9221\"],[1,\"#276419\"]],\"sequential\":[[0.0,\"#0d0887\"],[0.1111111111111111,\"#46039f\"],[0.2222222222222222,\"#7201a8\"],[0.3333333333333333,\"#9c179e\"],[0.4444444444444444,\"#bd3786\"],[0.5555555555555556,\"#d8576b\"],[0.6666666666666666,\"#ed7953\"],[0.7777777777777778,\"#fb9f3a\"],[0.8888888888888888,\"#fdca26\"],[1.0,\"#f0f921\"]],\"sequentialminus\":[[0.0,\"#0d0887\"],[0.1111111111111111,\"#46039f\"],[0.2222222222222222,\"#7201a8\"],[0.3333333333333333,\"#9c179e\"],[0.4444444444444444,\"#bd3786\"],[0.5555555555555556,\"#d8576b\"],[0.6666666666666666,\"#ed7953\"],[0.7777777777777778,\"#fb9f3a\"],[0.8888888888888888,\"#fdca26\"],[1.0,\"#f0f921\"]]},\"colorway\":[\"#636efa\",\"#EF553B\",\"#00cc96\",\"#ab63fa\",\"#FFA15A\",\"#19d3f3\",\"#FF6692\",\"#B6E880\",\"#FF97FF\",\"#FECB52\"],\"font\":{\"color\":\"#2a3f5f\"},\"geo\":{\"bgcolor\":\"white\",\"lakecolor\":\"white\",\"landcolor\":\"#E5ECF6\",\"showlakes\":true,\"showland\":true,\"subunitcolor\":\"white\"},\"hoverlabel\":{\"align\":\"left\"},\"hovermode\":\"closest\",\"mapbox\":{\"style\":\"light\"},\"paper_bgcolor\":\"white\",\"plot_bgcolor\":\"#E5ECF6\",\"polar\":{\"angularaxis\":{\"gridcolor\":\"white\",\"linecolor\":\"white\",\"ticks\":\"\"},\"bgcolor\":\"#E5ECF6\",\"radialaxis\":{\"gridcolor\":\"white\",\"linecolor\":\"white\",\"ticks\":\"\"}},\"scene\":{\"xaxis\":{\"backgroundcolor\":\"#E5ECF6\",\"gridcolor\":\"white\",\"gridwidth\":2,\"linecolor\":\"white\",\"showbackground\":true,\"ticks\":\"\",\"zerolinecolor\":\"white\"},\"yaxis\":{\"backgroundcolor\":\"#E5ECF6\",\"gridcolor\":\"white\",\"gridwidth\":2,\"linecolor\":\"white\",\"showbackground\":true,\"ticks\":\"\",\"zerolinecolor\":\"white\"},\"zaxis\":{\"backgroundcolor\":\"#E5ECF6\",\"gridcolor\":\"white\",\"gridwidth\":2,\"linecolor\":\"white\",\"showbackground\":true,\"ticks\":\"\",\"zerolinecolor\":\"white\"}},\"shapedefaults\":{\"line\":{\"color\":\"#2a3f5f\"}},\"ternary\":{\"aaxis\":{\"gridcolor\":\"white\",\"linecolor\":\"white\",\"ticks\":\"\"},\"baxis\":{\"gridcolor\":\"white\",\"linecolor\":\"white\",\"ticks\":\"\"},\"bgcolor\":\"#E5ECF6\",\"caxis\":{\"gridcolor\":\"white\",\"linecolor\":\"white\",\"ticks\":\"\"}},\"title\":{\"x\":0.05},\"xaxis\":{\"automargin\":true,\"gridcolor\":\"white\",\"linecolor\":\"white\",\"ticks\":\"\",\"title\":{\"standoff\":15},\"zerolinecolor\":\"white\",\"zerolinewidth\":2},\"yaxis\":{\"automargin\":true,\"gridcolor\":\"white\",\"linecolor\":\"white\",\"ticks\":\"\",\"title\":{\"standoff\":15},\"zerolinecolor\":\"white\",\"zerolinewidth\":2}}},\"title\":{\"text\":\"Ratings1 and Ratings2 of 2009\"},\"xaxis2\":{\"anchor\":\"y2\",\"domain\":[0.6,0.95]},\"yaxis2\":{\"anchor\":\"x2\",\"domain\":[0.6,0.95]}},                        {\"responsive\": true}                    ).then(function(){\n",
              "                            \n",
              "var gd = document.getElementById('b956b3a9-06ff-40ed-b6ee-2d25e0be0db4');\n",
              "var x = new MutationObserver(function (mutations, observer) {{\n",
              "        var display = window.getComputedStyle(gd).display;\n",
              "        if (!display || display === 'none') {{\n",
              "            console.log([gd, 'removed!']);\n",
              "            Plotly.purge(gd);\n",
              "            observer.disconnect();\n",
              "        }}\n",
              "}});\n",
              "\n",
              "// Listen for the removal of the full notebook cells\n",
              "var notebookContainer = gd.closest('#notebook-container');\n",
              "if (notebookContainer) {{\n",
              "    x.observe(notebookContainer, {childList: true});\n",
              "}}\n",
              "\n",
              "// Listen for the clearing of the current output cell\n",
              "var outputEl = gd.closest('.output');\n",
              "if (outputEl) {{\n",
              "    x.observe(outputEl, {childList: true});\n",
              "}}\n",
              "\n",
              "                        })                };                });            </script>        </div>"
            ]
          },
          "metadata": {}
        }
      ]
    },
    {
      "metadata": {
        "trusted": true,
        "id": "tHfnkyns6pz0"
      },
      "cell_type": "code",
      "source": [
        "books2= books.drop(columns=['work_id','id','book_id','best_book_id','best_book_id','isbn13','original_publication_year',\"image_url\",\"small_image_url\"])"
      ],
      "execution_count": 25,
      "outputs": []
    },
    {
      "metadata": {
        "trusted": true,
        "colab": {
          "base_uri": "https://localhost:8080/"
        },
        "id": "Di1IcqCY6pz0",
        "outputId": "7abe3351-58bb-4af2-d3bc-916edc5eb3f4"
      },
      "cell_type": "code",
      "source": [
        "books2_numeric = books2.select_dtypes(include=np.number)  # Select only numeric columns\n",
        "correlation_matrix = books2_numeric.corr()\n",
        "print(correlation_matrix)"
      ],
      "execution_count": 30,
      "outputs": [
        {
          "output_type": "stream",
          "name": "stdout",
          "text": [
            "                         books_count  average_rating  ratings_count  \\\n",
            "books_count                 1.000000       -0.069888       0.324235   \n",
            "average_rating             -0.069888        1.000000       0.044990   \n",
            "ratings_count               0.324235        0.044990       1.000000   \n",
            "work_ratings_count          0.333664        0.045042       0.995068   \n",
            "work_text_reviews_count     0.198698        0.007481       0.779635   \n",
            "ratings_1                   0.225763       -0.077997       0.723144   \n",
            "ratings_2                   0.334923       -0.115875       0.845949   \n",
            "ratings_3                   0.383699       -0.065237       0.935193   \n",
            "ratings_4                   0.349564        0.036108       0.978869   \n",
            "ratings_5                   0.279559        0.115412       0.964046   \n",
            "\n",
            "                         work_ratings_count  work_text_reviews_count  \\\n",
            "books_count                        0.333664                 0.198698   \n",
            "average_rating                     0.045042                 0.007481   \n",
            "ratings_count                      0.995068                 0.779635   \n",
            "work_ratings_count                 1.000000                 0.807009   \n",
            "work_text_reviews_count            0.807009                 1.000000   \n",
            "ratings_1                          0.718718                 0.572007   \n",
            "ratings_2                          0.848581                 0.696880   \n",
            "ratings_3                          0.941182                 0.762214   \n",
            "ratings_4                          0.987764                 0.817826   \n",
            "ratings_5                          0.966587                 0.764940   \n",
            "\n",
            "                         ratings_1  ratings_2  ratings_3  ratings_4  ratings_5  \n",
            "books_count               0.225763   0.334923   0.383699   0.349564   0.279559  \n",
            "average_rating           -0.077997  -0.115875  -0.065237   0.036108   0.115412  \n",
            "ratings_count             0.723144   0.845949   0.935193   0.978869   0.964046  \n",
            "work_ratings_count        0.718718   0.848581   0.941182   0.987764   0.966587  \n",
            "work_text_reviews_count   0.572007   0.696880   0.762214   0.817826   0.764940  \n",
            "ratings_1                 1.000000   0.926140   0.795364   0.672986   0.597231  \n",
            "ratings_2                 0.926140   1.000000   0.949596   0.838298   0.705747  \n",
            "ratings_3                 0.795364   0.949596   1.000000   0.952998   0.825550  \n",
            "ratings_4                 0.672986   0.838298   0.952998   1.000000   0.933785  \n",
            "ratings_5                 0.597231   0.705747   0.825550   0.933785   1.000000  \n"
          ]
        }
      ]
    },
    {
      "metadata": {
        "trusted": true,
        "colab": {
          "base_uri": "https://localhost:8080/",
          "height": 709
        },
        "id": "1cp6ZEsN6pz0",
        "outputId": "f3d967b9-1a41-43a6-ee35-64301d6d4849"
      },
      "cell_type": "code",
      "source": [
        "f,ax = plt.subplots(figsize=(7,7))\n",
        "# Select only numeric features for correlation\n",
        "numeric_books2 = books2.select_dtypes(include=np.number)\n",
        "sns.heatmap(numeric_books2.corr(), annot=True, linewidths=0.6,linecolor=\"red\", fmt= '.1f',ax=ax)\n",
        "plt.show()"
      ],
      "execution_count": 31,
      "outputs": [
        {
          "output_type": "display_data",
          "data": {
            "text/plain": [
              "<Figure size 700x700 with 2 Axes>"
            ],
            "image/png": "[encoded data removed]"
          },
          "metadata": {}
        }
      ]
    },
    {
      "metadata": {
        "trusted": true,
        "colab": {
          "base_uri": "https://localhost:8080/",
          "height": 522
        },
        "id": "plNbSQnG6pz1",
        "outputId": "650c39fa-04d6-4ca0-8924-1d69c6536034"
      },
      "cell_type": "code",
      "source": [
        "from scipy import stats\n",
        "import seaborn as sns\n",
        "import matplotlib.pyplot as plt\n",
        "\n",
        "data_new = pd.DataFrame({'ratings1': ratings1, 'ratings2': ratings2})\n",
        "# Pass data as a DataFrame and specify x and y columns\n",
        "g = sns.jointplot(x='ratings1', y='ratings2', data=data_new, kind=\"kde\", height=5)\n",
        "g.plot_joint(sns.kdeplot, color=\"r\", zorder=0, levels=6)\n",
        "g.plot_marginals(sns.rugplot, color=\"r\", height=-.15, clip_on=False)\n",
        "\n",
        "# Calculate Pearson correlation coefficient and p-value\n",
        "pearson_r, p_value = stats.pearsonr(data_new['ratings1'], data_new['ratings2'])\n",
        "\n",
        "# Annotate the plot with the correlation coefficient and p-value\n",
        "g.ax_joint.text(0.5, 0.9, f'Pearson r: {pearson_r:.2f}, p-value: {p_value:.3f}',\n",
        "                transform=g.ax_joint.transAxes, ha='center', va='center')\n",
        "\n",
        "plt.show()"
      ],
      "execution_count": 34,
      "outputs": [
        {
          "output_type": "display_data",
          "data": {
            "text/plain": [
              "<Figure size 500x500 with 3 Axes>"
            ],
            "image/png": "[encoded data removed]"
          },
          "metadata": {}
        }
      ]
    },
    {
      "metadata": {
        "id": "6OlgXvCc6pz1"
      },
      "cell_type": "markdown",
      "source": [
        "- **Correlation coefficient** is a statistical method used to determine the direction and severity of relationship between two numerical measurements which have a linear relationship.\n",
        "\n",
        "-If the data is normally distributed,** Pearson correlation coefficient** is preferred but if it is not, **Spearman rank correlation coefficient ** is preferred.\n",
        "-In order to interpret a correlation coefficient, p value should be less than 0.05.\n",
        "\n",
        "- **Pearson correlation coefficient (r)**\n",
        "- r <0.2 very weak relationship or no correlation\n",
        "- 0.2<r<0.4 poor correlation between\n",
        "- 0.4<r<0.6 moderate correlation between\n",
        "- 0.6<r<0.8 high correlation between\n",
        "- r>0.8 is interpreted to be very high correlation.\n",
        "\n",
        "-If the correlation coefficient is negative,there is an inverse proportion between the two variables,that means when the value of one variable increases, the other decreases. If the correlation coefficient is positive, when the value of one variable increases, the other increases as well."
      ]
    },
    {
      "metadata": {
        "trusted": true,
        "colab": {
          "base_uri": "https://localhost:8080/",
          "height": 506
        },
        "id": "oAZ8b0QJ6pz1",
        "outputId": "06e2dbb2-15ad-4732-9bf6-f83dcf38fdee"
      },
      "cell_type": "code",
      "source": [
        "sns.lmplot(x=\"ratings_3\", y=\"work_ratings_count\", data=books2)\n",
        "plt.show()"
      ],
      "execution_count": 35,
      "outputs": [
        {
          "output_type": "display_data",
          "data": {
            "text/plain": [
              "<Figure size 500x500 with 1 Axes>"
            ],
            "image/png": "[encoded data removed]"
          },
          "metadata": {}
        }
      ]
    },
    {
      "metadata": {
        "id": "1lZdWSPM6pz1"
      },
      "cell_type": "markdown",
      "source": [
        "# **Building Book Recommendation System**\n",
        "\n",
        "> Using pyspark"
      ]
    },
    {
      "metadata": {
        "trusted": true,
        "colab": {
          "base_uri": "https://localhost:8080/"
        },
        "id": "BV7wQxny6pz1",
        "outputId": "6c56199a-ce7e-4bcb-e7b7-1931036a5547"
      },
      "cell_type": "code",
      "source": [
        "pip install pyspark"
      ],
      "execution_count": 36,
      "outputs": [
        {
          "output_type": "stream",
          "name": "stdout",
          "text": [
            "Requirement already satisfied: pyspark in /usr/local/lib/python3.10/dist-packages (3.5.3)\n",
            "Requirement already satisfied: py4j==0.10.9.7 in /usr/local/lib/python3.10/dist-packages (from pyspark) (0.10.9.7)\n"
          ]
        }
      ]
    },
    {
      "metadata": {
        "trusted": true,
        "id": "qWdToPat6pz1"
      },
      "cell_type": "code",
      "source": [
        "import pyspark as ps\n",
        "from pyspark.sql import SQLContext,Row\n",
        "from pyspark.ml.evaluation import  RegressionEvaluator\n",
        "from pyspark.ml.tuning import CrossValidator,ParamGridBuilder\n",
        "from pyspark.ml import Pipeline\n",
        "from pyspark.ml.recommendation import ALS\n",
        "from pyspark.sql.functions import udf,col,when\n",
        "\n",
        "\n",
        "import numpy as np\n"
      ],
      "execution_count": 37,
      "outputs": []
    },
    {
      "metadata": {
        "trusted": true,
        "id": "0d5w299u6pz2"
      },
      "cell_type": "code",
      "source": [
        "spark = ps.sql.SparkSession.builder.master(\"local\")\\\n",
        "                                   .appName(\"BookRes\")\\\n",
        "                                   .getOrCreate()\n",
        "\n",
        "sc = spark.sparkContext\n",
        "sqlContext = SQLContext(sc)"
      ],
      "execution_count": 38,
      "outputs": []
    },
    {
      "metadata": {
        "trusted": true,
        "colab": {
          "base_uri": "https://localhost:8080/"
        },
        "id": "6U2YC0q76pz2",
        "outputId": "7fcb2ec3-cf13-4502-b04e-2d4f0bb20b76"
      },
      "cell_type": "code",
      "source": [
        "ratings_df  = spark.read.csv(\"ratings.csv\",header=True,inferSchema=True)\n",
        "ratings_df.printSchema()"
      ],
      "execution_count": 39,
      "outputs": [
        {
          "output_type": "stream",
          "name": "stdout",
          "text": [
            "root\n",
            " |-- book_id: integer (nullable = true)\n",
            " |-- user_id: integer (nullable = true)\n",
            " |-- rating: integer (nullable = true)\n",
            "\n"
          ]
        }
      ]
    },
    {
      "metadata": {
        "trusted": true,
        "colab": {
          "base_uri": "https://localhost:8080/"
        },
        "id": "0oKi4jWK6pz2",
        "outputId": "dedd50e7-9f92-4968-e10f-33efe366a5d2"
      },
      "cell_type": "code",
      "source": [
        "ratings_df.show(n=2)"
      ],
      "execution_count": 40,
      "outputs": [
        {
          "output_type": "stream",
          "name": "stdout",
          "text": [
            "+-------+-------+------+\n",
            "|book_id|user_id|rating|\n",
            "+-------+-------+------+\n",
            "|      1|    314|     5|\n",
            "|      1|    439|     3|\n",
            "+-------+-------+------+\n",
            "only showing top 2 rows\n",
            "\n"
          ]
        }
      ]
    },
    {
      "metadata": {
        "trusted": true,
        "colab": {
          "base_uri": "https://localhost:8080/"
        },
        "id": "2HGvJPBc6pz2",
        "outputId": "4c1ec8fc-9cca-475b-dac1-40d20f30bc35"
      },
      "cell_type": "code",
      "source": [
        "books_df  = spark.read.csv(\"books.csv\",header=True,inferSchema=True)\n",
        "books_df.printSchema()"
      ],
      "execution_count": 41,
      "outputs": [
        {
          "output_type": "stream",
          "name": "stdout",
          "text": [
            "root\n",
            " |-- id: integer (nullable = true)\n",
            " |-- book_id: integer (nullable = true)\n",
            " |-- best_book_id: integer (nullable = true)\n",
            " |-- work_id: integer (nullable = true)\n",
            " |-- books_count: integer (nullable = true)\n",
            " |-- isbn: string (nullable = true)\n",
            " |-- isbn13: double (nullable = true)\n",
            " |-- authors: string (nullable = true)\n",
            " |-- original_publication_year: double (nullable = true)\n",
            " |-- original_title: string (nullable = true)\n",
            " |-- title: string (nullable = true)\n",
            " |-- language_code: string (nullable = true)\n",
            " |-- average_rating: string (nullable = true)\n",
            " |-- ratings_count: string (nullable = true)\n",
            " |-- work_ratings_count: string (nullable = true)\n",
            " |-- work_text_reviews_count: string (nullable = true)\n",
            " |-- ratings_1: double (nullable = true)\n",
            " |-- ratings_2: integer (nullable = true)\n",
            " |-- ratings_3: integer (nullable = true)\n",
            " |-- ratings_4: integer (nullable = true)\n",
            " |-- ratings_5: integer (nullable = true)\n",
            " |-- image_url: string (nullable = true)\n",
            " |-- small_image_url: string (nullable = true)\n",
            "\n"
          ]
        }
      ]
    },
    {
      "metadata": {
        "trusted": true,
        "id": "FpAkiRGJ6pz3"
      },
      "cell_type": "code",
      "source": [
        "training_df,validation_df = ratings_df.randomSplit([.8,0.2])"
      ],
      "execution_count": 42,
      "outputs": []
    },
    {
      "metadata": {
        "trusted": true,
        "id": "S2Xr-RhE6pz3"
      },
      "cell_type": "code",
      "source": [
        "iterations = 10\n",
        "regularisation_para = 0.1\n",
        "rank=4\n",
        "errors = []\n",
        "err=0"
      ],
      "execution_count": 43,
      "outputs": []
    },
    {
      "metadata": {
        "trusted": true,
        "id": "LAP592Pe6pz3"
      },
      "cell_type": "code",
      "source": [
        "als  = ALS(maxIter=iterations,regParam=regularisation_para,rank=4,userCol=\"user_id\",itemCol=\"book_id\",ratingCol=\"rating\")\n",
        "model = als.fit(training_df)"
      ],
      "execution_count": 44,
      "outputs": []
    },
    {
      "metadata": {
        "id": "VgEsBdJg6pz3"
      },
      "cell_type": "markdown",
      "source": [
        "# Predictions And Evalution"
      ]
    },
    {
      "metadata": {
        "trusted": true,
        "colab": {
          "base_uri": "https://localhost:8080/"
        },
        "id": "8YsV1_RE6p0C",
        "outputId": "428fcb5e-d8fd-4cb1-8747-a7b7105c3214"
      },
      "cell_type": "code",
      "source": [
        "predictions = model.transform(validation_df)\n",
        "new_predictions = predictions.filter(col(\"prediction\")!= np.nan)\n",
        "evalutor = RegressionEvaluator(metricName=\"rmse\",labelCol=\"rating\",predictionCol=\"prediction\")\n",
        "\n",
        "rmse_score = evalutor.evaluate(new_predictions)\n",
        "print(\"Root Mean Square Error Value :\",str(rmse_score))"
      ],
      "execution_count": 45,
      "outputs": [
        {
          "output_type": "stream",
          "name": "stdout",
          "text": [
            "Root Mean Square Error Value : 0.8925806229554467\n"
          ]
        }
      ]
    },
    {
      "metadata": {
        "trusted": true,
        "colab": {
          "base_uri": "https://localhost:8080/"
        },
        "id": "8IySrEvq6p0C",
        "outputId": "570430a5-aa46-47fb-cc38-74ad933d52a4"
      },
      "cell_type": "code",
      "source": [
        "predictions.join(books_df,\"book_id\").select(\"user_id\",\"title\",\"prediction\").show(5)"
      ],
      "execution_count": 46,
      "outputs": [
        {
          "output_type": "stream",
          "name": "stdout",
          "text": [
            "+-------+--------------------+----------+\n",
            "|user_id|               title|prediction|\n",
            "+-------+--------------------+----------+\n",
            "|  32592|A Short History o...| 4.3337226|\n",
            "|  32592|The Lost Continen...| 3.7805266|\n",
            "|  32592|What to Expect th...|  4.297617|\n",
            "|  32592|The Lord of the R...| 3.8304772|\n",
            "|   6397| Tropic of Capricorn| 3.9821558|\n",
            "+-------+--------------------+----------+\n",
            "only showing top 5 rows\n",
            "\n"
          ]
        }
      ]
    },
    {
      "metadata": {
        "id": "OLjBXRc16p0C"
      },
      "cell_type": "markdown",
      "source": [
        "Testing A Single User with user_id = 35982"
      ]
    },
    {
      "metadata": {
        "trusted": true,
        "colab": {
          "base_uri": "https://localhost:8080/"
        },
        "id": "VjTGIUFd6p0C",
        "outputId": "0f7e21ec-6213-4224-9567-64a9aab98869"
      },
      "cell_type": "code",
      "source": [
        "for_one_user = predictions.filter(col(\"user_id\")==35982).join(books_df,\"book_id\").select(\"user_id\",\"title\",'image_url','prediction')\n",
        "for_one_user.count()"
      ],
      "execution_count": 47,
      "outputs": [
        {
          "output_type": "execute_result",
          "data": {
            "text/plain": [
              "4"
            ]
          },
          "metadata": {},
          "execution_count": 47
        }
      ]
    },
    {
      "metadata": {
        "trusted": true,
        "colab": {
          "base_uri": "https://localhost:8080/"
        },
        "id": "VMifmiSx6p0D",
        "outputId": "5f0e12c0-142d-49f3-d951-3540e73086b1"
      },
      "cell_type": "code",
      "source": [
        "for_one_user.show()"
      ],
      "execution_count": 48,
      "outputs": [
        {
          "output_type": "stream",
          "name": "stdout",
          "text": [
            "+-------+--------------------+--------------------+----------+\n",
            "|user_id|               title|           image_url|prediction|\n",
            "+-------+--------------------+--------------------+----------+\n",
            "|  35982|The Innocent Man:...|https://s.gr-asse...| 2.9320576|\n",
            "|  35982|Stranger in a Str...|https://images.gr...| 3.8685348|\n",
            "|  35982|Another Bullshit ...|https://s.gr-asse...|  3.509305|\n",
            "|  35982|           The Lover|https://images.gr...| 3.6467357|\n",
            "+-------+--------------------+--------------------+----------+\n",
            "\n"
          ]
        }
      ]
    },
    {
      "metadata": {
        "trusted": true,
        "colab": {
          "base_uri": "https://localhost:8080/"
        },
        "id": "Fnrw14FR6p0D",
        "outputId": "682da636-360e-4877-e5ea-017f179c5b4f"
      },
      "cell_type": "code",
      "source": [
        "print(\"Recommnedations by ALS algorithm \\n for user_id:35982\\n\\n\")\n",
        "for book in for_one_user.take(5):\n",
        "  print(book.title)"
      ],
      "execution_count": 49,
      "outputs": [
        {
          "output_type": "stream",
          "name": "stdout",
          "text": [
            "Recommnedations by ALS algorithm \n",
            " for user_id:35982\n",
            "\n",
            "\n",
            "The Innocent Man: Murder and Injustice in a Small Town\n",
            "Stranger in a Strange Land\n",
            "Another Bullshit Night in Suck City\n",
            "The Lover\n"
          ]
        }
      ]
    },
    {
      "metadata": {
        "trusted": true,
        "id": "67p9FY206p0D"
      },
      "cell_type": "code",
      "source": [],
      "execution_count": null,
      "outputs": []
    }
  ],
  "metadata": {
    "kernelspec": {
      "name": "python3",
      "display_name": "Python 3",
      "language": "python"
    },
    "language_info": {
      "name": "python",
      "version": "3.7.6",
      "mimetype": "text/x-python",
      "codemirror_mode": {
        "name": "ipython",
        "version": 3
      },
      "pygments_lexer": "ipython3",
      "nbconvert_exporter": "python",
      "file_extension": ".py"
    },
    "colab": {
      "provenance": []
    }
  },
  "nbformat": 4,
  "nbformat_minor": 0
}